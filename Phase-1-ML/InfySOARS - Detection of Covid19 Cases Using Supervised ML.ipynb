{
 "cells": [
  {
   "cell_type": "markdown",
   "id": "e2add149",
   "metadata": {
    "papermill": {
     "duration": 0.047165,
     "end_time": "2021-12-29T11:37:02.228610",
     "exception": false,
     "start_time": "2021-12-29T11:37:02.181445",
     "status": "completed"
    },
    "tags": []
   },
   "source": [
    "# Project - Detection of Covid19 Cases using Supervised Machine Learning "
   ]
  },
  {
   "cell_type": "code",
   "execution_count": 1,
   "id": "4e18e527",
   "metadata": {
    "_kg_hide-input": true,
    "execution": {
     "iopub.execute_input": "2021-12-29T11:37:02.337651Z",
     "iopub.status.busy": "2021-12-29T11:37:02.335680Z",
     "iopub.status.idle": "2021-12-29T11:37:02.352244Z",
     "shell.execute_reply": "2021-12-29T11:37:02.353148Z",
     "shell.execute_reply.started": "2021-12-29T09:58:15.994837Z"
    },
    "papermill": {
     "duration": 0.075746,
     "end_time": "2021-12-29T11:37:02.353627",
     "exception": false,
     "start_time": "2021-12-29T11:37:02.277881",
     "status": "completed"
    },
    "tags": []
   },
   "outputs": [
    {
     "data": {
      "text/html": [
       "\n",
       "<html>\n",
       "    <body>\n",
       "        <iframe src = \"https://atharv-chaudhari.github.io/Project-Covid-Cache/\" height = \"650px\" width = \"100%\">\n",
       "        </iframe>\n",
       "    </body>\n",
       "</html>\n"
      ],
      "text/plain": [
       "<IPython.core.display.HTML object>"
      ]
     },
     "metadata": {},
     "output_type": "display_data"
    }
   ],
   "source": [
    "%%HTML\n",
    "\n",
    "<html>\n",
    "    <body>\n",
    "        <iframe src = \"https://atharv-chaudhari.github.io/Project-Covid-Cache/\" height = \"650px\" width = \"100%\">\n",
    "        </iframe>\n",
    "    </body>\n",
    "</html>"
   ]
  },
  {
   "cell_type": "markdown",
   "id": "ebb08e94",
   "metadata": {
    "papermill": {
     "duration": 0.045571,
     "end_time": "2021-12-29T11:37:02.470415",
     "exception": false,
     "start_time": "2021-12-29T11:37:02.424844",
     "status": "completed"
    },
    "tags": []
   },
   "source": [
    "> #### [Data Source](https://data.gov.il/dataset/covid-19/resource/d337959a-020a-4ed3-84f7-fca182292308)\n",
    "\n",
    "> #### [Extracted Data Code Used for this Project](https://www.kaggle.com/mykeysid10/israel-covid-19-data-extraction#Dataset-Link) \n",
    "\n",
    "> #### Binary Classification "
   ]
  },
  {
   "cell_type": "markdown",
   "id": "9e441993",
   "metadata": {
    "papermill": {
     "duration": 0.044565,
     "end_time": "2021-12-29T11:37:02.560441",
     "exception": false,
     "start_time": "2021-12-29T11:37:02.515876",
     "status": "completed"
    },
    "tags": []
   },
   "source": [
    "# Loading Required Libraries & Exploring The Data"
   ]
  },
  {
   "cell_type": "code",
   "execution_count": 2,
   "id": "d3ca798c",
   "metadata": {
    "execution": {
     "iopub.execute_input": "2021-12-29T11:37:02.658332Z",
     "iopub.status.busy": "2021-12-29T11:37:02.657669Z",
     "iopub.status.idle": "2021-12-29T11:37:05.527627Z",
     "shell.execute_reply": "2021-12-29T11:37:05.528065Z",
     "shell.execute_reply.started": "2021-12-29T11:28:42.502870Z"
    },
    "papermill": {
     "duration": 2.922542,
     "end_time": "2021-12-29T11:37:05.528243",
     "exception": false,
     "start_time": "2021-12-29T11:37:02.605701",
     "status": "completed"
    },
    "tags": []
   },
   "outputs": [],
   "source": [
    "# Data Preprocessing\n",
    "\n",
    "import numpy as np\n",
    "import pandas as pd\n",
    "\n",
    "# Data Analysis\n",
    "\n",
    "import matplotlib.pyplot as plt\n",
    "import plotly.express as px\n",
    "import missingno as msno\n",
    "\n",
    "# Feature Selection\n",
    "\n",
    "import scipy.stats as stats\n",
    "from scipy.stats import chi2_contingency\n",
    "\n",
    "# Data Modeling\n",
    "\n",
    "from sklearn.model_selection import train_test_split\n",
    "from imblearn.under_sampling import RandomUnderSampler \n",
    "from sklearn.model_selection import GridSearchCV\n",
    "from sklearn.linear_model import LogisticRegression\n",
    "from sklearn.ensemble import RandomForestClassifier\n",
    "from xgboost import XGBClassifier\n",
    "from catboost import CatBoostClassifier\n",
    "\n",
    "# Model Evaluation & saving the model\n",
    "\n",
    "from sklearn.metrics import classification_report, confusion_matrix, ConfusionMatrixDisplay\n",
    "import pickle"
   ]
  },
  {
   "cell_type": "code",
   "execution_count": 3,
   "id": "8d2bb8b9",
   "metadata": {
    "execution": {
     "iopub.execute_input": "2021-12-29T11:37:05.621599Z",
     "iopub.status.busy": "2021-12-29T11:37:05.621003Z",
     "iopub.status.idle": "2021-12-29T11:37:11.795334Z",
     "shell.execute_reply": "2021-12-29T11:37:11.794354Z",
     "shell.execute_reply.started": "2021-12-29T11:29:13.557977Z"
    },
    "papermill": {
     "duration": 6.223346,
     "end_time": "2021-12-29T11:37:11.795531",
     "exception": false,
     "start_time": "2021-12-29T11:37:05.572185",
     "status": "completed"
    },
    "tags": []
   },
   "outputs": [
    {
     "data": {
      "text/html": [
       "<div>\n",
       "<style scoped>\n",
       "    .dataframe tbody tr th:only-of-type {\n",
       "        vertical-align: middle;\n",
       "    }\n",
       "\n",
       "    .dataframe tbody tr th {\n",
       "        vertical-align: top;\n",
       "    }\n",
       "\n",
       "    .dataframe thead th {\n",
       "        text-align: right;\n",
       "    }\n",
       "</style>\n",
       "<table border=\"1\" class=\"dataframe\">\n",
       "  <thead>\n",
       "    <tr style=\"text-align: right;\">\n",
       "      <th></th>\n",
       "      <th>test_date</th>\n",
       "      <th>cough</th>\n",
       "      <th>fever</th>\n",
       "      <th>sore_throat</th>\n",
       "      <th>shortness_of_breath</th>\n",
       "      <th>head_ache</th>\n",
       "      <th>corona_result</th>\n",
       "      <th>age_60_and_above</th>\n",
       "      <th>gender</th>\n",
       "      <th>test_indication</th>\n",
       "    </tr>\n",
       "  </thead>\n",
       "  <tbody>\n",
       "    <tr>\n",
       "      <th>0</th>\n",
       "      <td>2021-10-11</td>\n",
       "      <td>0</td>\n",
       "      <td>0</td>\n",
       "      <td>0</td>\n",
       "      <td>0</td>\n",
       "      <td>0</td>\n",
       "      <td>Negative</td>\n",
       "      <td>Yes</td>\n",
       "      <td>female</td>\n",
       "      <td>Other</td>\n",
       "    </tr>\n",
       "    <tr>\n",
       "      <th>1</th>\n",
       "      <td>2021-10-11</td>\n",
       "      <td>0</td>\n",
       "      <td>0</td>\n",
       "      <td>0</td>\n",
       "      <td>0</td>\n",
       "      <td>0</td>\n",
       "      <td>Negative</td>\n",
       "      <td>Yes</td>\n",
       "      <td>male</td>\n",
       "      <td>Other</td>\n",
       "    </tr>\n",
       "    <tr>\n",
       "      <th>2</th>\n",
       "      <td>2021-10-11</td>\n",
       "      <td>0</td>\n",
       "      <td>0</td>\n",
       "      <td>0</td>\n",
       "      <td>0</td>\n",
       "      <td>0</td>\n",
       "      <td>Negative</td>\n",
       "      <td>No</td>\n",
       "      <td>female</td>\n",
       "      <td>Other</td>\n",
       "    </tr>\n",
       "    <tr>\n",
       "      <th>3</th>\n",
       "      <td>2021-10-11</td>\n",
       "      <td>0</td>\n",
       "      <td>0</td>\n",
       "      <td>0</td>\n",
       "      <td>0</td>\n",
       "      <td>0</td>\n",
       "      <td>Negative</td>\n",
       "      <td>Yes</td>\n",
       "      <td>female</td>\n",
       "      <td>Other</td>\n",
       "    </tr>\n",
       "    <tr>\n",
       "      <th>4</th>\n",
       "      <td>2021-10-11</td>\n",
       "      <td>0</td>\n",
       "      <td>0</td>\n",
       "      <td>0</td>\n",
       "      <td>0</td>\n",
       "      <td>0</td>\n",
       "      <td>Negative</td>\n",
       "      <td>Yes</td>\n",
       "      <td>female</td>\n",
       "      <td>Other</td>\n",
       "    </tr>\n",
       "  </tbody>\n",
       "</table>\n",
       "</div>"
      ],
      "text/plain": [
       "    test_date  cough  fever  sore_throat  shortness_of_breath  head_ache  \\\n",
       "0  2021-10-11      0      0            0                    0          0   \n",
       "1  2021-10-11      0      0            0                    0          0   \n",
       "2  2021-10-11      0      0            0                    0          0   \n",
       "3  2021-10-11      0      0            0                    0          0   \n",
       "4  2021-10-11      0      0            0                    0          0   \n",
       "\n",
       "  corona_result age_60_and_above  gender test_indication  \n",
       "0      Negative              Yes  female           Other  \n",
       "1      Negative              Yes    male           Other  \n",
       "2      Negative               No  female           Other  \n",
       "3      Negative              Yes  female           Other  \n",
       "4      Negative              Yes  female           Other  "
      ]
     },
     "execution_count": 3,
     "metadata": {},
     "output_type": "execute_result"
    }
   ],
   "source": [
    "# Loading the Data\n",
    "\n",
    "data = pd.read_csv(\"../input/covid19-dataset-for-year-2020/covid_data_2020-2021.csv\")\n",
    "data.head()"
   ]
  },
  {
   "cell_type": "code",
   "execution_count": 4,
   "id": "d918d33c",
   "metadata": {
    "execution": {
     "iopub.execute_input": "2021-12-29T11:37:11.896630Z",
     "iopub.status.busy": "2021-12-29T11:37:11.895938Z",
     "iopub.status.idle": "2021-12-29T11:37:11.911653Z",
     "shell.execute_reply": "2021-12-29T11:37:11.911150Z",
     "shell.execute_reply.started": "2021-12-29T11:29:21.529272Z"
    },
    "papermill": {
     "duration": 0.069192,
     "end_time": "2021-12-29T11:37:11.911802",
     "exception": false,
     "start_time": "2021-12-29T11:37:11.842610",
     "status": "completed"
    },
    "tags": []
   },
   "outputs": [
    {
     "name": "stdout",
     "output_type": "stream",
     "text": [
      "<class 'pandas.core.frame.DataFrame'>\n",
      "RangeIndex: 5861480 entries, 0 to 5861479\n",
      "Data columns (total 10 columns):\n",
      " #   Column               Dtype \n",
      "---  ------               ----- \n",
      " 0   test_date            object\n",
      " 1   cough                int64 \n",
      " 2   fever                int64 \n",
      " 3   sore_throat          int64 \n",
      " 4   shortness_of_breath  int64 \n",
      " 5   head_ache            int64 \n",
      " 6   corona_result        object\n",
      " 7   age_60_and_above     object\n",
      " 8   gender               object\n",
      " 9   test_indication      object\n",
      "dtypes: int64(5), object(5)\n",
      "memory usage: 447.2+ MB\n"
     ]
    }
   ],
   "source": [
    "data.info()"
   ]
  },
  {
   "cell_type": "markdown",
   "id": "4e4a022a",
   "metadata": {
    "papermill": {
     "duration": 0.044584,
     "end_time": "2021-12-29T11:37:12.000955",
     "exception": false,
     "start_time": "2021-12-29T11:37:11.956371",
     "status": "completed"
    },
    "tags": []
   },
   "source": [
    "> #### Dataset has 5861480 records and 10 features."
   ]
  },
  {
   "cell_type": "code",
   "execution_count": 5,
   "id": "983a8ff0",
   "metadata": {
    "execution": {
     "iopub.execute_input": "2021-12-29T11:37:12.095777Z",
     "iopub.status.busy": "2021-12-29T11:37:12.095097Z",
     "iopub.status.idle": "2021-12-29T11:37:13.711019Z",
     "shell.execute_reply": "2021-12-29T11:37:13.710384Z",
     "shell.execute_reply.started": "2021-12-29T11:29:21.553525Z"
    },
    "papermill": {
     "duration": 1.665054,
     "end_time": "2021-12-29T11:37:13.711160",
     "exception": false,
     "start_time": "2021-12-29T11:37:12.046106",
     "status": "completed"
    },
    "tags": []
   },
   "outputs": [
    {
     "name": "stdout",
     "output_type": "stream",
     "text": [
      "Feature: cough with [0 1] Levels\n",
      "Feature: fever with [0 1] Levels\n",
      "Feature: sore_throat with [0 1] Levels\n",
      "Feature: shortness_of_breath with [0 1] Levels\n",
      "Feature: head_ache with [0 1] Levels\n",
      "Feature: corona_result with ['Negative' 'Positive'] Levels\n",
      "Feature: age_60_and_above with ['Yes' 'No'] Levels\n",
      "Feature: gender with ['female' 'male'] Levels\n",
      "Feature: test_indication with ['Other' 'Contact with confirmed' 'Abroad'] Levels\n"
     ]
    }
   ],
   "source": [
    "# Checking the levels for categorical features\n",
    "\n",
    "def show(data):\n",
    "  for i in data.columns[1:]:\n",
    "    print(\"Feature: {} with {} Levels\".format(i,data[i].unique()))\n",
    "\n",
    "show(data)"
   ]
  },
  {
   "cell_type": "markdown",
   "id": "01dc08f8",
   "metadata": {
    "papermill": {
     "duration": 0.049248,
     "end_time": "2021-12-29T11:37:13.805939",
     "exception": false,
     "start_time": "2021-12-29T11:37:13.756691",
     "status": "completed"
    },
    "tags": []
   },
   "source": [
    "> #### Target Feature is Corona_result.\n",
    "\n",
    "> #### Data is completely Categorical except test_date feature."
   ]
  },
  {
   "cell_type": "markdown",
   "id": "f6a45e80",
   "metadata": {
    "papermill": {
     "duration": 0.046558,
     "end_time": "2021-12-29T11:37:13.898970",
     "exception": false,
     "start_time": "2021-12-29T11:37:13.852412",
     "status": "completed"
    },
    "tags": []
   },
   "source": [
    "# Exploratory Data Analysis using Tableau"
   ]
  },
  {
   "cell_type": "code",
   "execution_count": 6,
   "id": "209e5851",
   "metadata": {
    "execution": {
     "iopub.execute_input": "2021-12-29T11:37:13.996916Z",
     "iopub.status.busy": "2021-12-29T11:37:13.996233Z",
     "iopub.status.idle": "2021-12-29T11:37:40.983142Z",
     "shell.execute_reply": "2021-12-29T11:37:40.982270Z",
     "shell.execute_reply.started": "2021-12-29T11:29:23.634121Z"
    },
    "papermill": {
     "duration": 27.036863,
     "end_time": "2021-12-29T11:37:40.983303",
     "exception": false,
     "start_time": "2021-12-29T11:37:13.946440",
     "status": "completed"
    },
    "tags": []
   },
   "outputs": [
    {
     "data": {
      "text/plain": [
       "<AxesSubplot:>"
      ]
     },
     "execution_count": 6,
     "metadata": {},
     "output_type": "execute_result"
    },
    {
     "data": {
      "image/png": "[encoded data removed]",
      "text/plain": [
       "<Figure size 1800x720 with 2 Axes>"
      ]
     },
     "metadata": {
      "needs_background": "light"
     },
     "output_type": "display_data"
    }
   ],
   "source": [
    "# Checking for Null values by plotting heatmap\n",
    "\n",
    "msno.matrix(data)"
   ]
  },
  {
   "cell_type": "code",
   "execution_count": 7,
   "id": "c7a614a5",
   "metadata": {
    "execution": {
     "iopub.execute_input": "2021-12-29T11:37:41.085577Z",
     "iopub.status.busy": "2021-12-29T11:37:41.084850Z",
     "iopub.status.idle": "2021-12-29T11:37:42.450922Z",
     "shell.execute_reply": "2021-12-29T11:37:42.450379Z",
     "shell.execute_reply.started": "2021-12-29T11:29:51.453430Z"
    },
    "papermill": {
     "duration": 1.41784,
     "end_time": "2021-12-29T11:37:42.451064",
     "exception": false,
     "start_time": "2021-12-29T11:37:41.033224",
     "status": "completed"
    },
    "tags": []
   },
   "outputs": [
    {
     "data": {
      "text/plain": [
       "test_date              0\n",
       "cough                  0\n",
       "fever                  0\n",
       "sore_throat            0\n",
       "shortness_of_breath    0\n",
       "head_ache              0\n",
       "corona_result          0\n",
       "age_60_and_above       0\n",
       "gender                 0\n",
       "test_indication        0\n",
       "dtype: int64"
      ]
     },
     "execution_count": 7,
     "metadata": {},
     "output_type": "execute_result"
    }
   ],
   "source": [
    "data.isnull().sum()"
   ]
  },
  {
   "cell_type": "markdown",
   "id": "54be373c",
   "metadata": {
    "papermill": {
     "duration": 0.050518,
     "end_time": "2021-12-29T11:37:42.550722",
     "exception": false,
     "start_time": "2021-12-29T11:37:42.500204",
     "status": "completed"
    },
    "tags": []
   },
   "source": [
    "> #### There are no missing values in the data."
   ]
  },
  {
   "cell_type": "code",
   "execution_count": 8,
   "id": "d31e7eb7",
   "metadata": {
    "_kg_hide-input": true,
    "execution": {
     "iopub.execute_input": "2021-12-29T11:37:42.652123Z",
     "iopub.status.busy": "2021-12-29T11:37:42.651431Z",
     "iopub.status.idle": "2021-12-29T11:37:42.656973Z",
     "shell.execute_reply": "2021-12-29T11:37:42.657442Z",
     "shell.execute_reply.started": "2021-12-29T11:29:54.687840Z"
    },
    "papermill": {
     "duration": 0.057668,
     "end_time": "2021-12-29T11:37:42.657629",
     "exception": false,
     "start_time": "2021-12-29T11:37:42.599961",
     "status": "completed"
    },
    "tags": []
   },
   "outputs": [
    {
     "data": {
      "text/html": [
       "\n",
       "<div class='tableauPlaceholder' id='viz1639243913844' style='position: relative'>\n",
       "    <object class='tableauViz'  style='display:none;'>\n",
       "        <param name='host_url' value='https%3A%2F%2Fpublic.tableau.com%2F' /> \n",
       "        <param name='embed_code_version' value='3' /> \n",
       "        <param name='site_root' value='' />\n",
       "        <param name='name' value='IsraelCovidDataAnalysis_16391222654010&#47;Covid19Dashboard' />\n",
       "        <param name='tabs' value='no' />\n",
       "        <param name='toolbar' value='yes' />\n",
       "        <param name='animate_transition' value='yes' />\n",
       "        <param name='display_static_image' value='yes' />\n",
       "        <param name='display_spinner' value='yes' />\n",
       "        <param name='display_overlay' value='yes' />\n",
       "        <param name='display_count' value='yes' />\n",
       "        <param name='language' value='en-US' />\n",
       "    </object>\n",
       "</div>                \n",
       "\n",
       "<script type='text/javascript'>                    \n",
       "    var divElement = document.getElementById('viz1639243913844');                    \n",
       "    var vizElement = divElement.getElementsByTagName('object')[0];                    \n",
       "    if ( divElement.offsetWidth > 800 ) { \n",
       "        vizElement.style.width='100%';\n",
       "        vizElement.style.height=(divElement.offsetWidth*0.75)+'px';\n",
       "    } \n",
       "    else if ( divElement.offsetWidth > 500 ) { \n",
       "        vizElement.style.width='100%';\n",
       "        vizElement.style.height=(divElement.offsetWidth*0.75)+'px';\n",
       "    } \n",
       "    else { \n",
       "        vizElement.style.width='100%';\n",
       "        vizElement.style.height='2327px';\n",
       "    }                     \n",
       "    var scriptElement = document.createElement('script');                    \n",
       "    scriptElement.src = 'https://public.tableau.com/javascripts/api/viz_v1.js';                    \n",
       "    vizElement.parentNode.insertBefore(scriptElement, vizElement);                \n",
       "</script>\n"
      ],
      "text/plain": [
       "<IPython.core.display.HTML object>"
      ]
     },
     "metadata": {},
     "output_type": "display_data"
    }
   ],
   "source": [
    "%%HTML\n",
    "\n",
    "<div class='tableauPlaceholder' id='viz1639243913844' style='position: relative'>\n",
    "    <object class='tableauViz'  style='display:none;'>\n",
    "        <param name='host_url' value='https%3A%2F%2Fpublic.tableau.com%2F' /> \n",
    "        <param name='embed_code_version' value='3' /> \n",
    "        <param name='site_root' value='' />\n",
    "        <param name='name' value='IsraelCovidDataAnalysis_16391222654010&#47;Covid19Dashboard' />\n",
    "        <param name='tabs' value='no' />\n",
    "        <param name='toolbar' value='yes' />\n",
    "        <param name='animate_transition' value='yes' />\n",
    "        <param name='display_static_image' value='yes' />\n",
    "        <param name='display_spinner' value='yes' />\n",
    "        <param name='display_overlay' value='yes' />\n",
    "        <param name='display_count' value='yes' />\n",
    "        <param name='language' value='en-US' />\n",
    "    </object>\n",
    "</div>                \n",
    "\n",
    "<script type='text/javascript'>                    \n",
    "    var divElement = document.getElementById('viz1639243913844');                    \n",
    "    var vizElement = divElement.getElementsByTagName('object')[0];                    \n",
    "    if ( divElement.offsetWidth > 800 ) { \n",
    "        vizElement.style.width='100%';\n",
    "        vizElement.style.height=(divElement.offsetWidth*0.75)+'px';\n",
    "    } \n",
    "    else if ( divElement.offsetWidth > 500 ) { \n",
    "        vizElement.style.width='100%';\n",
    "        vizElement.style.height=(divElement.offsetWidth*0.75)+'px';\n",
    "    } \n",
    "    else { \n",
    "        vizElement.style.width='100%';\n",
    "        vizElement.style.height='2327px';\n",
    "    }                     \n",
    "    var scriptElement = document.createElement('script');                    \n",
    "    scriptElement.src = 'https://public.tableau.com/javascripts/api/viz_v1.js';                    \n",
    "    vizElement.parentNode.insertBefore(scriptElement, vizElement);                \n",
    "</script>"
   ]
  },
  {
   "cell_type": "markdown",
   "id": "716b1001",
   "metadata": {
    "papermill": {
     "duration": 0.048952,
     "end_time": "2021-12-29T11:37:42.756315",
     "exception": false,
     "start_time": "2021-12-29T11:37:42.707363",
     "status": "completed"
    },
    "tags": []
   },
   "source": [
    "> #### A Tableau Dashboard consisting the EDA of data. \n",
    "\n",
    "> #### Use the filters and check the graphs for specified filters.\n",
    "\n",
    "> #### [Tableau Dashboard Link](https://public.tableau.com/views/IsraelCovidDataAnalysis_16391222654010/Covid19Dashboard?:language=en-US&:display_count=n&:origin=viz_share_link)"
   ]
  },
  {
   "cell_type": "markdown",
   "id": "0d9fbeaa",
   "metadata": {
    "papermill": {
     "duration": 0.048861,
     "end_time": "2021-12-29T11:37:42.854391",
     "exception": false,
     "start_time": "2021-12-29T11:37:42.805530",
     "status": "completed"
    },
    "tags": []
   },
   "source": [
    "![](https://raw.githubusercontent.com/mykeysid10/Project-Covid-Cache/main/Phase%201%20Images/Tableau.jpeg)"
   ]
  },
  {
   "cell_type": "markdown",
   "id": "d8c98928",
   "metadata": {
    "papermill": {
     "duration": 0.048642,
     "end_time": "2021-12-29T11:37:42.952370",
     "exception": false,
     "start_time": "2021-12-29T11:37:42.903728",
     "status": "completed"
    },
    "tags": []
   },
   "source": [
    "# Encoding The Features"
   ]
  },
  {
   "cell_type": "code",
   "execution_count": 9,
   "id": "efeca03c",
   "metadata": {
    "execution": {
     "iopub.execute_input": "2021-12-29T11:37:43.057162Z",
     "iopub.status.busy": "2021-12-29T11:37:43.053750Z",
     "iopub.status.idle": "2021-12-29T11:37:47.628945Z",
     "shell.execute_reply": "2021-12-29T11:37:47.628343Z",
     "shell.execute_reply.started": "2021-12-29T11:29:54.697119Z"
    },
    "papermill": {
     "duration": 4.626382,
     "end_time": "2021-12-29T11:37:47.629096",
     "exception": false,
     "start_time": "2021-12-29T11:37:43.002714",
     "status": "completed"
    },
    "tags": []
   },
   "outputs": [],
   "source": [
    "# Label Encoding\n",
    "\n",
    "data['corona_result'] = data['corona_result'].map({'Negative': 0, 'Positive': 1})\n",
    "data['gender'] = data['gender'].map({'female': 0, 'male': 1})\n",
    "data['age_60_and_above'] = data['age_60_and_above'].map({'No': 0, 'Yes': 1})\n",
    "\n",
    "# One Hot Encoding \n",
    "\n",
    "data['test_indication'] = data['test_indication'].map({'Abroad': 'abroad', 'Contact with confirmed': 'contact_with_covid_positive_patient', 'Other': 'other'})\n",
    "data = pd.get_dummies(data, columns = ['test_indication'])"
   ]
  },
  {
   "cell_type": "code",
   "execution_count": 10,
   "id": "3863ca45",
   "metadata": {
    "execution": {
     "iopub.execute_input": "2021-12-29T11:37:47.732935Z",
     "iopub.status.busy": "2021-12-29T11:37:47.732214Z",
     "iopub.status.idle": "2021-12-29T11:37:47.971130Z",
     "shell.execute_reply": "2021-12-29T11:37:47.971834Z",
     "shell.execute_reply.started": "2021-12-29T11:29:59.563865Z"
    },
    "papermill": {
     "duration": 0.292777,
     "end_time": "2021-12-29T11:37:47.972024",
     "exception": false,
     "start_time": "2021-12-29T11:37:47.679247",
     "status": "completed"
    },
    "tags": []
   },
   "outputs": [
    {
     "data": {
      "text/html": [
       "<div>\n",
       "<style scoped>\n",
       "    .dataframe tbody tr th:only-of-type {\n",
       "        vertical-align: middle;\n",
       "    }\n",
       "\n",
       "    .dataframe tbody tr th {\n",
       "        vertical-align: top;\n",
       "    }\n",
       "\n",
       "    .dataframe thead th {\n",
       "        text-align: right;\n",
       "    }\n",
       "</style>\n",
       "<table border=\"1\" class=\"dataframe\">\n",
       "  <thead>\n",
       "    <tr style=\"text-align: right;\">\n",
       "      <th></th>\n",
       "      <th>cough</th>\n",
       "      <th>fever</th>\n",
       "      <th>sore_throat</th>\n",
       "      <th>shortness_of_breath</th>\n",
       "      <th>head_ache</th>\n",
       "      <th>corona_result</th>\n",
       "      <th>age_60_and_above</th>\n",
       "      <th>gender</th>\n",
       "      <th>abroad</th>\n",
       "      <th>contact_with_covid_positive_patient</th>\n",
       "    </tr>\n",
       "  </thead>\n",
       "  <tbody>\n",
       "    <tr>\n",
       "      <th>0</th>\n",
       "      <td>0</td>\n",
       "      <td>0</td>\n",
       "      <td>0</td>\n",
       "      <td>0</td>\n",
       "      <td>0</td>\n",
       "      <td>0</td>\n",
       "      <td>1</td>\n",
       "      <td>0</td>\n",
       "      <td>0</td>\n",
       "      <td>0</td>\n",
       "    </tr>\n",
       "    <tr>\n",
       "      <th>1</th>\n",
       "      <td>0</td>\n",
       "      <td>0</td>\n",
       "      <td>0</td>\n",
       "      <td>0</td>\n",
       "      <td>0</td>\n",
       "      <td>0</td>\n",
       "      <td>1</td>\n",
       "      <td>1</td>\n",
       "      <td>0</td>\n",
       "      <td>0</td>\n",
       "    </tr>\n",
       "    <tr>\n",
       "      <th>2</th>\n",
       "      <td>0</td>\n",
       "      <td>0</td>\n",
       "      <td>0</td>\n",
       "      <td>0</td>\n",
       "      <td>0</td>\n",
       "      <td>0</td>\n",
       "      <td>0</td>\n",
       "      <td>0</td>\n",
       "      <td>0</td>\n",
       "      <td>0</td>\n",
       "    </tr>\n",
       "    <tr>\n",
       "      <th>3</th>\n",
       "      <td>0</td>\n",
       "      <td>0</td>\n",
       "      <td>0</td>\n",
       "      <td>0</td>\n",
       "      <td>0</td>\n",
       "      <td>0</td>\n",
       "      <td>1</td>\n",
       "      <td>0</td>\n",
       "      <td>0</td>\n",
       "      <td>0</td>\n",
       "    </tr>\n",
       "    <tr>\n",
       "      <th>4</th>\n",
       "      <td>0</td>\n",
       "      <td>0</td>\n",
       "      <td>0</td>\n",
       "      <td>0</td>\n",
       "      <td>0</td>\n",
       "      <td>0</td>\n",
       "      <td>1</td>\n",
       "      <td>0</td>\n",
       "      <td>0</td>\n",
       "      <td>0</td>\n",
       "    </tr>\n",
       "  </tbody>\n",
       "</table>\n",
       "</div>"
      ],
      "text/plain": [
       "   cough  fever  sore_throat  shortness_of_breath  head_ache  corona_result  \\\n",
       "0      0      0            0                    0          0              0   \n",
       "1      0      0            0                    0          0              0   \n",
       "2      0      0            0                    0          0              0   \n",
       "3      0      0            0                    0          0              0   \n",
       "4      0      0            0                    0          0              0   \n",
       "\n",
       "   age_60_and_above  gender  abroad  contact_with_covid_positive_patient  \n",
       "0                 1       0       0                                    0  \n",
       "1                 1       1       0                                    0  \n",
       "2                 0       0       0                                    0  \n",
       "3                 1       0       0                                    0  \n",
       "4                 1       0       0                                    0  "
      ]
     },
     "execution_count": 10,
     "metadata": {},
     "output_type": "execute_result"
    }
   ],
   "source": [
    "# Renaming the encoded feature names & dropping test_indication_other & test_date feature\n",
    "\n",
    "data.rename({'test_indication_abroad': 'abroad',\n",
    "             'test_indication_contact_with_covid_positive_patient': 'contact_with_covid_positive_patient'},\n",
    "             axis='columns', inplace = True)\n",
    "\n",
    "data.drop(['test_date','test_indication_other'], axis = 1, inplace = True)\n",
    "data.head()"
   ]
  },
  {
   "cell_type": "markdown",
   "id": "0400f9d9",
   "metadata": {
    "papermill": {
     "duration": 0.050666,
     "end_time": "2021-12-29T11:37:48.073768",
     "exception": false,
     "start_time": "2021-12-29T11:37:48.023102",
     "status": "completed"
    },
    "tags": []
   },
   "source": [
    "> #### Dropped test_indication = other because it is not specified what other means in this [PDF](https://github.com/Atharv-Chaudhari/Sem-7-Covid/blob/main/Phase-1-ML/Dataset%20Description.pdf).\n",
    "\n",
    "> #### Dropped test_date because our objective is to detect if a patient is Covid Positive or Negative based on Symptoms, Gender, Age & Test Indications."
   ]
  },
  {
   "cell_type": "code",
   "execution_count": 11,
   "id": "64323dde",
   "metadata": {
    "execution": {
     "iopub.execute_input": "2021-12-29T11:37:48.181023Z",
     "iopub.status.busy": "2021-12-29T11:37:48.180324Z",
     "iopub.status.idle": "2021-12-29T11:37:51.277067Z",
     "shell.execute_reply": "2021-12-29T11:37:51.276439Z",
     "shell.execute_reply.started": "2021-12-29T11:29:59.728830Z"
    },
    "papermill": {
     "duration": 3.150458,
     "end_time": "2021-12-29T11:37:51.277226",
     "exception": false,
     "start_time": "2021-12-29T11:37:48.126768",
     "status": "completed"
    },
    "tags": []
   },
   "outputs": [
    {
     "data": {
      "text/html": [
       "        <script type=\"text/javascript\">\n",
       "        window.PlotlyConfig = {MathJaxConfig: 'local'};\n",
       "        if (window.MathJax) {MathJax.Hub.Config({SVG: {font: \"STIX-Web\"}});}\n",
       "        if (typeof require !== 'undefined') {\n",
       "        require.undef(\"plotly\");\n",
       "        requirejs.config({\n",
       "            paths: {\n",
       "                'plotly': ['https://cdn.plot.ly/plotly-2.6.3.min']\n",
       "            }\n",
       "        });\n",
       "        require(['plotly'], function(Plotly) {\n",
       "            window._Plotly = Plotly;\n",
       "        });\n",
       "        }\n",
       "        </script>\n",
       "        "
      ]
     },
     "metadata": {},
     "output_type": "display_data"
    },
    {
     "data": {
      "text/html": [
       "<div>                            <div id=\"91024015-329d-4d3e-be7b-81f0021c6a70\" class=\"plotly-graph-div\" style=\"height:525px; width:100%;\"></div>            <script type=\"text/javascript\">                require([\"plotly\"], function(Plotly) {                    window.PLOTLYENV=window.PLOTLYENV || {};                                    if (document.getElementById(\"91024015-329d-4d3e-be7b-81f0021c6a70\")) {                    Plotly.newPlot(                        \"91024015-329d-4d3e-be7b-81f0021c6a70\",                        [{\"coloraxis\":\"coloraxis\",\"name\":\"0\",\"x\":[\"cough\",\"fever\",\"sore_throat\",\"shortness_of_breath\",\"head_ache\",\"corona_result\",\"age_60_and_above\",\"gender\",\"abroad\",\"contact_with_covid_positive_patient\"],\"y\":[\"cough\",\"fever\",\"sore_throat\",\"shortness_of_breath\",\"head_ache\",\"corona_result\",\"age_60_and_above\",\"gender\",\"abroad\",\"contact_with_covid_positive_patient\"],\"z\":[[1.0,0.3560784332962189,0.28138469327712545,0.17116129007030972,0.32901511079784745,0.22965428746827982,-0.0005769990587999812,-0.0175533717732006,0.13919782990679588,0.29539917335233756],[0.3560784332962189,1.0,0.21751232620739255,0.1290233615375195,0.31540192286403546,0.23687057270984746,-0.00717282538242803,0.0033387329372887103,0.06948977663837691,0.26871825675972766],[0.28138469327712545,0.21751232620739255,1.0,0.1300324838979195,0.33179341648238275,0.16901267037155404,-0.018754496859211944,-0.028611967626837365,0.013617264121598577,0.22249398783098995],[0.17116129007030972,0.1290233615375195,0.1300324838979195,1.0,0.14762163568715048,0.10212962339786134,0.00745756866924029,-0.013696507705027196,0.011389701918023446,0.09461042354852238],[0.32901511079784745,0.31540192286403546,0.33179341648238275,0.14762163568715048,1.0,0.24888006300954427,-0.032147889555159716,-0.02679036580027233,0.008482260770081344,0.32883612115971456],[0.22965428746827982,0.23687057270984746,0.16901267037155404,0.10212962339786134,0.24888006300954427,1.0,-0.00749606536322347,0.008121146178039988,0.004795520241489712,0.3742652918876838],[-0.0005769990587999812,-0.00717282538242803,-0.018754496859211944,0.00745756866924029,-0.032147889555159716,-0.00749606536322347,1.0,-0.011355094882359133,-0.002031275389496276,-0.04100090918406032],[-0.0175533717732006,0.0033387329372887103,-0.028611967626837365,-0.013696507705027196,-0.02679036580027233,0.008121146178039988,-0.011355094882359133,1.0,0.0056452076548524,-0.014340588008522346],[0.13919782990679588,0.06948977663837691,0.013617264121598577,0.011389701918023446,0.008482260770081344,0.004795520241489712,-0.002031275389496276,0.0056452076548524,1.0,-0.0165521210860788],[0.29539917335233756,0.26871825675972766,0.22249398783098995,0.09461042354852238,0.32883612115971456,0.3742652918876838,-0.04100090918406032,-0.014340588008522346,-0.0165521210860788,1.0]],\"type\":\"heatmap\",\"xaxis\":\"x\",\"yaxis\":\"y\",\"hovertemplate\":\"x: %{x}<br>y: %{y}<br>color: %{z}<extra></extra>\"}],                        {\"template\":{\"data\":{\"bar\":[{\"error_x\":{\"color\":\"#2a3f5f\"},\"error_y\":{\"color\":\"#2a3f5f\"},\"marker\":{\"line\":{\"color\":\"#E5ECF6\",\"width\":0.5},\"pattern\":{\"fillmode\":\"overlay\",\"size\":10,\"solidity\":0.2}},\"type\":\"bar\"}],\"barpolar\":[{\"marker\":{\"line\":{\"color\":\"#E5ECF6\",\"width\":0.5},\"pattern\":{\"fillmode\":\"overlay\",\"size\":10,\"solidity\":0.2}},\"type\":\"barpolar\"}],\"carpet\":[{\"aaxis\":{\"endlinecolor\":\"#2a3f5f\",\"gridcolor\":\"white\",\"linecolor\":\"white\",\"minorgridcolor\":\"white\",\"startlinecolor\":\"#2a3f5f\"},\"baxis\":{\"endlinecolor\":\"#2a3f5f\",\"gridcolor\":\"white\",\"linecolor\":\"white\",\"minorgridcolor\":\"white\",\"startlinecolor\":\"#2a3f5f\"},\"type\":\"carpet\"}],\"choropleth\":[{\"colorbar\":{\"outlinewidth\":0,\"ticks\":\"\"},\"type\":\"choropleth\"}],\"contour\":[{\"colorbar\":{\"outlinewidth\":0,\"ticks\":\"\"},\"colorscale\":[[0.0,\"#0d0887\"],[0.1111111111111111,\"#46039f\"],[0.2222222222222222,\"#7201a8\"],[0.3333333333333333,\"#9c179e\"],[0.4444444444444444,\"#bd3786\"],[0.5555555555555556,\"#d8576b\"],[0.6666666666666666,\"#ed7953\"],[0.7777777777777778,\"#fb9f3a\"],[0.8888888888888888,\"#fdca26\"],[1.0,\"#f0f921\"]],\"type\":\"contour\"}],\"contourcarpet\":[{\"colorbar\":{\"outlinewidth\":0,\"ticks\":\"\"},\"type\":\"contourcarpet\"}],\"heatmap\":[{\"colorbar\":{\"outlinewidth\":0,\"ticks\":\"\"},\"colorscale\":[[0.0,\"#0d0887\"],[0.1111111111111111,\"#46039f\"],[0.2222222222222222,\"#7201a8\"],[0.3333333333333333,\"#9c179e\"],[0.4444444444444444,\"#bd3786\"],[0.5555555555555556,\"#d8576b\"],[0.6666666666666666,\"#ed7953\"],[0.7777777777777778,\"#fb9f3a\"],[0.8888888888888888,\"#fdca26\"],[1.0,\"#f0f921\"]],\"type\":\"heatmap\"}],\"heatmapgl\":[{\"colorbar\":{\"outlinewidth\":0,\"ticks\":\"\"},\"colorscale\":[[0.0,\"#0d0887\"],[0.1111111111111111,\"#46039f\"],[0.2222222222222222,\"#7201a8\"],[0.3333333333333333,\"#9c179e\"],[0.4444444444444444,\"#bd3786\"],[0.5555555555555556,\"#d8576b\"],[0.6666666666666666,\"#ed7953\"],[0.7777777777777778,\"#fb9f3a\"],[0.8888888888888888,\"#fdca26\"],[1.0,\"#f0f921\"]],\"type\":\"heatmapgl\"}],\"histogram\":[{\"marker\":{\"pattern\":{\"fillmode\":\"overlay\",\"size\":10,\"solidity\":0.2}},\"type\":\"histogram\"}],\"histogram2d\":[{\"colorbar\":{\"outlinewidth\":0,\"ticks\":\"\"},\"colorscale\":[[0.0,\"#0d0887\"],[0.1111111111111111,\"#46039f\"],[0.2222222222222222,\"#7201a8\"],[0.3333333333333333,\"#9c179e\"],[0.4444444444444444,\"#bd3786\"],[0.5555555555555556,\"#d8576b\"],[0.6666666666666666,\"#ed7953\"],[0.7777777777777778,\"#fb9f3a\"],[0.8888888888888888,\"#fdca26\"],[1.0,\"#f0f921\"]],\"type\":\"histogram2d\"}],\"histogram2dcontour\":[{\"colorbar\":{\"outlinewidth\":0,\"ticks\":\"\"},\"colorscale\":[[0.0,\"#0d0887\"],[0.1111111111111111,\"#46039f\"],[0.2222222222222222,\"#7201a8\"],[0.3333333333333333,\"#9c179e\"],[0.4444444444444444,\"#bd3786\"],[0.5555555555555556,\"#d8576b\"],[0.6666666666666666,\"#ed7953\"],[0.7777777777777778,\"#fb9f3a\"],[0.8888888888888888,\"#fdca26\"],[1.0,\"#f0f921\"]],\"type\":\"histogram2dcontour\"}],\"mesh3d\":[{\"colorbar\":{\"outlinewidth\":0,\"ticks\":\"\"},\"type\":\"mesh3d\"}],\"parcoords\":[{\"line\":{\"colorbar\":{\"outlinewidth\":0,\"ticks\":\"\"}},\"type\":\"parcoords\"}],\"pie\":[{\"automargin\":true,\"type\":\"pie\"}],\"scatter\":[{\"marker\":{\"colorbar\":{\"outlinewidth\":0,\"ticks\":\"\"}},\"type\":\"scatter\"}],\"scatter3d\":[{\"line\":{\"colorbar\":{\"outlinewidth\":0,\"ticks\":\"\"}},\"marker\":{\"colorbar\":{\"outlinewidth\":0,\"ticks\":\"\"}},\"type\":\"scatter3d\"}],\"scattercarpet\":[{\"marker\":{\"colorbar\":{\"outlinewidth\":0,\"ticks\":\"\"}},\"type\":\"scattercarpet\"}],\"scattergeo\":[{\"marker\":{\"colorbar\":{\"outlinewidth\":0,\"ticks\":\"\"}},\"type\":\"scattergeo\"}],\"scattergl\":[{\"marker\":{\"colorbar\":{\"outlinewidth\":0,\"ticks\":\"\"}},\"type\":\"scattergl\"}],\"scattermapbox\":[{\"marker\":{\"colorbar\":{\"outlinewidth\":0,\"ticks\":\"\"}},\"type\":\"scattermapbox\"}],\"scatterpolar\":[{\"marker\":{\"colorbar\":{\"outlinewidth\":0,\"ticks\":\"\"}},\"type\":\"scatterpolar\"}],\"scatterpolargl\":[{\"marker\":{\"colorbar\":{\"outlinewidth\":0,\"ticks\":\"\"}},\"type\":\"scatterpolargl\"}],\"scatterternary\":[{\"marker\":{\"colorbar\":{\"outlinewidth\":0,\"ticks\":\"\"}},\"type\":\"scatterternary\"}],\"surface\":[{\"colorbar\":{\"outlinewidth\":0,\"ticks\":\"\"},\"colorscale\":[[0.0,\"#0d0887\"],[0.1111111111111111,\"#46039f\"],[0.2222222222222222,\"#7201a8\"],[0.3333333333333333,\"#9c179e\"],[0.4444444444444444,\"#bd3786\"],[0.5555555555555556,\"#d8576b\"],[0.6666666666666666,\"#ed7953\"],[0.7777777777777778,\"#fb9f3a\"],[0.8888888888888888,\"#fdca26\"],[1.0,\"#f0f921\"]],\"type\":\"surface\"}],\"table\":[{\"cells\":{\"fill\":{\"color\":\"#EBF0F8\"},\"line\":{\"color\":\"white\"}},\"header\":{\"fill\":{\"color\":\"#C8D4E3\"},\"line\":{\"color\":\"white\"}},\"type\":\"table\"}]},\"layout\":{\"annotationdefaults\":{\"arrowcolor\":\"#2a3f5f\",\"arrowhead\":0,\"arrowwidth\":1},\"autotypenumbers\":\"strict\",\"coloraxis\":{\"colorbar\":{\"outlinewidth\":0,\"ticks\":\"\"}},\"colorscale\":{\"diverging\":[[0,\"#8e0152\"],[0.1,\"#c51b7d\"],[0.2,\"#de77ae\"],[0.3,\"#f1b6da\"],[0.4,\"#fde0ef\"],[0.5,\"#f7f7f7\"],[0.6,\"#e6f5d0\"],[0.7,\"#b8e186\"],[0.8,\"#7fbc41\"],[0.9,\"#4d9221\"],[1,\"#276419\"]],\"sequential\":[[0.0,\"#0d0887\"],[0.1111111111111111,\"#46039f\"],[0.2222222222222222,\"#7201a8\"],[0.3333333333333333,\"#9c179e\"],[0.4444444444444444,\"#bd3786\"],[0.5555555555555556,\"#d8576b\"],[0.6666666666666666,\"#ed7953\"],[0.7777777777777778,\"#fb9f3a\"],[0.8888888888888888,\"#fdca26\"],[1.0,\"#f0f921\"]],\"sequentialminus\":[[0.0,\"#0d0887\"],[0.1111111111111111,\"#46039f\"],[0.2222222222222222,\"#7201a8\"],[0.3333333333333333,\"#9c179e\"],[0.4444444444444444,\"#bd3786\"],[0.5555555555555556,\"#d8576b\"],[0.6666666666666666,\"#ed7953\"],[0.7777777777777778,\"#fb9f3a\"],[0.8888888888888888,\"#fdca26\"],[1.0,\"#f0f921\"]]},\"colorway\":[\"#636efa\",\"#EF553B\",\"#00cc96\",\"#ab63fa\",\"#FFA15A\",\"#19d3f3\",\"#FF6692\",\"#B6E880\",\"#FF97FF\",\"#FECB52\"],\"font\":{\"color\":\"#2a3f5f\"},\"geo\":{\"bgcolor\":\"white\",\"lakecolor\":\"white\",\"landcolor\":\"#E5ECF6\",\"showlakes\":true,\"showland\":true,\"subunitcolor\":\"white\"},\"hoverlabel\":{\"align\":\"left\"},\"hovermode\":\"closest\",\"mapbox\":{\"style\":\"light\"},\"paper_bgcolor\":\"white\",\"plot_bgcolor\":\"#E5ECF6\",\"polar\":{\"angularaxis\":{\"gridcolor\":\"white\",\"linecolor\":\"white\",\"ticks\":\"\"},\"bgcolor\":\"#E5ECF6\",\"radialaxis\":{\"gridcolor\":\"white\",\"linecolor\":\"white\",\"ticks\":\"\"}},\"scene\":{\"xaxis\":{\"backgroundcolor\":\"#E5ECF6\",\"gridcolor\":\"white\",\"gridwidth\":2,\"linecolor\":\"white\",\"showbackground\":true,\"ticks\":\"\",\"zerolinecolor\":\"white\"},\"yaxis\":{\"backgroundcolor\":\"#E5ECF6\",\"gridcolor\":\"white\",\"gridwidth\":2,\"linecolor\":\"white\",\"showbackground\":true,\"ticks\":\"\",\"zerolinecolor\":\"white\"},\"zaxis\":{\"backgroundcolor\":\"#E5ECF6\",\"gridcolor\":\"white\",\"gridwidth\":2,\"linecolor\":\"white\",\"showbackground\":true,\"ticks\":\"\",\"zerolinecolor\":\"white\"}},\"shapedefaults\":{\"line\":{\"color\":\"#2a3f5f\"}},\"ternary\":{\"aaxis\":{\"gridcolor\":\"white\",\"linecolor\":\"white\",\"ticks\":\"\"},\"baxis\":{\"gridcolor\":\"white\",\"linecolor\":\"white\",\"ticks\":\"\"},\"bgcolor\":\"#E5ECF6\",\"caxis\":{\"gridcolor\":\"white\",\"linecolor\":\"white\",\"ticks\":\"\"}},\"title\":{\"x\":0.05},\"xaxis\":{\"automargin\":true,\"gridcolor\":\"white\",\"linecolor\":\"white\",\"ticks\":\"\",\"title\":{\"standoff\":15},\"zerolinecolor\":\"white\",\"zerolinewidth\":2},\"yaxis\":{\"automargin\":true,\"gridcolor\":\"white\",\"linecolor\":\"white\",\"ticks\":\"\",\"title\":{\"standoff\":15},\"zerolinecolor\":\"white\",\"zerolinewidth\":2}}},\"xaxis\":{\"anchor\":\"y\",\"domain\":[0.0,1.0],\"scaleanchor\":\"y\",\"constrain\":\"domain\"},\"yaxis\":{\"anchor\":\"x\",\"domain\":[0.0,1.0],\"autorange\":\"reversed\",\"constrain\":\"domain\"},\"coloraxis\":{\"colorscale\":[[0.0,\"rgb(255,0,0)\"],[0.125,\"rgb(255,111,0)\"],[0.25,\"rgb(255,234,0)\"],[0.375,\"rgb(151,255,0)\"],[0.5,\"rgb(44,255,150)\"],[0.625,\"rgb(0,152,255)\"],[0.75,\"rgb(0,25,255)\"],[0.875,\"rgb(0,0,200)\"],[1.0,\"rgb(150,0,90)\"]]},\"margin\":{\"t\":60}},                        {\"responsive\": true}                    ).then(function(){\n",
       "                            \n",
       "var gd = document.getElementById('91024015-329d-4d3e-be7b-81f0021c6a70');\n",
       "var x = new MutationObserver(function (mutations, observer) {{\n",
       "        var display = window.getComputedStyle(gd).display;\n",
       "        if (!display || display === 'none') {{\n",
       "            console.log([gd, 'removed!']);\n",
       "            Plotly.purge(gd);\n",
       "            observer.disconnect();\n",
       "        }}\n",
       "}});\n",
       "\n",
       "// Listen for the removal of the full notebook cells\n",
       "var notebookContainer = gd.closest('#notebook-container');\n",
       "if (notebookContainer) {{\n",
       "    x.observe(notebookContainer, {childList: true});\n",
       "}}\n",
       "\n",
       "// Listen for the clearing of the current output cell\n",
       "var outputEl = gd.closest('.output');\n",
       "if (outputEl) {{\n",
       "    x.observe(outputEl, {childList: true});\n",
       "}}\n",
       "\n",
       "                        })                };                });            </script>        </div>"
      ]
     },
     "metadata": {},
     "output_type": "display_data"
    }
   ],
   "source": [
    "# Correlation Map\n",
    "\n",
    "fig = px.imshow(data.corr(), color_continuous_scale = 'rainbow_r')\n",
    "fig.show()"
   ]
  },
  {
   "cell_type": "markdown",
   "id": "b5ef0dc8",
   "metadata": {
    "papermill": {
     "duration": 0.051399,
     "end_time": "2021-12-29T11:37:51.381040",
     "exception": false,
     "start_time": "2021-12-29T11:37:51.329641",
     "status": "completed"
    },
    "tags": []
   },
   "source": [
    "> #### We observe that none of the features are more co-related. "
   ]
  },
  {
   "cell_type": "markdown",
   "id": "9b8b713d",
   "metadata": {
    "papermill": {
     "duration": 0.052752,
     "end_time": "2021-12-29T11:37:51.484926",
     "exception": false,
     "start_time": "2021-12-29T11:37:51.432174",
     "status": "completed"
    },
    "tags": []
   },
   "source": [
    "# Feature Extraction "
   ]
  },
  {
   "cell_type": "markdown",
   "id": "3bbeac95",
   "metadata": {
    "papermill": {
     "duration": 0.05125,
     "end_time": "2021-12-29T11:37:51.586319",
     "exception": false,
     "start_time": "2021-12-29T11:37:51.535069",
     "status": "completed"
    },
    "tags": []
   },
   "source": [
    "> #### We will be extracting Risk coefficient from the data."
   ]
  },
  {
   "cell_type": "code",
   "execution_count": 12,
   "id": "c59589bf",
   "metadata": {
    "execution": {
     "iopub.execute_input": "2021-12-29T11:37:51.696328Z",
     "iopub.status.busy": "2021-12-29T11:37:51.695084Z",
     "iopub.status.idle": "2021-12-29T11:37:52.062925Z",
     "shell.execute_reply": "2021-12-29T11:37:52.062396Z",
     "shell.execute_reply.started": "2021-12-29T11:30:03.162837Z"
    },
    "papermill": {
     "duration": 0.426804,
     "end_time": "2021-12-29T11:37:52.063073",
     "exception": false,
     "start_time": "2021-12-29T11:37:51.636269",
     "status": "completed"
    },
    "tags": []
   },
   "outputs": [
    {
     "data": {
      "text/html": [
       "<div>\n",
       "<style scoped>\n",
       "    .dataframe tbody tr th:only-of-type {\n",
       "        vertical-align: middle;\n",
       "    }\n",
       "\n",
       "    .dataframe tbody tr th {\n",
       "        vertical-align: top;\n",
       "    }\n",
       "\n",
       "    .dataframe thead th {\n",
       "        text-align: right;\n",
       "    }\n",
       "</style>\n",
       "<table border=\"1\" class=\"dataframe\">\n",
       "  <thead>\n",
       "    <tr style=\"text-align: right;\">\n",
       "      <th></th>\n",
       "      <th>cough</th>\n",
       "      <th>fever</th>\n",
       "      <th>sore_throat</th>\n",
       "      <th>shortness_of_breath</th>\n",
       "      <th>head_ache</th>\n",
       "      <th>corona_result</th>\n",
       "      <th>age_60_and_above</th>\n",
       "      <th>gender</th>\n",
       "      <th>abroad</th>\n",
       "      <th>contact_with_covid_positive_patient</th>\n",
       "      <th>risk_coef</th>\n",
       "    </tr>\n",
       "  </thead>\n",
       "  <tbody>\n",
       "    <tr>\n",
       "      <th>0</th>\n",
       "      <td>0</td>\n",
       "      <td>0</td>\n",
       "      <td>0</td>\n",
       "      <td>0</td>\n",
       "      <td>0</td>\n",
       "      <td>0</td>\n",
       "      <td>1</td>\n",
       "      <td>0</td>\n",
       "      <td>0</td>\n",
       "      <td>0</td>\n",
       "      <td>0.1</td>\n",
       "    </tr>\n",
       "    <tr>\n",
       "      <th>1</th>\n",
       "      <td>0</td>\n",
       "      <td>0</td>\n",
       "      <td>0</td>\n",
       "      <td>0</td>\n",
       "      <td>0</td>\n",
       "      <td>0</td>\n",
       "      <td>1</td>\n",
       "      <td>1</td>\n",
       "      <td>0</td>\n",
       "      <td>0</td>\n",
       "      <td>0.1</td>\n",
       "    </tr>\n",
       "    <tr>\n",
       "      <th>2</th>\n",
       "      <td>0</td>\n",
       "      <td>0</td>\n",
       "      <td>0</td>\n",
       "      <td>0</td>\n",
       "      <td>0</td>\n",
       "      <td>0</td>\n",
       "      <td>0</td>\n",
       "      <td>0</td>\n",
       "      <td>0</td>\n",
       "      <td>0</td>\n",
       "      <td>0.0</td>\n",
       "    </tr>\n",
       "    <tr>\n",
       "      <th>3</th>\n",
       "      <td>0</td>\n",
       "      <td>0</td>\n",
       "      <td>0</td>\n",
       "      <td>0</td>\n",
       "      <td>0</td>\n",
       "      <td>0</td>\n",
       "      <td>1</td>\n",
       "      <td>0</td>\n",
       "      <td>0</td>\n",
       "      <td>0</td>\n",
       "      <td>0.1</td>\n",
       "    </tr>\n",
       "    <tr>\n",
       "      <th>4</th>\n",
       "      <td>0</td>\n",
       "      <td>0</td>\n",
       "      <td>0</td>\n",
       "      <td>0</td>\n",
       "      <td>0</td>\n",
       "      <td>0</td>\n",
       "      <td>1</td>\n",
       "      <td>0</td>\n",
       "      <td>0</td>\n",
       "      <td>0</td>\n",
       "      <td>0.1</td>\n",
       "    </tr>\n",
       "  </tbody>\n",
       "</table>\n",
       "</div>"
      ],
      "text/plain": [
       "   cough  fever  sore_throat  shortness_of_breath  head_ache  corona_result  \\\n",
       "0      0      0            0                    0          0              0   \n",
       "1      0      0            0                    0          0              0   \n",
       "2      0      0            0                    0          0              0   \n",
       "3      0      0            0                    0          0              0   \n",
       "4      0      0            0                    0          0              0   \n",
       "\n",
       "   age_60_and_above  gender  abroad  contact_with_covid_positive_patient  \\\n",
       "0                 1       0       0                                    0   \n",
       "1                 1       1       0                                    0   \n",
       "2                 0       0       0                                    0   \n",
       "3                 1       0       0                                    0   \n",
       "4                 1       0       0                                    0   \n",
       "\n",
       "   risk_coef  \n",
       "0        0.1  \n",
       "1        0.1  \n",
       "2        0.0  \n",
       "3        0.1  \n",
       "4        0.1  "
      ]
     },
     "execution_count": 12,
     "metadata": {},
     "output_type": "execute_result"
    }
   ],
   "source": [
    "# Creating feature risk coeficient\n",
    "\n",
    "data['risk_coef'] = data['cough']*0.1 + data['fever']*0.2 + data['sore_throat']*0.1 + data['shortness_of_breath']*0.1 + data['head_ache']*0.1 + data['age_60_and_above']*0.1 + data['abroad']*0.1 + data['contact_with_covid_positive_patient']*0.2\n",
    "data.head()"
   ]
  },
  {
   "cell_type": "markdown",
   "id": "4f9ed2d4",
   "metadata": {
    "papermill": {
     "duration": 0.050456,
     "end_time": "2021-12-29T11:37:52.164446",
     "exception": false,
     "start_time": "2021-12-29T11:37:52.113990",
     "status": "completed"
    },
    "tags": []
   },
   "source": [
    "> #### To calculate risk_coeficient, we have given the weights for features based on the following links -\n",
    "\n",
    "> #### [Ref-1](https://www.mayoclinic.org/diseases-conditions/coronavirus/symptoms-causes/syc-20479963) \n",
    "\n",
    "> #### [Ref-2](https://www.cidrap.umn.edu/news-perspective/2021/07/israeli-study-finds-26-covid-breakthrough-infection-rate) \n",
    "\n",
    "> #### [Ref-3](https://www.gov.il/en/departments/faq/faq-coronavirus#groupcollapseItem1collapseItem5) \n",
    "\n",
    "> #### [Ref-4](https://www.gov.il/en/Departments/General/corona-confirmed-cases) \n",
    "\n",
    "> #### [Ref-5](https://www.sciencedirect.com/science/article/pii/S1198743X21000835) \n",
    "\n",
    "> #### We observed that fever was the most common symptom found among covid positive patients (Links + EDA Dashboard) so we gave 0.2 weight for it.\n",
    "\n",
    "> #### Contact with covid patient would directly lead to home quarantine so we gave 0.2 weight for it.\n",
    "\n",
    "> #### Remaining symptoms & Age 60+ features got 0.1 weight."
   ]
  },
  {
   "cell_type": "code",
   "execution_count": 13,
   "id": "43937bd4",
   "metadata": {
    "execution": {
     "iopub.execute_input": "2021-12-29T11:37:52.272802Z",
     "iopub.status.busy": "2021-12-29T11:37:52.271815Z",
     "iopub.status.idle": "2021-12-29T11:37:54.172897Z",
     "shell.execute_reply": "2021-12-29T11:37:54.172377Z",
     "shell.execute_reply.started": "2021-12-29T11:30:03.410510Z"
    },
    "papermill": {
     "duration": 1.958375,
     "end_time": "2021-12-29T11:37:54.173042",
     "exception": false,
     "start_time": "2021-12-29T11:37:52.214667",
     "status": "completed"
    },
    "tags": []
   },
   "outputs": [],
   "source": [
    "# Removing all records with risk_coef >= 0.6 and corona_result = 0 and risk_coef <= 0.3 and corona_result = 1\n",
    "\n",
    "i1 = data[(data['risk_coef'] >= 0.6) & (data['corona_result'] == 0)].index\n",
    "i2 = data[(data['risk_coef'] <= 0.3) & (data['corona_result'] == 1)].index\n",
    "data.drop(i1, inplace = True)\n",
    "data.drop(i2, inplace = True)\n",
    "\n",
    "# Dropping risk coeficient\n",
    "\n",
    "data.drop(['risk_coef'], axis = 1, inplace = True)"
   ]
  },
  {
   "cell_type": "markdown",
   "id": "f24cf0ab",
   "metadata": {
    "papermill": {
     "duration": 0.051652,
     "end_time": "2021-12-29T11:37:54.274502",
     "exception": false,
     "start_time": "2021-12-29T11:37:54.222850",
     "status": "completed"
    },
    "tags": []
   },
   "source": [
    "> #### Removed Contradictory records using risk coeficient. And the use of risk coeficient is over."
   ]
  },
  {
   "cell_type": "code",
   "execution_count": 14,
   "id": "b6ba0990",
   "metadata": {
    "execution": {
     "iopub.execute_input": "2021-12-29T11:37:54.381086Z",
     "iopub.status.busy": "2021-12-29T11:37:54.380434Z",
     "iopub.status.idle": "2021-12-29T11:37:54.650565Z",
     "shell.execute_reply": "2021-12-29T11:37:54.651047Z",
     "shell.execute_reply.started": "2021-12-29T11:30:04.972891Z"
    },
    "papermill": {
     "duration": 0.32625,
     "end_time": "2021-12-29T11:37:54.651222",
     "exception": false,
     "start_time": "2021-12-29T11:37:54.324972",
     "status": "completed"
    },
    "tags": []
   },
   "outputs": [
    {
     "name": "stdout",
     "output_type": "stream",
     "text": [
      "<class 'pandas.core.frame.DataFrame'>\n",
      "Int64Index: 5499031 entries, 0 to 5861479\n",
      "Data columns (total 10 columns):\n",
      " #   Column                               Dtype\n",
      "---  ------                               -----\n",
      " 0   cough                                int64\n",
      " 1   fever                                int64\n",
      " 2   sore_throat                          int64\n",
      " 3   shortness_of_breath                  int64\n",
      " 4   head_ache                            int64\n",
      " 5   corona_result                        int64\n",
      " 6   age_60_and_above                     int64\n",
      " 7   gender                               int64\n",
      " 8   abroad                               int64\n",
      " 9   contact_with_covid_positive_patient  int64\n",
      "dtypes: int64(10)\n",
      "memory usage: 461.5 MB\n"
     ]
    }
   ],
   "source": [
    "data = data.astype(int)\n",
    "data.info()"
   ]
  },
  {
   "cell_type": "markdown",
   "id": "30a9ca70",
   "metadata": {
    "papermill": {
     "duration": 0.051117,
     "end_time": "2021-12-29T11:37:54.753995",
     "exception": false,
     "start_time": "2021-12-29T11:37:54.702878",
     "status": "completed"
    },
    "tags": []
   },
   "source": [
    "> #### Datatype for all features is converted to integer."
   ]
  },
  {
   "cell_type": "markdown",
   "id": "83fee0c9",
   "metadata": {
    "papermill": {
     "duration": 0.050792,
     "end_time": "2021-12-29T11:37:54.855445",
     "exception": false,
     "start_time": "2021-12-29T11:37:54.804653",
     "status": "completed"
    },
    "tags": []
   },
   "source": [
    "# Feature Selection"
   ]
  },
  {
   "cell_type": "markdown",
   "id": "38e1934c",
   "metadata": {
    "papermill": {
     "duration": 0.049968,
     "end_time": "2021-12-29T11:37:54.956029",
     "exception": false,
     "start_time": "2021-12-29T11:37:54.906061",
     "status": "completed"
    },
    "tags": []
   },
   "source": [
    "### [Chi Square Test](https://www.statisticshowto.com/probability-and-statistics/chi-square/)"
   ]
  },
  {
   "attachments": {
    "fb339973-9868-455b-82a7-5d0e097b92e4.png": {
     "image/png": "[encoded data removed]"
    }
   },
   "cell_type": "markdown",
   "id": "3314925d",
   "metadata": {
    "papermill": {
     "duration": 0.050405,
     "end_time": "2021-12-29T11:37:55.056339",
     "exception": false,
     "start_time": "2021-12-29T11:37:55.005934",
     "status": "completed"
    },
    "tags": []
   },
   "source": [
    "> #### Since our Data is completely categorical we will be using Chi Square Test.\n",
    "\n",
    "> ![image.png](attachment:fb339973-9868-455b-82a7-5d0e097b92e4.png)"
   ]
  },
  {
   "cell_type": "markdown",
   "id": "81c914ed",
   "metadata": {
    "papermill": {
     "duration": 0.049579,
     "end_time": "2021-12-29T11:37:55.155957",
     "exception": false,
     "start_time": "2021-12-29T11:37:55.106378",
     "status": "completed"
    },
    "tags": []
   },
   "source": [
    "![](https://raw.githubusercontent.com/mykeysid10/Project-Covid-Cache/main/Phase%201%20Images/Hulk.jpg)"
   ]
  },
  {
   "cell_type": "code",
   "execution_count": 15,
   "id": "2a391461",
   "metadata": {
    "execution": {
     "iopub.execute_input": "2021-12-29T11:37:55.258944Z",
     "iopub.status.busy": "2021-12-29T11:37:55.258309Z",
     "iopub.status.idle": "2021-12-29T11:37:55.266446Z",
     "shell.execute_reply": "2021-12-29T11:37:55.265987Z",
     "shell.execute_reply.started": "2021-12-27T08:12:36.935057Z"
    },
    "papermill": {
     "duration": 0.060829,
     "end_time": "2021-12-29T11:37:55.266601",
     "exception": false,
     "start_time": "2021-12-29T11:37:55.205772",
     "status": "completed"
    },
    "tags": []
   },
   "outputs": [],
   "source": [
    "imp_var = []\n",
    "h = dict()\n",
    "u = dict()\n",
    "unimp_var = []\n",
    "\n",
    "# Creating a class for Chi Square Test\n",
    "\n",
    "class ChiSquare:\n",
    "    def __init__(self, dataframe):\n",
    "        self.df = dataframe\n",
    "        self.p = None \n",
    "        self.chi2 = None \n",
    "        self.dof = None\n",
    "        \n",
    "        self.dfTabular = None\n",
    "        self.dfExpected = None\n",
    "    \n",
    "    # Checking for level of significance \n",
    "    \n",
    "    def _print_chisquare_result(self, colX, alpha):\n",
    "        if self.p < alpha:\n",
    "          h[colX] = self.p\n",
    "        else:\n",
    "          unimp_var.append(colX)\n",
    "          u[colX] = self.p\n",
    "            \n",
    "    def TestIndependence(self, colX, colY, alpha = 0.05):\n",
    "        X = self.df[colX].astype(str)\n",
    "        Y = self.df[colY].astype(str)\n",
    "        \n",
    "        self.dfObserved = pd.crosstab(Y, X) \n",
    "        chi2, p, dof, expected = stats.chi2_contingency(self.dfObserved.values)\n",
    "        self.p = p\n",
    "        self.chi2 = chi2\n",
    "        self.dof = dof \n",
    "        \n",
    "        self.dfExpected = pd.DataFrame(expected, columns = self.dfObserved.columns, index = self.dfObserved.index)\n",
    "        \n",
    "        self._print_chisquare_result(colX, alpha)"
   ]
  },
  {
   "cell_type": "code",
   "execution_count": 16,
   "id": "5741a3a1",
   "metadata": {
    "execution": {
     "iopub.execute_input": "2021-12-29T11:37:55.369825Z",
     "iopub.status.busy": "2021-12-29T11:37:55.369201Z",
     "iopub.status.idle": "2021-12-29T11:39:18.081948Z",
     "shell.execute_reply": "2021-12-29T11:39:18.082396Z",
     "shell.execute_reply.started": "2021-12-27T08:12:39.885997Z"
    },
    "papermill": {
     "duration": 82.765963,
     "end_time": "2021-12-29T11:39:18.082613",
     "exception": false,
     "start_time": "2021-12-29T11:37:55.316650",
     "status": "completed"
    },
    "tags": []
   },
   "outputs": [],
   "source": [
    "cT = ChiSquare(data)\n",
    "testColumns = data.drop(columns = ['corona_result']).columns\n",
    "\n",
    "# Checking for all features whether they contribute in detecting covid cases or not\n",
    "\n",
    "for var in testColumns:\n",
    "    cT.TestIndependence(colX = var, colY = \"corona_result\")  "
   ]
  },
  {
   "cell_type": "code",
   "execution_count": 17,
   "id": "360b3a4b",
   "metadata": {
    "execution": {
     "iopub.execute_input": "2021-12-29T11:39:18.200880Z",
     "iopub.status.busy": "2021-12-29T11:39:18.200005Z",
     "iopub.status.idle": "2021-12-29T11:39:18.203469Z",
     "shell.execute_reply": "2021-12-29T11:39:18.203970Z",
     "shell.execute_reply.started": "2021-12-27T08:15:03.886777Z"
    },
    "papermill": {
     "duration": 0.068624,
     "end_time": "2021-12-29T11:39:18.204140",
     "exception": false,
     "start_time": "2021-12-29T11:39:18.135516",
     "status": "completed"
    },
    "tags": []
   },
   "outputs": [
    {
     "data": {
      "text/html": [
       "<div>\n",
       "<style scoped>\n",
       "    .dataframe tbody tr th:only-of-type {\n",
       "        vertical-align: middle;\n",
       "    }\n",
       "\n",
       "    .dataframe tbody tr th {\n",
       "        vertical-align: top;\n",
       "    }\n",
       "\n",
       "    .dataframe thead th {\n",
       "        text-align: right;\n",
       "    }\n",
       "</style>\n",
       "<table border=\"1\" class=\"dataframe\">\n",
       "  <thead>\n",
       "    <tr style=\"text-align: right;\">\n",
       "      <th></th>\n",
       "      <th>Important Variables</th>\n",
       "      <th>Unimportant Variables</th>\n",
       "    </tr>\n",
       "  </thead>\n",
       "  <tbody>\n",
       "    <tr>\n",
       "      <th>0</th>\n",
       "      <td>cough</td>\n",
       "      <td></td>\n",
       "    </tr>\n",
       "    <tr>\n",
       "      <th>1</th>\n",
       "      <td>fever</td>\n",
       "      <td></td>\n",
       "    </tr>\n",
       "    <tr>\n",
       "      <th>2</th>\n",
       "      <td>sore_throat</td>\n",
       "      <td></td>\n",
       "    </tr>\n",
       "    <tr>\n",
       "      <th>3</th>\n",
       "      <td>shortness_of_breath</td>\n",
       "      <td></td>\n",
       "    </tr>\n",
       "    <tr>\n",
       "      <th>4</th>\n",
       "      <td>head_ache</td>\n",
       "      <td></td>\n",
       "    </tr>\n",
       "    <tr>\n",
       "      <th>5</th>\n",
       "      <td>age_60_and_above</td>\n",
       "      <td></td>\n",
       "    </tr>\n",
       "    <tr>\n",
       "      <th>6</th>\n",
       "      <td>contact_with_covid_positive_patient</td>\n",
       "      <td></td>\n",
       "    </tr>\n",
       "    <tr>\n",
       "      <th>7</th>\n",
       "      <td>gender</td>\n",
       "      <td></td>\n",
       "    </tr>\n",
       "    <tr>\n",
       "      <th>8</th>\n",
       "      <td>abroad</td>\n",
       "      <td></td>\n",
       "    </tr>\n",
       "  </tbody>\n",
       "</table>\n",
       "</div>"
      ],
      "text/plain": [
       "                   Important Variables Unimportant Variables\n",
       "0                                cough                      \n",
       "1                                fever                      \n",
       "2                          sore_throat                      \n",
       "3                  shortness_of_breath                      \n",
       "4                            head_ache                      \n",
       "5                     age_60_and_above                      \n",
       "6  contact_with_covid_positive_patient                      \n",
       "7                               gender                      \n",
       "8                               abroad                      "
      ]
     },
     "execution_count": 17,
     "metadata": {},
     "output_type": "execute_result"
    }
   ],
   "source": [
    "# Creating a DataFrame to bifurcate Important & Unimportant Features Classified by Chi Square Test\n",
    "\n",
    "imp = pd.DataFrame()\n",
    "\n",
    "m = sorted(h.items(), key = lambda x: x[1], reverse = False)\n",
    "\n",
    "for i in range(len(m)):\n",
    "  imp_var.append(m[i][0])\n",
    "\n",
    "if(len(imp_var) > len(unimp_var)):\n",
    "  for i in range(len(imp_var) - len(unimp_var)):\n",
    "    unimp_var.append(\"\")\n",
    "else:\n",
    "  for i in range(len(unimp_var) - len(imp_var)):\n",
    "    imp_var.append(\"\")\n",
    "    \n",
    "imp['Important Variables'] = imp_var\n",
    "imp['Unimportant Variables'] = unimp_var\n",
    "\n",
    "imp"
   ]
  },
  {
   "cell_type": "markdown",
   "id": "aae39f7b",
   "metadata": {
    "papermill": {
     "duration": 0.051207,
     "end_time": "2021-12-29T11:39:18.306848",
     "exception": false,
     "start_time": "2021-12-29T11:39:18.255641",
     "status": "completed"
    },
    "tags": []
   },
   "source": [
    "> #### No feature seems unimportant. \n",
    "\n",
    "> #### All the features are contributing towards the detection of covid cases."
   ]
  },
  {
   "cell_type": "markdown",
   "id": "2b4c3fd7",
   "metadata": {
    "papermill": {
     "duration": 0.051388,
     "end_time": "2021-12-29T11:39:18.410291",
     "exception": false,
     "start_time": "2021-12-29T11:39:18.358903",
     "status": "completed"
    },
    "tags": []
   },
   "source": [
    "# Data Modeling"
   ]
  },
  {
   "cell_type": "code",
   "execution_count": 18,
   "id": "dfa66f61",
   "metadata": {
    "execution": {
     "iopub.execute_input": "2021-12-29T11:39:18.517316Z",
     "iopub.status.busy": "2021-12-29T11:39:18.516260Z",
     "iopub.status.idle": "2021-12-29T11:39:19.050212Z",
     "shell.execute_reply": "2021-12-29T11:39:19.049682Z",
     "shell.execute_reply.started": "2021-12-28T20:56:30.551701Z"
    },
    "papermill": {
     "duration": 0.58849,
     "end_time": "2021-12-29T11:39:19.050349",
     "exception": false,
     "start_time": "2021-12-29T11:39:18.461859",
     "status": "completed"
    },
    "tags": []
   },
   "outputs": [
    {
     "data": {
      "text/html": [
       "<div>                            <div id=\"93969c4d-81a9-4809-8405-afa3e4fa6818\" class=\"plotly-graph-div\" style=\"height:525px; width:100%;\"></div>            <script type=\"text/javascript\">                require([\"plotly\"], function(Plotly) {                    window.PLOTLYENV=window.PLOTLYENV || {};                                    if (document.getElementById(\"93969c4d-81a9-4809-8405-afa3e4fa6818\")) {                    Plotly.newPlot(                        \"93969c4d-81a9-4809-8405-afa3e4fa6818\",                        [{\"alignmentgroup\":\"True\",\"hovertemplate\":\"Corona_result=%{x}<br>Count=%{y}<extra></extra>\",\"legendgroup\":\"Negative\",\"marker\":{\"color\":\"orange\",\"pattern\":{\"shape\":\"\"}},\"name\":\"Negative\",\"offsetgroup\":\"Negative\",\"orientation\":\"v\",\"showlegend\":true,\"textposition\":\"auto\",\"x\":[\"Negative\"],\"xaxis\":\"x\",\"y\":[5337010],\"yaxis\":\"y\",\"type\":\"bar\"},{\"alignmentgroup\":\"True\",\"hovertemplate\":\"Corona_result=%{x}<br>Count=%{y}<extra></extra>\",\"legendgroup\":\"Positive\",\"marker\":{\"color\":\"purple\",\"pattern\":{\"shape\":\"\"}},\"name\":\"Positive\",\"offsetgroup\":\"Positive\",\"orientation\":\"v\",\"showlegend\":true,\"textposition\":\"auto\",\"x\":[\"Positive\"],\"xaxis\":\"x\",\"y\":[162021],\"yaxis\":\"y\",\"type\":\"bar\"}],                        {\"template\":{\"data\":{\"barpolar\":[{\"marker\":{\"line\":{\"color\":\"rgb(17,17,17)\",\"width\":0.5},\"pattern\":{\"fillmode\":\"overlay\",\"size\":10,\"solidity\":0.2}},\"type\":\"barpolar\"}],\"bar\":[{\"error_x\":{\"color\":\"#f2f5fa\"},\"error_y\":{\"color\":\"#f2f5fa\"},\"marker\":{\"line\":{\"color\":\"rgb(17,17,17)\",\"width\":0.5},\"pattern\":{\"fillmode\":\"overlay\",\"size\":10,\"solidity\":0.2}},\"type\":\"bar\"}],\"carpet\":[{\"aaxis\":{\"endlinecolor\":\"#A2B1C6\",\"gridcolor\":\"#506784\",\"linecolor\":\"#506784\",\"minorgridcolor\":\"#506784\",\"startlinecolor\":\"#A2B1C6\"},\"baxis\":{\"endlinecolor\":\"#A2B1C6\",\"gridcolor\":\"#506784\",\"linecolor\":\"#506784\",\"minorgridcolor\":\"#506784\",\"startlinecolor\":\"#A2B1C6\"},\"type\":\"carpet\"}],\"choropleth\":[{\"colorbar\":{\"outlinewidth\":0,\"ticks\":\"\"},\"type\":\"choropleth\"}],\"contourcarpet\":[{\"colorbar\":{\"outlinewidth\":0,\"ticks\":\"\"},\"type\":\"contourcarpet\"}],\"contour\":[{\"colorbar\":{\"outlinewidth\":0,\"ticks\":\"\"},\"colorscale\":[[0.0,\"#0d0887\"],[0.1111111111111111,\"#46039f\"],[0.2222222222222222,\"#7201a8\"],[0.3333333333333333,\"#9c179e\"],[0.4444444444444444,\"#bd3786\"],[0.5555555555555556,\"#d8576b\"],[0.6666666666666666,\"#ed7953\"],[0.7777777777777778,\"#fb9f3a\"],[0.8888888888888888,\"#fdca26\"],[1.0,\"#f0f921\"]],\"type\":\"contour\"}],\"heatmapgl\":[{\"colorbar\":{\"outlinewidth\":0,\"ticks\":\"\"},\"colorscale\":[[0.0,\"#0d0887\"],[0.1111111111111111,\"#46039f\"],[0.2222222222222222,\"#7201a8\"],[0.3333333333333333,\"#9c179e\"],[0.4444444444444444,\"#bd3786\"],[0.5555555555555556,\"#d8576b\"],[0.6666666666666666,\"#ed7953\"],[0.7777777777777778,\"#fb9f3a\"],[0.8888888888888888,\"#fdca26\"],[1.0,\"#f0f921\"]],\"type\":\"heatmapgl\"}],\"heatmap\":[{\"colorbar\":{\"outlinewidth\":0,\"ticks\":\"\"},\"colorscale\":[[0.0,\"#0d0887\"],[0.1111111111111111,\"#46039f\"],[0.2222222222222222,\"#7201a8\"],[0.3333333333333333,\"#9c179e\"],[0.4444444444444444,\"#bd3786\"],[0.5555555555555556,\"#d8576b\"],[0.6666666666666666,\"#ed7953\"],[0.7777777777777778,\"#fb9f3a\"],[0.8888888888888888,\"#fdca26\"],[1.0,\"#f0f921\"]],\"type\":\"heatmap\"}],\"histogram2dcontour\":[{\"colorbar\":{\"outlinewidth\":0,\"ticks\":\"\"},\"colorscale\":[[0.0,\"#0d0887\"],[0.1111111111111111,\"#46039f\"],[0.2222222222222222,\"#7201a8\"],[0.3333333333333333,\"#9c179e\"],[0.4444444444444444,\"#bd3786\"],[0.5555555555555556,\"#d8576b\"],[0.6666666666666666,\"#ed7953\"],[0.7777777777777778,\"#fb9f3a\"],[0.8888888888888888,\"#fdca26\"],[1.0,\"#f0f921\"]],\"type\":\"histogram2dcontour\"}],\"histogram2d\":[{\"colorbar\":{\"outlinewidth\":0,\"ticks\":\"\"},\"colorscale\":[[0.0,\"#0d0887\"],[0.1111111111111111,\"#46039f\"],[0.2222222222222222,\"#7201a8\"],[0.3333333333333333,\"#9c179e\"],[0.4444444444444444,\"#bd3786\"],[0.5555555555555556,\"#d8576b\"],[0.6666666666666666,\"#ed7953\"],[0.7777777777777778,\"#fb9f3a\"],[0.8888888888888888,\"#fdca26\"],[1.0,\"#f0f921\"]],\"type\":\"histogram2d\"}],\"histogram\":[{\"marker\":{\"pattern\":{\"fillmode\":\"overlay\",\"size\":10,\"solidity\":0.2}},\"type\":\"histogram\"}],\"mesh3d\":[{\"colorbar\":{\"outlinewidth\":0,\"ticks\":\"\"},\"type\":\"mesh3d\"}],\"parcoords\":[{\"line\":{\"colorbar\":{\"outlinewidth\":0,\"ticks\":\"\"}},\"type\":\"parcoords\"}],\"pie\":[{\"automargin\":true,\"type\":\"pie\"}],\"scatter3d\":[{\"line\":{\"colorbar\":{\"outlinewidth\":0,\"ticks\":\"\"}},\"marker\":{\"colorbar\":{\"outlinewidth\":0,\"ticks\":\"\"}},\"type\":\"scatter3d\"}],\"scattercarpet\":[{\"marker\":{\"colorbar\":{\"outlinewidth\":0,\"ticks\":\"\"}},\"type\":\"scattercarpet\"}],\"scattergeo\":[{\"marker\":{\"colorbar\":{\"outlinewidth\":0,\"ticks\":\"\"}},\"type\":\"scattergeo\"}],\"scattergl\":[{\"marker\":{\"line\":{\"color\":\"#283442\"}},\"type\":\"scattergl\"}],\"scattermapbox\":[{\"marker\":{\"colorbar\":{\"outlinewidth\":0,\"ticks\":\"\"}},\"type\":\"scattermapbox\"}],\"scatterpolargl\":[{\"marker\":{\"colorbar\":{\"outlinewidth\":0,\"ticks\":\"\"}},\"type\":\"scatterpolargl\"}],\"scatterpolar\":[{\"marker\":{\"colorbar\":{\"outlinewidth\":0,\"ticks\":\"\"}},\"type\":\"scatterpolar\"}],\"scatter\":[{\"marker\":{\"line\":{\"color\":\"#283442\"}},\"type\":\"scatter\"}],\"scatterternary\":[{\"marker\":{\"colorbar\":{\"outlinewidth\":0,\"ticks\":\"\"}},\"type\":\"scatterternary\"}],\"surface\":[{\"colorbar\":{\"outlinewidth\":0,\"ticks\":\"\"},\"colorscale\":[[0.0,\"#0d0887\"],[0.1111111111111111,\"#46039f\"],[0.2222222222222222,\"#7201a8\"],[0.3333333333333333,\"#9c179e\"],[0.4444444444444444,\"#bd3786\"],[0.5555555555555556,\"#d8576b\"],[0.6666666666666666,\"#ed7953\"],[0.7777777777777778,\"#fb9f3a\"],[0.8888888888888888,\"#fdca26\"],[1.0,\"#f0f921\"]],\"type\":\"surface\"}],\"table\":[{\"cells\":{\"fill\":{\"color\":\"#506784\"},\"line\":{\"color\":\"rgb(17,17,17)\"}},\"header\":{\"fill\":{\"color\":\"#2a3f5f\"},\"line\":{\"color\":\"rgb(17,17,17)\"}},\"type\":\"table\"}]},\"layout\":{\"annotationdefaults\":{\"arrowcolor\":\"#f2f5fa\",\"arrowhead\":0,\"arrowwidth\":1},\"autotypenumbers\":\"strict\",\"coloraxis\":{\"colorbar\":{\"outlinewidth\":0,\"ticks\":\"\"}},\"colorscale\":{\"diverging\":[[0,\"#8e0152\"],[0.1,\"#c51b7d\"],[0.2,\"#de77ae\"],[0.3,\"#f1b6da\"],[0.4,\"#fde0ef\"],[0.5,\"#f7f7f7\"],[0.6,\"#e6f5d0\"],[0.7,\"#b8e186\"],[0.8,\"#7fbc41\"],[0.9,\"#4d9221\"],[1,\"#276419\"]],\"sequential\":[[0.0,\"#0d0887\"],[0.1111111111111111,\"#46039f\"],[0.2222222222222222,\"#7201a8\"],[0.3333333333333333,\"#9c179e\"],[0.4444444444444444,\"#bd3786\"],[0.5555555555555556,\"#d8576b\"],[0.6666666666666666,\"#ed7953\"],[0.7777777777777778,\"#fb9f3a\"],[0.8888888888888888,\"#fdca26\"],[1.0,\"#f0f921\"]],\"sequentialminus\":[[0.0,\"#0d0887\"],[0.1111111111111111,\"#46039f\"],[0.2222222222222222,\"#7201a8\"],[0.3333333333333333,\"#9c179e\"],[0.4444444444444444,\"#bd3786\"],[0.5555555555555556,\"#d8576b\"],[0.6666666666666666,\"#ed7953\"],[0.7777777777777778,\"#fb9f3a\"],[0.8888888888888888,\"#fdca26\"],[1.0,\"#f0f921\"]]},\"colorway\":[\"#636efa\",\"#EF553B\",\"#00cc96\",\"#ab63fa\",\"#FFA15A\",\"#19d3f3\",\"#FF6692\",\"#B6E880\",\"#FF97FF\",\"#FECB52\"],\"font\":{\"color\":\"#f2f5fa\"},\"geo\":{\"bgcolor\":\"rgb(17,17,17)\",\"lakecolor\":\"rgb(17,17,17)\",\"landcolor\":\"rgb(17,17,17)\",\"showlakes\":true,\"showland\":true,\"subunitcolor\":\"#506784\"},\"hoverlabel\":{\"align\":\"left\"},\"hovermode\":\"closest\",\"mapbox\":{\"style\":\"dark\"},\"paper_bgcolor\":\"rgb(17,17,17)\",\"plot_bgcolor\":\"rgb(17,17,17)\",\"polar\":{\"angularaxis\":{\"gridcolor\":\"#506784\",\"linecolor\":\"#506784\",\"ticks\":\"\"},\"bgcolor\":\"rgb(17,17,17)\",\"radialaxis\":{\"gridcolor\":\"#506784\",\"linecolor\":\"#506784\",\"ticks\":\"\"}},\"scene\":{\"xaxis\":{\"backgroundcolor\":\"rgb(17,17,17)\",\"gridcolor\":\"#506784\",\"gridwidth\":2,\"linecolor\":\"#506784\",\"showbackground\":true,\"ticks\":\"\",\"zerolinecolor\":\"#C8D4E3\"},\"yaxis\":{\"backgroundcolor\":\"rgb(17,17,17)\",\"gridcolor\":\"#506784\",\"gridwidth\":2,\"linecolor\":\"#506784\",\"showbackground\":true,\"ticks\":\"\",\"zerolinecolor\":\"#C8D4E3\"},\"zaxis\":{\"backgroundcolor\":\"rgb(17,17,17)\",\"gridcolor\":\"#506784\",\"gridwidth\":2,\"linecolor\":\"#506784\",\"showbackground\":true,\"ticks\":\"\",\"zerolinecolor\":\"#C8D4E3\"}},\"shapedefaults\":{\"line\":{\"color\":\"#f2f5fa\"}},\"sliderdefaults\":{\"bgcolor\":\"#C8D4E3\",\"bordercolor\":\"rgb(17,17,17)\",\"borderwidth\":1,\"tickwidth\":0},\"ternary\":{\"aaxis\":{\"gridcolor\":\"#506784\",\"linecolor\":\"#506784\",\"ticks\":\"\"},\"baxis\":{\"gridcolor\":\"#506784\",\"linecolor\":\"#506784\",\"ticks\":\"\"},\"bgcolor\":\"rgb(17,17,17)\",\"caxis\":{\"gridcolor\":\"#506784\",\"linecolor\":\"#506784\",\"ticks\":\"\"}},\"title\":{\"x\":0.05},\"updatemenudefaults\":{\"bgcolor\":\"#506784\",\"borderwidth\":0},\"xaxis\":{\"automargin\":true,\"gridcolor\":\"#283442\",\"linecolor\":\"#506784\",\"ticks\":\"\",\"title\":{\"standoff\":15},\"zerolinecolor\":\"#283442\",\"zerolinewidth\":2},\"yaxis\":{\"automargin\":true,\"gridcolor\":\"#283442\",\"linecolor\":\"#506784\",\"ticks\":\"\",\"title\":{\"standoff\":15},\"zerolinecolor\":\"#283442\",\"zerolinewidth\":2}}},\"xaxis\":{\"anchor\":\"y\",\"domain\":[0.0,1.0],\"title\":{\"text\":\"Corona_result\"},\"categoryorder\":\"array\",\"categoryarray\":[\"Negative\",\"Positive\"]},\"yaxis\":{\"anchor\":\"x\",\"domain\":[0.0,1.0],\"title\":{\"text\":\"Count\"}},\"legend\":{\"title\":{\"text\":\"Corona_result\"},\"tracegroupgap\":0},\"margin\":{\"t\":60},\"barmode\":\"relative\"},                        {\"responsive\": true}                    ).then(function(){\n",
       "                            \n",
       "var gd = document.getElementById('93969c4d-81a9-4809-8405-afa3e4fa6818');\n",
       "var x = new MutationObserver(function (mutations, observer) {{\n",
       "        var display = window.getComputedStyle(gd).display;\n",
       "        if (!display || display === 'none') {{\n",
       "            console.log([gd, 'removed!']);\n",
       "            Plotly.purge(gd);\n",
       "            observer.disconnect();\n",
       "        }}\n",
       "}});\n",
       "\n",
       "// Listen for the removal of the full notebook cells\n",
       "var notebookContainer = gd.closest('#notebook-container');\n",
       "if (notebookContainer) {{\n",
       "    x.observe(notebookContainer, {childList: true});\n",
       "}}\n",
       "\n",
       "// Listen for the clearing of the current output cell\n",
       "var outputEl = gd.closest('.output');\n",
       "if (outputEl) {{\n",
       "    x.observe(outputEl, {childList: true});\n",
       "}}\n",
       "\n",
       "                        })                };                });            </script>        </div>"
      ]
     },
     "metadata": {},
     "output_type": "display_data"
    }
   ],
   "source": [
    "# Analyzing Target Feature\n",
    "\n",
    "df = pd.DataFrame()\n",
    "df['Corona_result'] = ['Negative','Positive']\n",
    "df['Count'] = [len(data[data['corona_result'] == 0]), len(data[data['corona_result'] == 1])]\n",
    "df = df.sort_values(by = ['Count'], ascending = False)\n",
    "fig = px.bar(df, x = 'Corona_result', y = 'Count', \n",
    "             color = \"Corona_result\", \n",
    "             color_discrete_sequence = [\"orange\", \"purple\"],\n",
    "             template = 'plotly_dark')\n",
    "fig.show()"
   ]
  },
  {
   "cell_type": "code",
   "execution_count": 19,
   "id": "3136b346",
   "metadata": {
    "execution": {
     "iopub.execute_input": "2021-12-29T11:39:19.161992Z",
     "iopub.status.busy": "2021-12-29T11:39:19.161046Z",
     "iopub.status.idle": "2021-12-29T11:39:19.197900Z",
     "shell.execute_reply": "2021-12-29T11:39:19.197356Z",
     "shell.execute_reply.started": "2021-12-29T11:30:05.141950Z"
    },
    "papermill": {
     "duration": 0.092463,
     "end_time": "2021-12-29T11:39:19.198046",
     "exception": false,
     "start_time": "2021-12-29T11:39:19.105583",
     "status": "completed"
    },
    "tags": []
   },
   "outputs": [
    {
     "data": {
      "text/plain": [
       "0    5337010\n",
       "1     162021\n",
       "Name: corona_result, dtype: int64"
      ]
     },
     "execution_count": 19,
     "metadata": {},
     "output_type": "execute_result"
    }
   ],
   "source": [
    "data['corona_result'].value_counts()"
   ]
  },
  {
   "cell_type": "markdown",
   "id": "aa6721a1",
   "metadata": {
    "papermill": {
     "duration": 0.050952,
     "end_time": "2021-12-29T11:39:19.300388",
     "exception": false,
     "start_time": "2021-12-29T11:39:19.249436",
     "status": "completed"
    },
    "tags": []
   },
   "source": [
    "> #### We observe there is imbalance in our data. So we oversample it.\n",
    "\n",
    "> #### Covid Positive Cases - 162021, Covid Negative Cases - 5337010"
   ]
  },
  {
   "cell_type": "markdown",
   "id": "b0f96914",
   "metadata": {
    "papermill": {
     "duration": 0.053129,
     "end_time": "2021-12-29T11:39:19.405270",
     "exception": false,
     "start_time": "2021-12-29T11:39:19.352141",
     "status": "completed"
    },
    "tags": []
   },
   "source": [
    "### [Undersampling the Data](https://machinelearningmastery.com/undersampling-algorithms-for-imbalanced-classification/)"
   ]
  },
  {
   "cell_type": "markdown",
   "id": "47e394df",
   "metadata": {
    "papermill": {
     "duration": 0.051654,
     "end_time": "2021-12-29T11:39:19.508277",
     "exception": false,
     "start_time": "2021-12-29T11:39:19.456623",
     "status": "completed"
    },
    "tags": []
   },
   "source": [
    "#### We decided to do Undersampling instead of Oversampling because -\n",
    "\n",
    "> #### 1. Data is abundent for Negative Cases.\n",
    "\n",
    "> #### 2. Increasing Positive Cases by oversampling would be an issue according to real world scenario."
   ]
  },
  {
   "cell_type": "markdown",
   "id": "40d2fd9a",
   "metadata": {
    "papermill": {
     "duration": 0.051778,
     "end_time": "2021-12-29T11:39:19.611695",
     "exception": false,
     "start_time": "2021-12-29T11:39:19.559917",
     "status": "completed"
    },
    "tags": []
   },
   "source": [
    "![](https://raw.githubusercontent.com/mykeysid10/Project-Covid-Cache/main/Phase%201%20Images/Carnage.jpg)"
   ]
  },
  {
   "cell_type": "code",
   "execution_count": 20,
   "id": "297e0603",
   "metadata": {
    "execution": {
     "iopub.execute_input": "2021-12-29T11:39:19.717753Z",
     "iopub.status.busy": "2021-12-29T11:39:19.716819Z",
     "iopub.status.idle": "2021-12-29T11:39:19.931828Z",
     "shell.execute_reply": "2021-12-29T11:39:19.932290Z",
     "shell.execute_reply.started": "2021-12-29T11:30:10.914278Z"
    },
    "papermill": {
     "duration": 0.26939,
     "end_time": "2021-12-29T11:39:19.932503",
     "exception": false,
     "start_time": "2021-12-29T11:39:19.663113",
     "status": "completed"
    },
    "tags": []
   },
   "outputs": [],
   "source": [
    "# x - Independent Features\n",
    "\n",
    "x = data.drop(columns = ['corona_result'], axis = 1)\n",
    "\n",
    "# y - Target Feature\n",
    "\n",
    "y = data['corona_result']"
   ]
  },
  {
   "cell_type": "code",
   "execution_count": 21,
   "id": "25c1578d",
   "metadata": {
    "execution": {
     "iopub.execute_input": "2021-12-29T11:39:20.041074Z",
     "iopub.status.busy": "2021-12-29T11:39:20.040405Z",
     "iopub.status.idle": "2021-12-29T11:39:22.645394Z",
     "shell.execute_reply": "2021-12-29T11:39:22.644845Z",
     "shell.execute_reply.started": "2021-12-29T11:30:12.346441Z"
    },
    "papermill": {
     "duration": 2.661852,
     "end_time": "2021-12-29T11:39:22.645566",
     "exception": false,
     "start_time": "2021-12-29T11:39:19.983714",
     "status": "completed"
    },
    "tags": []
   },
   "outputs": [],
   "source": [
    "# Undersampling Covid Negative Cases (Setting n(+ve cases) = 0.6 * n(-ve cases))\n",
    "\n",
    "under = RandomUnderSampler(sampling_strategy = 0.6, random_state = 42)\n",
    "os_x, os_y = under.fit_resample(x, y)"
   ]
  },
  {
   "cell_type": "code",
   "execution_count": 22,
   "id": "2c8db266",
   "metadata": {
    "execution": {
     "iopub.execute_input": "2021-12-29T11:39:22.756725Z",
     "iopub.status.busy": "2021-12-29T11:39:22.756055Z",
     "iopub.status.idle": "2021-12-29T11:39:22.817338Z",
     "shell.execute_reply": "2021-12-29T11:39:22.817828Z",
     "shell.execute_reply.started": "2021-12-29T11:30:17.136567Z"
    },
    "papermill": {
     "duration": 0.121001,
     "end_time": "2021-12-29T11:39:22.817991",
     "exception": false,
     "start_time": "2021-12-29T11:39:22.696990",
     "status": "completed"
    },
    "tags": []
   },
   "outputs": [
    {
     "data": {
      "text/html": [
       "<div>                            <div id=\"91381b7d-96c8-4d61-a177-b8b744f8be9a\" class=\"plotly-graph-div\" style=\"height:525px; width:100%;\"></div>            <script type=\"text/javascript\">                require([\"plotly\"], function(Plotly) {                    window.PLOTLYENV=window.PLOTLYENV || {};                                    if (document.getElementById(\"91381b7d-96c8-4d61-a177-b8b744f8be9a\")) {                    Plotly.newPlot(                        \"91381b7d-96c8-4d61-a177-b8b744f8be9a\",                        [{\"alignmentgroup\":\"True\",\"hovertemplate\":\"Corona_result=%{x}<br>Count=%{y}<extra></extra>\",\"legendgroup\":\"Negative\",\"marker\":{\"color\":\"orange\",\"pattern\":{\"shape\":\"\"}},\"name\":\"Negative\",\"offsetgroup\":\"Negative\",\"orientation\":\"v\",\"showlegend\":true,\"textposition\":\"auto\",\"x\":[\"Negative\"],\"xaxis\":\"x\",\"y\":[270035],\"yaxis\":\"y\",\"type\":\"bar\"},{\"alignmentgroup\":\"True\",\"hovertemplate\":\"Corona_result=%{x}<br>Count=%{y}<extra></extra>\",\"legendgroup\":\"Positive\",\"marker\":{\"color\":\"purple\",\"pattern\":{\"shape\":\"\"}},\"name\":\"Positive\",\"offsetgroup\":\"Positive\",\"orientation\":\"v\",\"showlegend\":true,\"textposition\":\"auto\",\"x\":[\"Positive\"],\"xaxis\":\"x\",\"y\":[162021],\"yaxis\":\"y\",\"type\":\"bar\"}],                        {\"template\":{\"data\":{\"barpolar\":[{\"marker\":{\"line\":{\"color\":\"rgb(17,17,17)\",\"width\":0.5},\"pattern\":{\"fillmode\":\"overlay\",\"size\":10,\"solidity\":0.2}},\"type\":\"barpolar\"}],\"bar\":[{\"error_x\":{\"color\":\"#f2f5fa\"},\"error_y\":{\"color\":\"#f2f5fa\"},\"marker\":{\"line\":{\"color\":\"rgb(17,17,17)\",\"width\":0.5},\"pattern\":{\"fillmode\":\"overlay\",\"size\":10,\"solidity\":0.2}},\"type\":\"bar\"}],\"carpet\":[{\"aaxis\":{\"endlinecolor\":\"#A2B1C6\",\"gridcolor\":\"#506784\",\"linecolor\":\"#506784\",\"minorgridcolor\":\"#506784\",\"startlinecolor\":\"#A2B1C6\"},\"baxis\":{\"endlinecolor\":\"#A2B1C6\",\"gridcolor\":\"#506784\",\"linecolor\":\"#506784\",\"minorgridcolor\":\"#506784\",\"startlinecolor\":\"#A2B1C6\"},\"type\":\"carpet\"}],\"choropleth\":[{\"colorbar\":{\"outlinewidth\":0,\"ticks\":\"\"},\"type\":\"choropleth\"}],\"contourcarpet\":[{\"colorbar\":{\"outlinewidth\":0,\"ticks\":\"\"},\"type\":\"contourcarpet\"}],\"contour\":[{\"colorbar\":{\"outlinewidth\":0,\"ticks\":\"\"},\"colorscale\":[[0.0,\"#0d0887\"],[0.1111111111111111,\"#46039f\"],[0.2222222222222222,\"#7201a8\"],[0.3333333333333333,\"#9c179e\"],[0.4444444444444444,\"#bd3786\"],[0.5555555555555556,\"#d8576b\"],[0.6666666666666666,\"#ed7953\"],[0.7777777777777778,\"#fb9f3a\"],[0.8888888888888888,\"#fdca26\"],[1.0,\"#f0f921\"]],\"type\":\"contour\"}],\"heatmapgl\":[{\"colorbar\":{\"outlinewidth\":0,\"ticks\":\"\"},\"colorscale\":[[0.0,\"#0d0887\"],[0.1111111111111111,\"#46039f\"],[0.2222222222222222,\"#7201a8\"],[0.3333333333333333,\"#9c179e\"],[0.4444444444444444,\"#bd3786\"],[0.5555555555555556,\"#d8576b\"],[0.6666666666666666,\"#ed7953\"],[0.7777777777777778,\"#fb9f3a\"],[0.8888888888888888,\"#fdca26\"],[1.0,\"#f0f921\"]],\"type\":\"heatmapgl\"}],\"heatmap\":[{\"colorbar\":{\"outlinewidth\":0,\"ticks\":\"\"},\"colorscale\":[[0.0,\"#0d0887\"],[0.1111111111111111,\"#46039f\"],[0.2222222222222222,\"#7201a8\"],[0.3333333333333333,\"#9c179e\"],[0.4444444444444444,\"#bd3786\"],[0.5555555555555556,\"#d8576b\"],[0.6666666666666666,\"#ed7953\"],[0.7777777777777778,\"#fb9f3a\"],[0.8888888888888888,\"#fdca26\"],[1.0,\"#f0f921\"]],\"type\":\"heatmap\"}],\"histogram2dcontour\":[{\"colorbar\":{\"outlinewidth\":0,\"ticks\":\"\"},\"colorscale\":[[0.0,\"#0d0887\"],[0.1111111111111111,\"#46039f\"],[0.2222222222222222,\"#7201a8\"],[0.3333333333333333,\"#9c179e\"],[0.4444444444444444,\"#bd3786\"],[0.5555555555555556,\"#d8576b\"],[0.6666666666666666,\"#ed7953\"],[0.7777777777777778,\"#fb9f3a\"],[0.8888888888888888,\"#fdca26\"],[1.0,\"#f0f921\"]],\"type\":\"histogram2dcontour\"}],\"histogram2d\":[{\"colorbar\":{\"outlinewidth\":0,\"ticks\":\"\"},\"colorscale\":[[0.0,\"#0d0887\"],[0.1111111111111111,\"#46039f\"],[0.2222222222222222,\"#7201a8\"],[0.3333333333333333,\"#9c179e\"],[0.4444444444444444,\"#bd3786\"],[0.5555555555555556,\"#d8576b\"],[0.6666666666666666,\"#ed7953\"],[0.7777777777777778,\"#fb9f3a\"],[0.8888888888888888,\"#fdca26\"],[1.0,\"#f0f921\"]],\"type\":\"histogram2d\"}],\"histogram\":[{\"marker\":{\"pattern\":{\"fillmode\":\"overlay\",\"size\":10,\"solidity\":0.2}},\"type\":\"histogram\"}],\"mesh3d\":[{\"colorbar\":{\"outlinewidth\":0,\"ticks\":\"\"},\"type\":\"mesh3d\"}],\"parcoords\":[{\"line\":{\"colorbar\":{\"outlinewidth\":0,\"ticks\":\"\"}},\"type\":\"parcoords\"}],\"pie\":[{\"automargin\":true,\"type\":\"pie\"}],\"scatter3d\":[{\"line\":{\"colorbar\":{\"outlinewidth\":0,\"ticks\":\"\"}},\"marker\":{\"colorbar\":{\"outlinewidth\":0,\"ticks\":\"\"}},\"type\":\"scatter3d\"}],\"scattercarpet\":[{\"marker\":{\"colorbar\":{\"outlinewidth\":0,\"ticks\":\"\"}},\"type\":\"scattercarpet\"}],\"scattergeo\":[{\"marker\":{\"colorbar\":{\"outlinewidth\":0,\"ticks\":\"\"}},\"type\":\"scattergeo\"}],\"scattergl\":[{\"marker\":{\"line\":{\"color\":\"#283442\"}},\"type\":\"scattergl\"}],\"scattermapbox\":[{\"marker\":{\"colorbar\":{\"outlinewidth\":0,\"ticks\":\"\"}},\"type\":\"scattermapbox\"}],\"scatterpolargl\":[{\"marker\":{\"colorbar\":{\"outlinewidth\":0,\"ticks\":\"\"}},\"type\":\"scatterpolargl\"}],\"scatterpolar\":[{\"marker\":{\"colorbar\":{\"outlinewidth\":0,\"ticks\":\"\"}},\"type\":\"scatterpolar\"}],\"scatter\":[{\"marker\":{\"line\":{\"color\":\"#283442\"}},\"type\":\"scatter\"}],\"scatterternary\":[{\"marker\":{\"colorbar\":{\"outlinewidth\":0,\"ticks\":\"\"}},\"type\":\"scatterternary\"}],\"surface\":[{\"colorbar\":{\"outlinewidth\":0,\"ticks\":\"\"},\"colorscale\":[[0.0,\"#0d0887\"],[0.1111111111111111,\"#46039f\"],[0.2222222222222222,\"#7201a8\"],[0.3333333333333333,\"#9c179e\"],[0.4444444444444444,\"#bd3786\"],[0.5555555555555556,\"#d8576b\"],[0.6666666666666666,\"#ed7953\"],[0.7777777777777778,\"#fb9f3a\"],[0.8888888888888888,\"#fdca26\"],[1.0,\"#f0f921\"]],\"type\":\"surface\"}],\"table\":[{\"cells\":{\"fill\":{\"color\":\"#506784\"},\"line\":{\"color\":\"rgb(17,17,17)\"}},\"header\":{\"fill\":{\"color\":\"#2a3f5f\"},\"line\":{\"color\":\"rgb(17,17,17)\"}},\"type\":\"table\"}]},\"layout\":{\"annotationdefaults\":{\"arrowcolor\":\"#f2f5fa\",\"arrowhead\":0,\"arrowwidth\":1},\"autotypenumbers\":\"strict\",\"coloraxis\":{\"colorbar\":{\"outlinewidth\":0,\"ticks\":\"\"}},\"colorscale\":{\"diverging\":[[0,\"#8e0152\"],[0.1,\"#c51b7d\"],[0.2,\"#de77ae\"],[0.3,\"#f1b6da\"],[0.4,\"#fde0ef\"],[0.5,\"#f7f7f7\"],[0.6,\"#e6f5d0\"],[0.7,\"#b8e186\"],[0.8,\"#7fbc41\"],[0.9,\"#4d9221\"],[1,\"#276419\"]],\"sequential\":[[0.0,\"#0d0887\"],[0.1111111111111111,\"#46039f\"],[0.2222222222222222,\"#7201a8\"],[0.3333333333333333,\"#9c179e\"],[0.4444444444444444,\"#bd3786\"],[0.5555555555555556,\"#d8576b\"],[0.6666666666666666,\"#ed7953\"],[0.7777777777777778,\"#fb9f3a\"],[0.8888888888888888,\"#fdca26\"],[1.0,\"#f0f921\"]],\"sequentialminus\":[[0.0,\"#0d0887\"],[0.1111111111111111,\"#46039f\"],[0.2222222222222222,\"#7201a8\"],[0.3333333333333333,\"#9c179e\"],[0.4444444444444444,\"#bd3786\"],[0.5555555555555556,\"#d8576b\"],[0.6666666666666666,\"#ed7953\"],[0.7777777777777778,\"#fb9f3a\"],[0.8888888888888888,\"#fdca26\"],[1.0,\"#f0f921\"]]},\"colorway\":[\"#636efa\",\"#EF553B\",\"#00cc96\",\"#ab63fa\",\"#FFA15A\",\"#19d3f3\",\"#FF6692\",\"#B6E880\",\"#FF97FF\",\"#FECB52\"],\"font\":{\"color\":\"#f2f5fa\"},\"geo\":{\"bgcolor\":\"rgb(17,17,17)\",\"lakecolor\":\"rgb(17,17,17)\",\"landcolor\":\"rgb(17,17,17)\",\"showlakes\":true,\"showland\":true,\"subunitcolor\":\"#506784\"},\"hoverlabel\":{\"align\":\"left\"},\"hovermode\":\"closest\",\"mapbox\":{\"style\":\"dark\"},\"paper_bgcolor\":\"rgb(17,17,17)\",\"plot_bgcolor\":\"rgb(17,17,17)\",\"polar\":{\"angularaxis\":{\"gridcolor\":\"#506784\",\"linecolor\":\"#506784\",\"ticks\":\"\"},\"bgcolor\":\"rgb(17,17,17)\",\"radialaxis\":{\"gridcolor\":\"#506784\",\"linecolor\":\"#506784\",\"ticks\":\"\"}},\"scene\":{\"xaxis\":{\"backgroundcolor\":\"rgb(17,17,17)\",\"gridcolor\":\"#506784\",\"gridwidth\":2,\"linecolor\":\"#506784\",\"showbackground\":true,\"ticks\":\"\",\"zerolinecolor\":\"#C8D4E3\"},\"yaxis\":{\"backgroundcolor\":\"rgb(17,17,17)\",\"gridcolor\":\"#506784\",\"gridwidth\":2,\"linecolor\":\"#506784\",\"showbackground\":true,\"ticks\":\"\",\"zerolinecolor\":\"#C8D4E3\"},\"zaxis\":{\"backgroundcolor\":\"rgb(17,17,17)\",\"gridcolor\":\"#506784\",\"gridwidth\":2,\"linecolor\":\"#506784\",\"showbackground\":true,\"ticks\":\"\",\"zerolinecolor\":\"#C8D4E3\"}},\"shapedefaults\":{\"line\":{\"color\":\"#f2f5fa\"}},\"sliderdefaults\":{\"bgcolor\":\"#C8D4E3\",\"bordercolor\":\"rgb(17,17,17)\",\"borderwidth\":1,\"tickwidth\":0},\"ternary\":{\"aaxis\":{\"gridcolor\":\"#506784\",\"linecolor\":\"#506784\",\"ticks\":\"\"},\"baxis\":{\"gridcolor\":\"#506784\",\"linecolor\":\"#506784\",\"ticks\":\"\"},\"bgcolor\":\"rgb(17,17,17)\",\"caxis\":{\"gridcolor\":\"#506784\",\"linecolor\":\"#506784\",\"ticks\":\"\"}},\"title\":{\"x\":0.05},\"updatemenudefaults\":{\"bgcolor\":\"#506784\",\"borderwidth\":0},\"xaxis\":{\"automargin\":true,\"gridcolor\":\"#283442\",\"linecolor\":\"#506784\",\"ticks\":\"\",\"title\":{\"standoff\":15},\"zerolinecolor\":\"#283442\",\"zerolinewidth\":2},\"yaxis\":{\"automargin\":true,\"gridcolor\":\"#283442\",\"linecolor\":\"#506784\",\"ticks\":\"\",\"title\":{\"standoff\":15},\"zerolinecolor\":\"#283442\",\"zerolinewidth\":2}}},\"xaxis\":{\"anchor\":\"y\",\"domain\":[0.0,1.0],\"title\":{\"text\":\"Corona_result\"},\"categoryorder\":\"array\",\"categoryarray\":[\"Negative\",\"Positive\"]},\"yaxis\":{\"anchor\":\"x\",\"domain\":[0.0,1.0],\"title\":{\"text\":\"Count\"}},\"legend\":{\"title\":{\"text\":\"Corona_result\"},\"tracegroupgap\":0},\"margin\":{\"t\":60},\"barmode\":\"relative\"},                        {\"responsive\": true}                    ).then(function(){\n",
       "                            \n",
       "var gd = document.getElementById('91381b7d-96c8-4d61-a177-b8b744f8be9a');\n",
       "var x = new MutationObserver(function (mutations, observer) {{\n",
       "        var display = window.getComputedStyle(gd).display;\n",
       "        if (!display || display === 'none') {{\n",
       "            console.log([gd, 'removed!']);\n",
       "            Plotly.purge(gd);\n",
       "            observer.disconnect();\n",
       "        }}\n",
       "}});\n",
       "\n",
       "// Listen for the removal of the full notebook cells\n",
       "var notebookContainer = gd.closest('#notebook-container');\n",
       "if (notebookContainer) {{\n",
       "    x.observe(notebookContainer, {childList: true});\n",
       "}}\n",
       "\n",
       "// Listen for the clearing of the current output cell\n",
       "var outputEl = gd.closest('.output');\n",
       "if (outputEl) {{\n",
       "    x.observe(outputEl, {childList: true});\n",
       "}}\n",
       "\n",
       "                        })                };                });            </script>        </div>"
      ]
     },
     "metadata": {},
     "output_type": "display_data"
    }
   ],
   "source": [
    "# Analyzing Target Feature after undersampling\n",
    "\n",
    "df = pd.DataFrame()\n",
    "df['Corona_result'] = ['Negative','Positive']\n",
    "df['Count'] = [len(os_y[os_y == 0]), len(os_y[os_y == 1])]\n",
    "df = df.sort_values(by = ['Count'], ascending = False)\n",
    "fig = px.bar(df, x = 'Corona_result', y = 'Count', \n",
    "             color = \"Corona_result\", \n",
    "             color_discrete_sequence = [\"orange\", \"purple\"],\n",
    "             template = 'plotly_dark')\n",
    "fig.show()"
   ]
  },
  {
   "cell_type": "code",
   "execution_count": 23,
   "id": "9289a0b0",
   "metadata": {
    "execution": {
     "iopub.execute_input": "2021-12-29T11:39:22.932134Z",
     "iopub.status.busy": "2021-12-29T11:39:22.931207Z",
     "iopub.status.idle": "2021-12-29T11:39:22.935376Z",
     "shell.execute_reply": "2021-12-29T11:39:22.934929Z",
     "shell.execute_reply.started": "2021-12-28T21:00:32.489114Z"
    },
    "papermill": {
     "duration": 0.065934,
     "end_time": "2021-12-29T11:39:22.935557",
     "exception": false,
     "start_time": "2021-12-29T11:39:22.869623",
     "status": "completed"
    },
    "tags": []
   },
   "outputs": [
    {
     "data": {
      "text/plain": [
       "0    270035\n",
       "1    162021\n",
       "Name: corona_result, dtype: int64"
      ]
     },
     "execution_count": 23,
     "metadata": {},
     "output_type": "execute_result"
    }
   ],
   "source": [
    "os_y.value_counts()"
   ]
  },
  {
   "cell_type": "markdown",
   "id": "0263149e",
   "metadata": {
    "papermill": {
     "duration": 0.052596,
     "end_time": "2021-12-29T11:39:23.040462",
     "exception": false,
     "start_time": "2021-12-29T11:39:22.987866",
     "status": "completed"
    },
    "tags": []
   },
   "source": [
    "> #### We observe that the data is now balanced. \n",
    "\n",
    "> #### Covid Positive Cases - 162021, Covid Negative Cases - 270035"
   ]
  },
  {
   "cell_type": "markdown",
   "id": "0f4003dd",
   "metadata": {
    "papermill": {
     "duration": 0.05379,
     "end_time": "2021-12-29T11:39:23.147462",
     "exception": false,
     "start_time": "2021-12-29T11:39:23.093672",
     "status": "completed"
    },
    "tags": []
   },
   "source": [
    "### Train Test Split "
   ]
  },
  {
   "cell_type": "code",
   "execution_count": 24,
   "id": "84a4a7af",
   "metadata": {
    "execution": {
     "iopub.execute_input": "2021-12-29T11:39:23.259700Z",
     "iopub.status.busy": "2021-12-29T11:39:23.258897Z",
     "iopub.status.idle": "2021-12-29T11:39:23.377907Z",
     "shell.execute_reply": "2021-12-29T11:39:23.378327Z",
     "shell.execute_reply.started": "2021-12-29T11:30:23.118575Z"
    },
    "papermill": {
     "duration": 0.178,
     "end_time": "2021-12-29T11:39:23.378550",
     "exception": false,
     "start_time": "2021-12-29T11:39:23.200550",
     "status": "completed"
    },
    "tags": []
   },
   "outputs": [],
   "source": [
    "# Setting Train:Test ratio as 70:30\n",
    "\n",
    "X_train, X_test, Y_train, Y_test = train_test_split(os_x, os_y, test_size = 0.3, random_state = 42)"
   ]
  },
  {
   "cell_type": "code",
   "execution_count": 25,
   "id": "8ba7d4a2",
   "metadata": {
    "execution": {
     "iopub.execute_input": "2021-12-29T11:39:23.489808Z",
     "iopub.status.busy": "2021-12-29T11:39:23.488811Z",
     "iopub.status.idle": "2021-12-29T11:39:23.499844Z",
     "shell.execute_reply": "2021-12-29T11:39:23.500328Z",
     "shell.execute_reply.started": "2021-12-29T11:30:24.456711Z"
    },
    "papermill": {
     "duration": 0.069422,
     "end_time": "2021-12-29T11:39:23.500515",
     "exception": false,
     "start_time": "2021-12-29T11:39:23.431093",
     "status": "completed"
    },
    "tags": []
   },
   "outputs": [
    {
     "name": "stdout",
     "output_type": "stream",
     "text": [
      "(302439, 9) (129617, 9) (302439,) (129617,)\n",
      "\n",
      "0    188938\n",
      "1    113501\n",
      "Name: corona_result, dtype: int64\n",
      "\n",
      "0    81097\n",
      "1    48520\n",
      "Name: corona_result, dtype: int64\n"
     ]
    }
   ],
   "source": [
    "print(X_train.shape, X_test.shape, Y_train.shape, Y_test.shape)\n",
    "print()\n",
    "print(Y_train.value_counts())\n",
    "print()\n",
    "print(Y_test.value_counts())"
   ]
  },
  {
   "cell_type": "markdown",
   "id": "78403eab",
   "metadata": {
    "papermill": {
     "duration": 0.053699,
     "end_time": "2021-12-29T11:39:23.609759",
     "exception": false,
     "start_time": "2021-12-29T11:39:23.556060",
     "status": "completed"
    },
    "tags": []
   },
   "source": [
    "### [Evaluation Metrics](https://www.analyticsvidhya.com/blog/2020/10/how-to-choose-evaluation-metrics-for-classification-model/)"
   ]
  },
  {
   "attachments": {
    "8842c594-fed3-4f32-98a6-4a0b282f9c13.png": {
     "image/png": "[encoded data removed]"
    }
   },
   "cell_type": "markdown",
   "id": "6031ebc5",
   "metadata": {
    "papermill": {
     "duration": 0.053496,
     "end_time": "2021-12-29T11:39:23.717908",
     "exception": false,
     "start_time": "2021-12-29T11:39:23.664412",
     "status": "completed"
    },
    "tags": []
   },
   "source": [
    "> ![image.png](attachment:8842c594-fed3-4f32-98a6-4a0b282f9c13.png)\n",
    "\n",
    "> #### We will be using 5 metrics to evaluate our Models.\n",
    "\n",
    "> #### Metrics - Recall, Specificity, Accuracy, Precision & F1 Score."
   ]
  },
  {
   "cell_type": "code",
   "execution_count": 26,
   "id": "5b331e45",
   "metadata": {
    "execution": {
     "iopub.execute_input": "2021-12-29T11:39:23.827288Z",
     "iopub.status.busy": "2021-12-29T11:39:23.826283Z",
     "iopub.status.idle": "2021-12-29T11:39:23.839702Z",
     "shell.execute_reply": "2021-12-29T11:39:23.840138Z",
     "shell.execute_reply.started": "2021-12-29T11:30:31.688768Z"
    },
    "papermill": {
     "duration": 0.069482,
     "end_time": "2021-12-29T11:39:23.840315",
     "exception": false,
     "start_time": "2021-12-29T11:39:23.770833",
     "status": "completed"
    },
    "tags": []
   },
   "outputs": [],
   "source": [
    "# Function for Model Evaluation\n",
    "\n",
    "def evaluation_parametrics(name, y_train, yp_train, y_test, yp_test):\n",
    "    \n",
    "    print(\"\\n-----------------------------{}-----------------------------\\n\".format(name))\n",
    "    \n",
    "    cm_train = confusion_matrix(y_train, yp_train)\n",
    "    t1 = ConfusionMatrixDisplay(cm_train)\n",
    "    r1 = 100*round((cm_train[1,1]/(cm_train[1,1] + cm_train[1,0])),4)\n",
    "    p1 = 100*round((cm_train[1,1]/(cm_train[0,1] + cm_train[1,1])),4)\n",
    "    f1 = round(((2*p1*r1)/(p1+r1)),4)\n",
    "    a1 = 100*round(((cm_train[0,0] + cm_train[1,1])/(cm_train[0,0] + cm_train[0,1] + cm_train[1,0] + cm_train[1,1])),4)\n",
    "    s1 = 100*round((cm_train[0,0]/(cm_train[0,0] + cm_train[0,1])),4)\n",
    "    \n",
    "    print(\"Classification Report for Train Data\\n\")\n",
    "    print(classification_report(y_train, yp_train))\n",
    "    print(\"--------------------------------------------------------------------------\")\n",
    "    print(\"Recall on Train Data: {}\".format(r1))\n",
    "    print(\"Specificity on Train Data: {}\".format(s1))\n",
    "    print(\"Accuracy on Train Data: {}\".format(a1))\n",
    "    print(\"Precision on Train Data: {}\".format(p1))\n",
    "    print(\"F1 Score Train Data: {}\".format(f1))\n",
    "    print(\"--------------------------------------------------------------------------\")\n",
    "          \n",
    "    cm_test = confusion_matrix(y_test, yp_test)\n",
    "    t2 = ConfusionMatrixDisplay(cm_test)\n",
    "    r2 = 100*round((cm_test[1,1]/(cm_test[1,1] + cm_test[1,0])),4)\n",
    "    p2 = 100*round((cm_test[1,1]/(cm_test[0,1] + cm_test[1,1])),4)\n",
    "    f2 = round(((2*p2*r2)/(p2+r2)),4)\n",
    "    a2 = 100*round(((cm_test[0,0] + cm_test[1,1])/(cm_test[0,0] + cm_test[0,1] + cm_test[1,0] + cm_test[1,1])),4)\n",
    "    s2 = 100*round((cm_test[0,0]/(cm_test[0,0] + cm_test[0,1])),4)\n",
    "    \n",
    "    print(\"\\nClassification Report for Test Data\\n\")\n",
    "    print(classification_report(y_test, yp_test))\n",
    "    print(\"--------------------------------------------------------------------------\")\n",
    "    print(\"Recall on Test Data: {}\".format(r2))\n",
    "    print(\"Specificity on Test Data: {}\".format(s2))\n",
    "    print(\"Accuracy on Test Data: {}\".format(a2))\n",
    "    print(\"Precision on Train Data: {}\".format(p2))\n",
    "    print(\"F1 Score Train Data: {}\".format(f2))\n",
    "    print(\"--------------------------------------------------------------------------\")\n",
    "    \n",
    "    t1.plot()\n",
    "    t2.plot()"
   ]
  },
  {
   "cell_type": "markdown",
   "id": "3e91d474",
   "metadata": {
    "papermill": {
     "duration": 0.052036,
     "end_time": "2021-12-29T11:39:23.944697",
     "exception": false,
     "start_time": "2021-12-29T11:39:23.892661",
     "status": "completed"
    },
    "tags": []
   },
   "source": [
    "### Feature Importance Graph"
   ]
  },
  {
   "cell_type": "code",
   "execution_count": 27,
   "id": "b12f95c4",
   "metadata": {
    "execution": {
     "iopub.execute_input": "2021-12-29T11:39:24.053633Z",
     "iopub.status.busy": "2021-12-29T11:39:24.052576Z",
     "iopub.status.idle": "2021-12-29T11:39:24.057778Z",
     "shell.execute_reply": "2021-12-29T11:39:24.058293Z",
     "shell.execute_reply.started": "2021-12-29T11:30:34.972129Z"
    },
    "papermill": {
     "duration": 0.061664,
     "end_time": "2021-12-29T11:39:24.058459",
     "exception": false,
     "start_time": "2021-12-29T11:39:23.996795",
     "status": "completed"
    },
    "tags": []
   },
   "outputs": [],
   "source": [
    "# Function for feature importance graph \n",
    "\n",
    "def feature_importance(df):\n",
    "    \n",
    "    df = df.sort_values(by = ['Variable Importance Score'], ascending = False)\n",
    "    fig = px.bar(df, x = 'Features', y = 'Variable Importance Score', \n",
    "                 color = \"Features\", \n",
    "                 color_discrete_sequence = px.colors.sequential.Plasma_r, \n",
    "                 template ='plotly_dark')\n",
    "    fig.show()"
   ]
  },
  {
   "cell_type": "markdown",
   "id": "7bd15225",
   "metadata": {
    "papermill": {
     "duration": 0.05393,
     "end_time": "2021-12-29T11:39:24.165069",
     "exception": false,
     "start_time": "2021-12-29T11:39:24.111139",
     "status": "completed"
    },
    "tags": []
   },
   "source": [
    "### M1 - Logistic Regression using GridSearchCv"
   ]
  },
  {
   "cell_type": "code",
   "execution_count": 28,
   "id": "aaf0a998",
   "metadata": {
    "execution": {
     "iopub.execute_input": "2021-12-29T11:39:24.273613Z",
     "iopub.status.busy": "2021-12-29T11:39:24.272660Z",
     "iopub.status.idle": "2021-12-29T11:40:59.695931Z",
     "shell.execute_reply": "2021-12-29T11:40:59.696411Z",
     "shell.execute_reply.started": "2021-12-23T08:10:55.326604Z"
    },
    "papermill": {
     "duration": 95.479459,
     "end_time": "2021-12-29T11:40:59.696612",
     "exception": false,
     "start_time": "2021-12-29T11:39:24.217153",
     "status": "completed"
    },
    "tags": []
   },
   "outputs": [
    {
     "name": "stdout",
     "output_type": "stream",
     "text": [
      "Best Parameters:  {'C': 1.0, 'penalty': 'l1'}\n",
      "Accuracy:  0.9769540303995186\n"
     ]
    }
   ],
   "source": [
    "grid1 = {\"C\": np.logspace(-3,3,7), \"penalty\": [\"l1\",\"l2\"]}\n",
    "\n",
    "lr = LogisticRegression(solver = \"saga\")\n",
    "lr_cv = GridSearchCV(lr, grid1, cv = 3)\n",
    "lr_cv.fit(X_train, Y_train)\n",
    "\n",
    "print(\"Best Parameters: \", lr_cv.best_params_)\n",
    "print(\"Accuracy: \",lr_cv.best_score_)"
   ]
  },
  {
   "cell_type": "code",
   "execution_count": 29,
   "id": "46f646bd",
   "metadata": {
    "execution": {
     "iopub.execute_input": "2021-12-29T11:40:59.811580Z",
     "iopub.status.busy": "2021-12-29T11:40:59.810245Z",
     "iopub.status.idle": "2021-12-29T11:41:04.566231Z",
     "shell.execute_reply": "2021-12-29T11:41:04.566693Z",
     "shell.execute_reply.started": "2021-12-28T17:38:04.81883Z"
    },
    "papermill": {
     "duration": 4.816762,
     "end_time": "2021-12-29T11:41:04.566878",
     "exception": false,
     "start_time": "2021-12-29T11:40:59.750116",
     "status": "completed"
    },
    "tags": []
   },
   "outputs": [
    {
     "name": "stdout",
     "output_type": "stream",
     "text": [
      "\n",
      "-----------------------------Logistic Regression Classifier-----------------------------\n",
      "\n",
      "Classification Report for Train Data\n",
      "\n",
      "              precision    recall  f1-score   support\n",
      "\n",
      "           0       1.00      0.96      0.98    188938\n",
      "           1       0.94      1.00      0.97    113501\n",
      "\n",
      "    accuracy                           0.98    302439\n",
      "   macro avg       0.97      0.98      0.98    302439\n",
      "weighted avg       0.98      0.98      0.98    302439\n",
      "\n",
      "--------------------------------------------------------------------------\n",
      "Recall on Train Data: 99.83999999999999\n",
      "Specificity on Train Data: 96.39999999999999\n",
      "Accuracy on Train Data: 97.69\n",
      "Precision on Train Data: 94.34\n",
      "F1 Score Train Data: 97.0121\n",
      "--------------------------------------------------------------------------\n",
      "\n",
      "Classification Report for Test Data\n",
      "\n",
      "              precision    recall  f1-score   support\n",
      "\n",
      "           0       1.00      0.96      0.98     81097\n",
      "           1       0.94      1.00      0.97     48520\n",
      "\n",
      "    accuracy                           0.98    129617\n",
      "   macro avg       0.97      0.98      0.98    129617\n",
      "weighted avg       0.98      0.98      0.98    129617\n",
      "\n",
      "--------------------------------------------------------------------------\n",
      "Recall on Test Data: 99.87\n",
      "Specificity on Test Data: 96.44\n",
      "Accuracy on Test Data: 97.72\n",
      "Precision on Train Data: 94.37\n",
      "F1 Score Train Data: 97.0421\n",
      "--------------------------------------------------------------------------\n"
     ]
    },
    {
     "data": {
      "image/png": "[encoded data removed]",
      "text/plain": [
       "<Figure size 432x288 with 2 Axes>"
      ]
     },
     "metadata": {
      "needs_background": "light"
     },
     "output_type": "display_data"
    },
    {
     "data": {
      "image/png": "[encoded data removed]",
      "text/plain": [
       "<Figure size 432x288 with 2 Axes>"
      ]
     },
     "metadata": {
      "needs_background": "light"
     },
     "output_type": "display_data"
    }
   ],
   "source": [
    "# Applying Best Parameters Suggested by GridSearch\n",
    "\n",
    "lr = LogisticRegression(C = 1.0, penalty = 'l1', solver = \"saga\")\n",
    "\n",
    "lr.fit(X_train, Y_train)\n",
    "\n",
    "lr_yp_train = lr.predict(X_train)\n",
    "lr_yp_test = lr.predict(X_test)\n",
    "\n",
    "# Model Evaluation\n",
    "\n",
    "evaluation_parametrics(\"Logistic Regression Classifier\", Y_train, lr_yp_train, Y_test, lr_yp_test)"
   ]
  },
  {
   "cell_type": "code",
   "execution_count": 30,
   "id": "c1274e96",
   "metadata": {
    "execution": {
     "iopub.execute_input": "2021-12-29T11:41:04.682979Z",
     "iopub.status.busy": "2021-12-29T11:41:04.682262Z",
     "iopub.status.idle": "2021-12-29T11:41:04.770139Z",
     "shell.execute_reply": "2021-12-29T11:41:04.769658Z",
     "shell.execute_reply.started": "2021-12-28T17:24:11.548292Z"
    },
    "papermill": {
     "duration": 0.147661,
     "end_time": "2021-12-29T11:41:04.770278",
     "exception": false,
     "start_time": "2021-12-29T11:41:04.622617",
     "status": "completed"
    },
    "tags": []
   },
   "outputs": [
    {
     "data": {
      "text/html": [
       "<div>                            <div id=\"19cb27fa-671a-4711-b4db-bb68666f4bc5\" class=\"plotly-graph-div\" style=\"height:525px; width:100%;\"></div>            <script type=\"text/javascript\">                require([\"plotly\"], function(Plotly) {                    window.PLOTLYENV=window.PLOTLYENV || {};                                    if (document.getElementById(\"19cb27fa-671a-4711-b4db-bb68666f4bc5\")) {                    Plotly.newPlot(                        \"19cb27fa-671a-4711-b4db-bb68666f4bc5\",                        [{\"alignmentgroup\":\"True\",\"hovertemplate\":\"Features=%{x}<br>Variable Importance Score=%{y}<extra></extra>\",\"legendgroup\":\"contact_with_covid_positive_patient\",\"marker\":{\"color\":\"#f0f921\",\"pattern\":{\"shape\":\"\"}},\"name\":\"contact_with_covid_positive_patient\",\"offsetgroup\":\"contact_with_covid_positive_patient\",\"orientation\":\"v\",\"showlegend\":true,\"textposition\":\"auto\",\"x\":[\"contact_with_covid_positive_patient\"],\"xaxis\":\"x\",\"y\":[5.164],\"yaxis\":\"y\",\"type\":\"bar\"},{\"alignmentgroup\":\"True\",\"hovertemplate\":\"Features=%{x}<br>Variable Importance Score=%{y}<extra></extra>\",\"legendgroup\":\"fever\",\"marker\":{\"color\":\"#fdca26\",\"pattern\":{\"shape\":\"\"}},\"name\":\"fever\",\"offsetgroup\":\"fever\",\"orientation\":\"v\",\"showlegend\":true,\"textposition\":\"auto\",\"x\":[\"fever\"],\"xaxis\":\"x\",\"y\":[4.873],\"yaxis\":\"y\",\"type\":\"bar\"},{\"alignmentgroup\":\"True\",\"hovertemplate\":\"Features=%{x}<br>Variable Importance Score=%{y}<extra></extra>\",\"legendgroup\":\"head_ache\",\"marker\":{\"color\":\"#fb9f3a\",\"pattern\":{\"shape\":\"\"}},\"name\":\"head_ache\",\"offsetgroup\":\"head_ache\",\"orientation\":\"v\",\"showlegend\":true,\"textposition\":\"auto\",\"x\":[\"head_ache\"],\"xaxis\":\"x\",\"y\":[2.984],\"yaxis\":\"y\",\"type\":\"bar\"},{\"alignmentgroup\":\"True\",\"hovertemplate\":\"Features=%{x}<br>Variable Importance Score=%{y}<extra></extra>\",\"legendgroup\":\"age_60_and_above\",\"marker\":{\"color\":\"#ed7953\",\"pattern\":{\"shape\":\"\"}},\"name\":\"age_60_and_above\",\"offsetgroup\":\"age_60_and_above\",\"orientation\":\"v\",\"showlegend\":true,\"textposition\":\"auto\",\"x\":[\"age_60_and_above\"],\"xaxis\":\"x\",\"y\":[2.934],\"yaxis\":\"y\",\"type\":\"bar\"},{\"alignmentgroup\":\"True\",\"hovertemplate\":\"Features=%{x}<br>Variable Importance Score=%{y}<extra></extra>\",\"legendgroup\":\"cough\",\"marker\":{\"color\":\"#d8576b\",\"pattern\":{\"shape\":\"\"}},\"name\":\"cough\",\"offsetgroup\":\"cough\",\"orientation\":\"v\",\"showlegend\":true,\"textposition\":\"auto\",\"x\":[\"cough\"],\"xaxis\":\"x\",\"y\":[2.809],\"yaxis\":\"y\",\"type\":\"bar\"},{\"alignmentgroup\":\"True\",\"hovertemplate\":\"Features=%{x}<br>Variable Importance Score=%{y}<extra></extra>\",\"legendgroup\":\"shortness_of_breath\",\"marker\":{\"color\":\"#bd3786\",\"pattern\":{\"shape\":\"\"}},\"name\":\"shortness_of_breath\",\"offsetgroup\":\"shortness_of_breath\",\"orientation\":\"v\",\"showlegend\":true,\"textposition\":\"auto\",\"x\":[\"shortness_of_breath\"],\"xaxis\":\"x\",\"y\":[2.68],\"yaxis\":\"y\",\"type\":\"bar\"},{\"alignmentgroup\":\"True\",\"hovertemplate\":\"Features=%{x}<br>Variable Importance Score=%{y}<extra></extra>\",\"legendgroup\":\"sore_throat\",\"marker\":{\"color\":\"#9c179e\",\"pattern\":{\"shape\":\"\"}},\"name\":\"sore_throat\",\"offsetgroup\":\"sore_throat\",\"orientation\":\"v\",\"showlegend\":true,\"textposition\":\"auto\",\"x\":[\"sore_throat\"],\"xaxis\":\"x\",\"y\":[2.556],\"yaxis\":\"y\",\"type\":\"bar\"},{\"alignmentgroup\":\"True\",\"hovertemplate\":\"Features=%{x}<br>Variable Importance Score=%{y}<extra></extra>\",\"legendgroup\":\"abroad\",\"marker\":{\"color\":\"#7201a8\",\"pattern\":{\"shape\":\"\"}},\"name\":\"abroad\",\"offsetgroup\":\"abroad\",\"orientation\":\"v\",\"showlegend\":true,\"textposition\":\"auto\",\"x\":[\"abroad\"],\"xaxis\":\"x\",\"y\":[0.528],\"yaxis\":\"y\",\"type\":\"bar\"},{\"alignmentgroup\":\"True\",\"hovertemplate\":\"Features=%{x}<br>Variable Importance Score=%{y}<extra></extra>\",\"legendgroup\":\"gender\",\"marker\":{\"color\":\"#46039f\",\"pattern\":{\"shape\":\"\"}},\"name\":\"gender\",\"offsetgroup\":\"gender\",\"orientation\":\"v\",\"showlegend\":true,\"textposition\":\"auto\",\"x\":[\"gender\"],\"xaxis\":\"x\",\"y\":[0.104],\"yaxis\":\"y\",\"type\":\"bar\"}],                        {\"template\":{\"data\":{\"barpolar\":[{\"marker\":{\"line\":{\"color\":\"rgb(17,17,17)\",\"width\":0.5},\"pattern\":{\"fillmode\":\"overlay\",\"size\":10,\"solidity\":0.2}},\"type\":\"barpolar\"}],\"bar\":[{\"error_x\":{\"color\":\"#f2f5fa\"},\"error_y\":{\"color\":\"#f2f5fa\"},\"marker\":{\"line\":{\"color\":\"rgb(17,17,17)\",\"width\":0.5},\"pattern\":{\"fillmode\":\"overlay\",\"size\":10,\"solidity\":0.2}},\"type\":\"bar\"}],\"carpet\":[{\"aaxis\":{\"endlinecolor\":\"#A2B1C6\",\"gridcolor\":\"#506784\",\"linecolor\":\"#506784\",\"minorgridcolor\":\"#506784\",\"startlinecolor\":\"#A2B1C6\"},\"baxis\":{\"endlinecolor\":\"#A2B1C6\",\"gridcolor\":\"#506784\",\"linecolor\":\"#506784\",\"minorgridcolor\":\"#506784\",\"startlinecolor\":\"#A2B1C6\"},\"type\":\"carpet\"}],\"choropleth\":[{\"colorbar\":{\"outlinewidth\":0,\"ticks\":\"\"},\"type\":\"choropleth\"}],\"contourcarpet\":[{\"colorbar\":{\"outlinewidth\":0,\"ticks\":\"\"},\"type\":\"contourcarpet\"}],\"contour\":[{\"colorbar\":{\"outlinewidth\":0,\"ticks\":\"\"},\"colorscale\":[[0.0,\"#0d0887\"],[0.1111111111111111,\"#46039f\"],[0.2222222222222222,\"#7201a8\"],[0.3333333333333333,\"#9c179e\"],[0.4444444444444444,\"#bd3786\"],[0.5555555555555556,\"#d8576b\"],[0.6666666666666666,\"#ed7953\"],[0.7777777777777778,\"#fb9f3a\"],[0.8888888888888888,\"#fdca26\"],[1.0,\"#f0f921\"]],\"type\":\"contour\"}],\"heatmapgl\":[{\"colorbar\":{\"outlinewidth\":0,\"ticks\":\"\"},\"colorscale\":[[0.0,\"#0d0887\"],[0.1111111111111111,\"#46039f\"],[0.2222222222222222,\"#7201a8\"],[0.3333333333333333,\"#9c179e\"],[0.4444444444444444,\"#bd3786\"],[0.5555555555555556,\"#d8576b\"],[0.6666666666666666,\"#ed7953\"],[0.7777777777777778,\"#fb9f3a\"],[0.8888888888888888,\"#fdca26\"],[1.0,\"#f0f921\"]],\"type\":\"heatmapgl\"}],\"heatmap\":[{\"colorbar\":{\"outlinewidth\":0,\"ticks\":\"\"},\"colorscale\":[[0.0,\"#0d0887\"],[0.1111111111111111,\"#46039f\"],[0.2222222222222222,\"#7201a8\"],[0.3333333333333333,\"#9c179e\"],[0.4444444444444444,\"#bd3786\"],[0.5555555555555556,\"#d8576b\"],[0.6666666666666666,\"#ed7953\"],[0.7777777777777778,\"#fb9f3a\"],[0.8888888888888888,\"#fdca26\"],[1.0,\"#f0f921\"]],\"type\":\"heatmap\"}],\"histogram2dcontour\":[{\"colorbar\":{\"outlinewidth\":0,\"ticks\":\"\"},\"colorscale\":[[0.0,\"#0d0887\"],[0.1111111111111111,\"#46039f\"],[0.2222222222222222,\"#7201a8\"],[0.3333333333333333,\"#9c179e\"],[0.4444444444444444,\"#bd3786\"],[0.5555555555555556,\"#d8576b\"],[0.6666666666666666,\"#ed7953\"],[0.7777777777777778,\"#fb9f3a\"],[0.8888888888888888,\"#fdca26\"],[1.0,\"#f0f921\"]],\"type\":\"histogram2dcontour\"}],\"histogram2d\":[{\"colorbar\":{\"outlinewidth\":0,\"ticks\":\"\"},\"colorscale\":[[0.0,\"#0d0887\"],[0.1111111111111111,\"#46039f\"],[0.2222222222222222,\"#7201a8\"],[0.3333333333333333,\"#9c179e\"],[0.4444444444444444,\"#bd3786\"],[0.5555555555555556,\"#d8576b\"],[0.6666666666666666,\"#ed7953\"],[0.7777777777777778,\"#fb9f3a\"],[0.8888888888888888,\"#fdca26\"],[1.0,\"#f0f921\"]],\"type\":\"histogram2d\"}],\"histogram\":[{\"marker\":{\"pattern\":{\"fillmode\":\"overlay\",\"size\":10,\"solidity\":0.2}},\"type\":\"histogram\"}],\"mesh3d\":[{\"colorbar\":{\"outlinewidth\":0,\"ticks\":\"\"},\"type\":\"mesh3d\"}],\"parcoords\":[{\"line\":{\"colorbar\":{\"outlinewidth\":0,\"ticks\":\"\"}},\"type\":\"parcoords\"}],\"pie\":[{\"automargin\":true,\"type\":\"pie\"}],\"scatter3d\":[{\"line\":{\"colorbar\":{\"outlinewidth\":0,\"ticks\":\"\"}},\"marker\":{\"colorbar\":{\"outlinewidth\":0,\"ticks\":\"\"}},\"type\":\"scatter3d\"}],\"scattercarpet\":[{\"marker\":{\"colorbar\":{\"outlinewidth\":0,\"ticks\":\"\"}},\"type\":\"scattercarpet\"}],\"scattergeo\":[{\"marker\":{\"colorbar\":{\"outlinewidth\":0,\"ticks\":\"\"}},\"type\":\"scattergeo\"}],\"scattergl\":[{\"marker\":{\"line\":{\"color\":\"#283442\"}},\"type\":\"scattergl\"}],\"scattermapbox\":[{\"marker\":{\"colorbar\":{\"outlinewidth\":0,\"ticks\":\"\"}},\"type\":\"scattermapbox\"}],\"scatterpolargl\":[{\"marker\":{\"colorbar\":{\"outlinewidth\":0,\"ticks\":\"\"}},\"type\":\"scatterpolargl\"}],\"scatterpolar\":[{\"marker\":{\"colorbar\":{\"outlinewidth\":0,\"ticks\":\"\"}},\"type\":\"scatterpolar\"}],\"scatter\":[{\"marker\":{\"line\":{\"color\":\"#283442\"}},\"type\":\"scatter\"}],\"scatterternary\":[{\"marker\":{\"colorbar\":{\"outlinewidth\":0,\"ticks\":\"\"}},\"type\":\"scatterternary\"}],\"surface\":[{\"colorbar\":{\"outlinewidth\":0,\"ticks\":\"\"},\"colorscale\":[[0.0,\"#0d0887\"],[0.1111111111111111,\"#46039f\"],[0.2222222222222222,\"#7201a8\"],[0.3333333333333333,\"#9c179e\"],[0.4444444444444444,\"#bd3786\"],[0.5555555555555556,\"#d8576b\"],[0.6666666666666666,\"#ed7953\"],[0.7777777777777778,\"#fb9f3a\"],[0.8888888888888888,\"#fdca26\"],[1.0,\"#f0f921\"]],\"type\":\"surface\"}],\"table\":[{\"cells\":{\"fill\":{\"color\":\"#506784\"},\"line\":{\"color\":\"rgb(17,17,17)\"}},\"header\":{\"fill\":{\"color\":\"#2a3f5f\"},\"line\":{\"color\":\"rgb(17,17,17)\"}},\"type\":\"table\"}]},\"layout\":{\"annotationdefaults\":{\"arrowcolor\":\"#f2f5fa\",\"arrowhead\":0,\"arrowwidth\":1},\"autotypenumbers\":\"strict\",\"coloraxis\":{\"colorbar\":{\"outlinewidth\":0,\"ticks\":\"\"}},\"colorscale\":{\"diverging\":[[0,\"#8e0152\"],[0.1,\"#c51b7d\"],[0.2,\"#de77ae\"],[0.3,\"#f1b6da\"],[0.4,\"#fde0ef\"],[0.5,\"#f7f7f7\"],[0.6,\"#e6f5d0\"],[0.7,\"#b8e186\"],[0.8,\"#7fbc41\"],[0.9,\"#4d9221\"],[1,\"#276419\"]],\"sequential\":[[0.0,\"#0d0887\"],[0.1111111111111111,\"#46039f\"],[0.2222222222222222,\"#7201a8\"],[0.3333333333333333,\"#9c179e\"],[0.4444444444444444,\"#bd3786\"],[0.5555555555555556,\"#d8576b\"],[0.6666666666666666,\"#ed7953\"],[0.7777777777777778,\"#fb9f3a\"],[0.8888888888888888,\"#fdca26\"],[1.0,\"#f0f921\"]],\"sequentialminus\":[[0.0,\"#0d0887\"],[0.1111111111111111,\"#46039f\"],[0.2222222222222222,\"#7201a8\"],[0.3333333333333333,\"#9c179e\"],[0.4444444444444444,\"#bd3786\"],[0.5555555555555556,\"#d8576b\"],[0.6666666666666666,\"#ed7953\"],[0.7777777777777778,\"#fb9f3a\"],[0.8888888888888888,\"#fdca26\"],[1.0,\"#f0f921\"]]},\"colorway\":[\"#636efa\",\"#EF553B\",\"#00cc96\",\"#ab63fa\",\"#FFA15A\",\"#19d3f3\",\"#FF6692\",\"#B6E880\",\"#FF97FF\",\"#FECB52\"],\"font\":{\"color\":\"#f2f5fa\"},\"geo\":{\"bgcolor\":\"rgb(17,17,17)\",\"lakecolor\":\"rgb(17,17,17)\",\"landcolor\":\"rgb(17,17,17)\",\"showlakes\":true,\"showland\":true,\"subunitcolor\":\"#506784\"},\"hoverlabel\":{\"align\":\"left\"},\"hovermode\":\"closest\",\"mapbox\":{\"style\":\"dark\"},\"paper_bgcolor\":\"rgb(17,17,17)\",\"plot_bgcolor\":\"rgb(17,17,17)\",\"polar\":{\"angularaxis\":{\"gridcolor\":\"#506784\",\"linecolor\":\"#506784\",\"ticks\":\"\"},\"bgcolor\":\"rgb(17,17,17)\",\"radialaxis\":{\"gridcolor\":\"#506784\",\"linecolor\":\"#506784\",\"ticks\":\"\"}},\"scene\":{\"xaxis\":{\"backgroundcolor\":\"rgb(17,17,17)\",\"gridcolor\":\"#506784\",\"gridwidth\":2,\"linecolor\":\"#506784\",\"showbackground\":true,\"ticks\":\"\",\"zerolinecolor\":\"#C8D4E3\"},\"yaxis\":{\"backgroundcolor\":\"rgb(17,17,17)\",\"gridcolor\":\"#506784\",\"gridwidth\":2,\"linecolor\":\"#506784\",\"showbackground\":true,\"ticks\":\"\",\"zerolinecolor\":\"#C8D4E3\"},\"zaxis\":{\"backgroundcolor\":\"rgb(17,17,17)\",\"gridcolor\":\"#506784\",\"gridwidth\":2,\"linecolor\":\"#506784\",\"showbackground\":true,\"ticks\":\"\",\"zerolinecolor\":\"#C8D4E3\"}},\"shapedefaults\":{\"line\":{\"color\":\"#f2f5fa\"}},\"sliderdefaults\":{\"bgcolor\":\"#C8D4E3\",\"bordercolor\":\"rgb(17,17,17)\",\"borderwidth\":1,\"tickwidth\":0},\"ternary\":{\"aaxis\":{\"gridcolor\":\"#506784\",\"linecolor\":\"#506784\",\"ticks\":\"\"},\"baxis\":{\"gridcolor\":\"#506784\",\"linecolor\":\"#506784\",\"ticks\":\"\"},\"bgcolor\":\"rgb(17,17,17)\",\"caxis\":{\"gridcolor\":\"#506784\",\"linecolor\":\"#506784\",\"ticks\":\"\"}},\"title\":{\"x\":0.05},\"updatemenudefaults\":{\"bgcolor\":\"#506784\",\"borderwidth\":0},\"xaxis\":{\"automargin\":true,\"gridcolor\":\"#283442\",\"linecolor\":\"#506784\",\"ticks\":\"\",\"title\":{\"standoff\":15},\"zerolinecolor\":\"#283442\",\"zerolinewidth\":2},\"yaxis\":{\"automargin\":true,\"gridcolor\":\"#283442\",\"linecolor\":\"#506784\",\"ticks\":\"\",\"title\":{\"standoff\":15},\"zerolinecolor\":\"#283442\",\"zerolinewidth\":2}}},\"xaxis\":{\"anchor\":\"y\",\"domain\":[0.0,1.0],\"title\":{\"text\":\"Features\"},\"categoryorder\":\"array\",\"categoryarray\":[\"contact_with_covid_positive_patient\",\"fever\",\"head_ache\",\"age_60_and_above\",\"cough\",\"shortness_of_breath\",\"sore_throat\",\"abroad\",\"gender\"]},\"yaxis\":{\"anchor\":\"x\",\"domain\":[0.0,1.0],\"title\":{\"text\":\"Variable Importance Score\"}},\"legend\":{\"title\":{\"text\":\"Features\"},\"tracegroupgap\":0},\"margin\":{\"t\":60},\"barmode\":\"relative\"},                        {\"responsive\": true}                    ).then(function(){\n",
       "                            \n",
       "var gd = document.getElementById('19cb27fa-671a-4711-b4db-bb68666f4bc5');\n",
       "var x = new MutationObserver(function (mutations, observer) {{\n",
       "        var display = window.getComputedStyle(gd).display;\n",
       "        if (!display || display === 'none') {{\n",
       "            console.log([gd, 'removed!']);\n",
       "            Plotly.purge(gd);\n",
       "            observer.disconnect();\n",
       "        }}\n",
       "}});\n",
       "\n",
       "// Listen for the removal of the full notebook cells\n",
       "var notebookContainer = gd.closest('#notebook-container');\n",
       "if (notebookContainer) {{\n",
       "    x.observe(notebookContainer, {childList: true});\n",
       "}}\n",
       "\n",
       "// Listen for the clearing of the current output cell\n",
       "var outputEl = gd.closest('.output');\n",
       "if (outputEl) {{\n",
       "    x.observe(outputEl, {childList: true});\n",
       "}}\n",
       "\n",
       "                        })                };                });            </script>        </div>"
      ]
     },
     "metadata": {},
     "output_type": "display_data"
    }
   ],
   "source": [
    "# Checking For Variable Importance\n",
    "\n",
    "d1 = pd.DataFrame({'Features': list(X_train.columns), 'Variable Importance Score': list(np.around(lr.coef_[0],3))})\n",
    "d1 = d1.sort_values(by = ['Variable Importance Score'], ascending = False)\n",
    "\n",
    "feature_importance(d1)"
   ]
  },
  {
   "cell_type": "markdown",
   "id": "c955291e",
   "metadata": {
    "papermill": {
     "duration": 0.060289,
     "end_time": "2021-12-29T11:41:04.888988",
     "exception": false,
     "start_time": "2021-12-29T11:41:04.828699",
     "status": "completed"
    },
    "tags": []
   },
   "source": [
    "### M2 - Random Forest using GridSearchCv"
   ]
  },
  {
   "cell_type": "code",
   "execution_count": 31,
   "id": "6a5ee09d",
   "metadata": {
    "execution": {
     "iopub.execute_input": "2021-12-29T11:41:05.009596Z",
     "iopub.status.busy": "2021-12-29T11:41:05.008922Z",
     "iopub.status.idle": "2021-12-29T11:54:13.884677Z",
     "shell.execute_reply": "2021-12-29T11:54:13.885231Z",
     "shell.execute_reply.started": "2021-12-23T08:20:25.989813Z"
    },
    "papermill": {
     "duration": 788.939221,
     "end_time": "2021-12-29T11:54:13.885646",
     "exception": false,
     "start_time": "2021-12-29T11:41:04.946425",
     "status": "completed"
    },
    "tags": []
   },
   "outputs": [
    {
     "name": "stdout",
     "output_type": "stream",
     "text": [
      "Best Parameters:  {'criterion': 'gini', 'max_depth': 8, 'n_estimators': 200}\n",
      "Accuracy:  0.9772945949431125\n"
     ]
    }
   ],
   "source": [
    "grid2 = {'n_estimators': [200, 300], 'max_depth': [5,6,7,8], 'criterion': ['gini', 'entropy']}\n",
    "\n",
    "rf = RandomForestClassifier(random_state = 42)\n",
    "rf_cv = GridSearchCV(rf, grid2, cv = 3)\n",
    "rf_cv.fit(X_train, Y_train)\n",
    "\n",
    "print(\"Best Parameters: \", rf_cv.best_params_)\n",
    "print(\"Accuracy: \", rf_cv.best_score_)"
   ]
  },
  {
   "cell_type": "code",
   "execution_count": 32,
   "id": "7a2dccfe",
   "metadata": {
    "execution": {
     "iopub.execute_input": "2021-12-29T11:54:14.006198Z",
     "iopub.status.busy": "2021-12-29T11:54:14.005442Z",
     "iopub.status.idle": "2021-12-29T11:54:43.687205Z",
     "shell.execute_reply": "2021-12-29T11:54:43.686340Z",
     "shell.execute_reply.started": "2021-12-28T17:25:55.24755Z"
    },
    "papermill": {
     "duration": 29.743505,
     "end_time": "2021-12-29T11:54:43.687433",
     "exception": false,
     "start_time": "2021-12-29T11:54:13.943928",
     "status": "completed"
    },
    "tags": []
   },
   "outputs": [
    {
     "name": "stdout",
     "output_type": "stream",
     "text": [
      "\n",
      "-----------------------------Random Forest Classifier-----------------------------\n",
      "\n",
      "Classification Report for Train Data\n",
      "\n",
      "              precision    recall  f1-score   support\n",
      "\n",
      "           0       1.00      0.96      0.98    188938\n",
      "           1       0.94      1.00      0.97    113501\n",
      "\n",
      "    accuracy                           0.98    302439\n",
      "   macro avg       0.97      0.98      0.98    302439\n",
      "weighted avg       0.98      0.98      0.98    302439\n",
      "\n",
      "--------------------------------------------------------------------------\n",
      "Recall on Train Data: 99.98\n",
      "Specificity on Train Data: 96.39\n",
      "Accuracy on Train Data: 97.72999999999999\n",
      "Precision on Train Data: 94.32000000000001\n",
      "F1 Score Train Data: 97.0676\n",
      "--------------------------------------------------------------------------\n",
      "\n",
      "Classification Report for Test Data\n",
      "\n",
      "              precision    recall  f1-score   support\n",
      "\n",
      "           0       1.00      0.96      0.98     81097\n",
      "           1       0.94      1.00      0.97     48520\n",
      "\n",
      "    accuracy                           0.98    129617\n",
      "   macro avg       0.97      0.98      0.98    129617\n",
      "weighted avg       0.98      0.98      0.98    129617\n",
      "\n",
      "--------------------------------------------------------------------------\n",
      "Recall on Test Data: 99.96000000000001\n",
      "Specificity on Test Data: 96.41999999999999\n",
      "Accuracy on Test Data: 97.74000000000001\n",
      "Precision on Train Data: 94.35\n",
      "F1 Score Train Data: 97.074\n",
      "--------------------------------------------------------------------------\n"
     ]
    },
    {
     "data": {
      "image/png": "[encoded data removed]",
      "text/plain": [
       "<Figure size 432x288 with 2 Axes>"
      ]
     },
     "metadata": {
      "needs_background": "light"
     },
     "output_type": "display_data"
    },
    {
     "data": {
      "image/png": "[encoded data removed]",
      "text/plain": [
       "<Figure size 432x288 with 2 Axes>"
      ]
     },
     "metadata": {
      "needs_background": "light"
     },
     "output_type": "display_data"
    }
   ],
   "source": [
    "# Applying Best Parameters Suggested by GridSearch\n",
    "\n",
    "rf = RandomForestClassifier(n_estimators = 200, max_depth = 8, criterion = 'gini', random_state = 42) \n",
    "\n",
    "rf.fit(X_train ,Y_train)\n",
    "\n",
    "rf_yp_train = rf.predict(X_train)\n",
    "rf_yp_test = rf.predict(X_test)\n",
    "\n",
    "# Model Evaluation\n",
    "\n",
    "evaluation_parametrics(\"Random Forest Classifier\", Y_train, rf_yp_train, Y_test, rf_yp_test)"
   ]
  },
  {
   "cell_type": "code",
   "execution_count": 33,
   "id": "a1216435",
   "metadata": {
    "execution": {
     "iopub.execute_input": "2021-12-29T11:54:43.855055Z",
     "iopub.status.busy": "2021-12-29T11:54:43.852837Z",
     "iopub.status.idle": "2021-12-29T11:54:43.961727Z",
     "shell.execute_reply": "2021-12-29T11:54:43.962222Z",
     "shell.execute_reply.started": "2021-12-28T17:26:21.917957Z"
    },
    "papermill": {
     "duration": 0.178284,
     "end_time": "2021-12-29T11:54:43.962429",
     "exception": false,
     "start_time": "2021-12-29T11:54:43.784145",
     "status": "completed"
    },
    "tags": []
   },
   "outputs": [
    {
     "data": {
      "text/html": [
       "<div>                            <div id=\"6000fb58-08fc-4e88-bdb6-c180f1f0b2e9\" class=\"plotly-graph-div\" style=\"height:525px; width:100%;\"></div>            <script type=\"text/javascript\">                require([\"plotly\"], function(Plotly) {                    window.PLOTLYENV=window.PLOTLYENV || {};                                    if (document.getElementById(\"6000fb58-08fc-4e88-bdb6-c180f1f0b2e9\")) {                    Plotly.newPlot(                        \"6000fb58-08fc-4e88-bdb6-c180f1f0b2e9\",                        [{\"alignmentgroup\":\"True\",\"hovertemplate\":\"Features=%{x}<br>Variable Importance Score=%{y}<extra></extra>\",\"legendgroup\":\"contact_with_covid_positive_patient\",\"marker\":{\"color\":\"#f0f921\",\"pattern\":{\"shape\":\"\"}},\"name\":\"contact_with_covid_positive_patient\",\"offsetgroup\":\"contact_with_covid_positive_patient\",\"orientation\":\"v\",\"showlegend\":true,\"textposition\":\"auto\",\"x\":[\"contact_with_covid_positive_patient\"],\"xaxis\":\"x\",\"y\":[0.396],\"yaxis\":\"y\",\"type\":\"bar\"},{\"alignmentgroup\":\"True\",\"hovertemplate\":\"Features=%{x}<br>Variable Importance Score=%{y}<extra></extra>\",\"legendgroup\":\"fever\",\"marker\":{\"color\":\"#fdca26\",\"pattern\":{\"shape\":\"\"}},\"name\":\"fever\",\"offsetgroup\":\"fever\",\"orientation\":\"v\",\"showlegend\":true,\"textposition\":\"auto\",\"x\":[\"fever\"],\"xaxis\":\"x\",\"y\":[0.256],\"yaxis\":\"y\",\"type\":\"bar\"},{\"alignmentgroup\":\"True\",\"hovertemplate\":\"Features=%{x}<br>Variable Importance Score=%{y}<extra></extra>\",\"legendgroup\":\"cough\",\"marker\":{\"color\":\"#fb9f3a\",\"pattern\":{\"shape\":\"\"}},\"name\":\"cough\",\"offsetgroup\":\"cough\",\"orientation\":\"v\",\"showlegend\":true,\"textposition\":\"auto\",\"x\":[\"cough\"],\"xaxis\":\"x\",\"y\":[0.147],\"yaxis\":\"y\",\"type\":\"bar\"},{\"alignmentgroup\":\"True\",\"hovertemplate\":\"Features=%{x}<br>Variable Importance Score=%{y}<extra></extra>\",\"legendgroup\":\"head_ache\",\"marker\":{\"color\":\"#ed7953\",\"pattern\":{\"shape\":\"\"}},\"name\":\"head_ache\",\"offsetgroup\":\"head_ache\",\"orientation\":\"v\",\"showlegend\":true,\"textposition\":\"auto\",\"x\":[\"head_ache\"],\"xaxis\":\"x\",\"y\":[0.117],\"yaxis\":\"y\",\"type\":\"bar\"},{\"alignmentgroup\":\"True\",\"hovertemplate\":\"Features=%{x}<br>Variable Importance Score=%{y}<extra></extra>\",\"legendgroup\":\"sore_throat\",\"marker\":{\"color\":\"#d8576b\",\"pattern\":{\"shape\":\"\"}},\"name\":\"sore_throat\",\"offsetgroup\":\"sore_throat\",\"orientation\":\"v\",\"showlegend\":true,\"textposition\":\"auto\",\"x\":[\"sore_throat\"],\"xaxis\":\"x\",\"y\":[0.052],\"yaxis\":\"y\",\"type\":\"bar\"},{\"alignmentgroup\":\"True\",\"hovertemplate\":\"Features=%{x}<br>Variable Importance Score=%{y}<extra></extra>\",\"legendgroup\":\"age_60_and_above\",\"marker\":{\"color\":\"#bd3786\",\"pattern\":{\"shape\":\"\"}},\"name\":\"age_60_and_above\",\"offsetgroup\":\"age_60_and_above\",\"orientation\":\"v\",\"showlegend\":true,\"textposition\":\"auto\",\"x\":[\"age_60_and_above\"],\"xaxis\":\"x\",\"y\":[0.019],\"yaxis\":\"y\",\"type\":\"bar\"},{\"alignmentgroup\":\"True\",\"hovertemplate\":\"Features=%{x}<br>Variable Importance Score=%{y}<extra></extra>\",\"legendgroup\":\"shortness_of_breath\",\"marker\":{\"color\":\"#9c179e\",\"pattern\":{\"shape\":\"\"}},\"name\":\"shortness_of_breath\",\"offsetgroup\":\"shortness_of_breath\",\"orientation\":\"v\",\"showlegend\":true,\"textposition\":\"auto\",\"x\":[\"shortness_of_breath\"],\"xaxis\":\"x\",\"y\":[0.011],\"yaxis\":\"y\",\"type\":\"bar\"},{\"alignmentgroup\":\"True\",\"hovertemplate\":\"Features=%{x}<br>Variable Importance Score=%{y}<extra></extra>\",\"legendgroup\":\"abroad\",\"marker\":{\"color\":\"#7201a8\",\"pattern\":{\"shape\":\"\"}},\"name\":\"abroad\",\"offsetgroup\":\"abroad\",\"orientation\":\"v\",\"showlegend\":true,\"textposition\":\"auto\",\"x\":[\"abroad\"],\"xaxis\":\"x\",\"y\":[0.001],\"yaxis\":\"y\",\"type\":\"bar\"},{\"alignmentgroup\":\"True\",\"hovertemplate\":\"Features=%{x}<br>Variable Importance Score=%{y}<extra></extra>\",\"legendgroup\":\"gender\",\"marker\":{\"color\":\"#46039f\",\"pattern\":{\"shape\":\"\"}},\"name\":\"gender\",\"offsetgroup\":\"gender\",\"orientation\":\"v\",\"showlegend\":true,\"textposition\":\"auto\",\"x\":[\"gender\"],\"xaxis\":\"x\",\"y\":[0.0],\"yaxis\":\"y\",\"type\":\"bar\"}],                        {\"template\":{\"data\":{\"barpolar\":[{\"marker\":{\"line\":{\"color\":\"rgb(17,17,17)\",\"width\":0.5},\"pattern\":{\"fillmode\":\"overlay\",\"size\":10,\"solidity\":0.2}},\"type\":\"barpolar\"}],\"bar\":[{\"error_x\":{\"color\":\"#f2f5fa\"},\"error_y\":{\"color\":\"#f2f5fa\"},\"marker\":{\"line\":{\"color\":\"rgb(17,17,17)\",\"width\":0.5},\"pattern\":{\"fillmode\":\"overlay\",\"size\":10,\"solidity\":0.2}},\"type\":\"bar\"}],\"carpet\":[{\"aaxis\":{\"endlinecolor\":\"#A2B1C6\",\"gridcolor\":\"#506784\",\"linecolor\":\"#506784\",\"minorgridcolor\":\"#506784\",\"startlinecolor\":\"#A2B1C6\"},\"baxis\":{\"endlinecolor\":\"#A2B1C6\",\"gridcolor\":\"#506784\",\"linecolor\":\"#506784\",\"minorgridcolor\":\"#506784\",\"startlinecolor\":\"#A2B1C6\"},\"type\":\"carpet\"}],\"choropleth\":[{\"colorbar\":{\"outlinewidth\":0,\"ticks\":\"\"},\"type\":\"choropleth\"}],\"contourcarpet\":[{\"colorbar\":{\"outlinewidth\":0,\"ticks\":\"\"},\"type\":\"contourcarpet\"}],\"contour\":[{\"colorbar\":{\"outlinewidth\":0,\"ticks\":\"\"},\"colorscale\":[[0.0,\"#0d0887\"],[0.1111111111111111,\"#46039f\"],[0.2222222222222222,\"#7201a8\"],[0.3333333333333333,\"#9c179e\"],[0.4444444444444444,\"#bd3786\"],[0.5555555555555556,\"#d8576b\"],[0.6666666666666666,\"#ed7953\"],[0.7777777777777778,\"#fb9f3a\"],[0.8888888888888888,\"#fdca26\"],[1.0,\"#f0f921\"]],\"type\":\"contour\"}],\"heatmapgl\":[{\"colorbar\":{\"outlinewidth\":0,\"ticks\":\"\"},\"colorscale\":[[0.0,\"#0d0887\"],[0.1111111111111111,\"#46039f\"],[0.2222222222222222,\"#7201a8\"],[0.3333333333333333,\"#9c179e\"],[0.4444444444444444,\"#bd3786\"],[0.5555555555555556,\"#d8576b\"],[0.6666666666666666,\"#ed7953\"],[0.7777777777777778,\"#fb9f3a\"],[0.8888888888888888,\"#fdca26\"],[1.0,\"#f0f921\"]],\"type\":\"heatmapgl\"}],\"heatmap\":[{\"colorbar\":{\"outlinewidth\":0,\"ticks\":\"\"},\"colorscale\":[[0.0,\"#0d0887\"],[0.1111111111111111,\"#46039f\"],[0.2222222222222222,\"#7201a8\"],[0.3333333333333333,\"#9c179e\"],[0.4444444444444444,\"#bd3786\"],[0.5555555555555556,\"#d8576b\"],[0.6666666666666666,\"#ed7953\"],[0.7777777777777778,\"#fb9f3a\"],[0.8888888888888888,\"#fdca26\"],[1.0,\"#f0f921\"]],\"type\":\"heatmap\"}],\"histogram2dcontour\":[{\"colorbar\":{\"outlinewidth\":0,\"ticks\":\"\"},\"colorscale\":[[0.0,\"#0d0887\"],[0.1111111111111111,\"#46039f\"],[0.2222222222222222,\"#7201a8\"],[0.3333333333333333,\"#9c179e\"],[0.4444444444444444,\"#bd3786\"],[0.5555555555555556,\"#d8576b\"],[0.6666666666666666,\"#ed7953\"],[0.7777777777777778,\"#fb9f3a\"],[0.8888888888888888,\"#fdca26\"],[1.0,\"#f0f921\"]],\"type\":\"histogram2dcontour\"}],\"histogram2d\":[{\"colorbar\":{\"outlinewidth\":0,\"ticks\":\"\"},\"colorscale\":[[0.0,\"#0d0887\"],[0.1111111111111111,\"#46039f\"],[0.2222222222222222,\"#7201a8\"],[0.3333333333333333,\"#9c179e\"],[0.4444444444444444,\"#bd3786\"],[0.5555555555555556,\"#d8576b\"],[0.6666666666666666,\"#ed7953\"],[0.7777777777777778,\"#fb9f3a\"],[0.8888888888888888,\"#fdca26\"],[1.0,\"#f0f921\"]],\"type\":\"histogram2d\"}],\"histogram\":[{\"marker\":{\"pattern\":{\"fillmode\":\"overlay\",\"size\":10,\"solidity\":0.2}},\"type\":\"histogram\"}],\"mesh3d\":[{\"colorbar\":{\"outlinewidth\":0,\"ticks\":\"\"},\"type\":\"mesh3d\"}],\"parcoords\":[{\"line\":{\"colorbar\":{\"outlinewidth\":0,\"ticks\":\"\"}},\"type\":\"parcoords\"}],\"pie\":[{\"automargin\":true,\"type\":\"pie\"}],\"scatter3d\":[{\"line\":{\"colorbar\":{\"outlinewidth\":0,\"ticks\":\"\"}},\"marker\":{\"colorbar\":{\"outlinewidth\":0,\"ticks\":\"\"}},\"type\":\"scatter3d\"}],\"scattercarpet\":[{\"marker\":{\"colorbar\":{\"outlinewidth\":0,\"ticks\":\"\"}},\"type\":\"scattercarpet\"}],\"scattergeo\":[{\"marker\":{\"colorbar\":{\"outlinewidth\":0,\"ticks\":\"\"}},\"type\":\"scattergeo\"}],\"scattergl\":[{\"marker\":{\"line\":{\"color\":\"#283442\"}},\"type\":\"scattergl\"}],\"scattermapbox\":[{\"marker\":{\"colorbar\":{\"outlinewidth\":0,\"ticks\":\"\"}},\"type\":\"scattermapbox\"}],\"scatterpolargl\":[{\"marker\":{\"colorbar\":{\"outlinewidth\":0,\"ticks\":\"\"}},\"type\":\"scatterpolargl\"}],\"scatterpolar\":[{\"marker\":{\"colorbar\":{\"outlinewidth\":0,\"ticks\":\"\"}},\"type\":\"scatterpolar\"}],\"scatter\":[{\"marker\":{\"line\":{\"color\":\"#283442\"}},\"type\":\"scatter\"}],\"scatterternary\":[{\"marker\":{\"colorbar\":{\"outlinewidth\":0,\"ticks\":\"\"}},\"type\":\"scatterternary\"}],\"surface\":[{\"colorbar\":{\"outlinewidth\":0,\"ticks\":\"\"},\"colorscale\":[[0.0,\"#0d0887\"],[0.1111111111111111,\"#46039f\"],[0.2222222222222222,\"#7201a8\"],[0.3333333333333333,\"#9c179e\"],[0.4444444444444444,\"#bd3786\"],[0.5555555555555556,\"#d8576b\"],[0.6666666666666666,\"#ed7953\"],[0.7777777777777778,\"#fb9f3a\"],[0.8888888888888888,\"#fdca26\"],[1.0,\"#f0f921\"]],\"type\":\"surface\"}],\"table\":[{\"cells\":{\"fill\":{\"color\":\"#506784\"},\"line\":{\"color\":\"rgb(17,17,17)\"}},\"header\":{\"fill\":{\"color\":\"#2a3f5f\"},\"line\":{\"color\":\"rgb(17,17,17)\"}},\"type\":\"table\"}]},\"layout\":{\"annotationdefaults\":{\"arrowcolor\":\"#f2f5fa\",\"arrowhead\":0,\"arrowwidth\":1},\"autotypenumbers\":\"strict\",\"coloraxis\":{\"colorbar\":{\"outlinewidth\":0,\"ticks\":\"\"}},\"colorscale\":{\"diverging\":[[0,\"#8e0152\"],[0.1,\"#c51b7d\"],[0.2,\"#de77ae\"],[0.3,\"#f1b6da\"],[0.4,\"#fde0ef\"],[0.5,\"#f7f7f7\"],[0.6,\"#e6f5d0\"],[0.7,\"#b8e186\"],[0.8,\"#7fbc41\"],[0.9,\"#4d9221\"],[1,\"#276419\"]],\"sequential\":[[0.0,\"#0d0887\"],[0.1111111111111111,\"#46039f\"],[0.2222222222222222,\"#7201a8\"],[0.3333333333333333,\"#9c179e\"],[0.4444444444444444,\"#bd3786\"],[0.5555555555555556,\"#d8576b\"],[0.6666666666666666,\"#ed7953\"],[0.7777777777777778,\"#fb9f3a\"],[0.8888888888888888,\"#fdca26\"],[1.0,\"#f0f921\"]],\"sequentialminus\":[[0.0,\"#0d0887\"],[0.1111111111111111,\"#46039f\"],[0.2222222222222222,\"#7201a8\"],[0.3333333333333333,\"#9c179e\"],[0.4444444444444444,\"#bd3786\"],[0.5555555555555556,\"#d8576b\"],[0.6666666666666666,\"#ed7953\"],[0.7777777777777778,\"#fb9f3a\"],[0.8888888888888888,\"#fdca26\"],[1.0,\"#f0f921\"]]},\"colorway\":[\"#636efa\",\"#EF553B\",\"#00cc96\",\"#ab63fa\",\"#FFA15A\",\"#19d3f3\",\"#FF6692\",\"#B6E880\",\"#FF97FF\",\"#FECB52\"],\"font\":{\"color\":\"#f2f5fa\"},\"geo\":{\"bgcolor\":\"rgb(17,17,17)\",\"lakecolor\":\"rgb(17,17,17)\",\"landcolor\":\"rgb(17,17,17)\",\"showlakes\":true,\"showland\":true,\"subunitcolor\":\"#506784\"},\"hoverlabel\":{\"align\":\"left\"},\"hovermode\":\"closest\",\"mapbox\":{\"style\":\"dark\"},\"paper_bgcolor\":\"rgb(17,17,17)\",\"plot_bgcolor\":\"rgb(17,17,17)\",\"polar\":{\"angularaxis\":{\"gridcolor\":\"#506784\",\"linecolor\":\"#506784\",\"ticks\":\"\"},\"bgcolor\":\"rgb(17,17,17)\",\"radialaxis\":{\"gridcolor\":\"#506784\",\"linecolor\":\"#506784\",\"ticks\":\"\"}},\"scene\":{\"xaxis\":{\"backgroundcolor\":\"rgb(17,17,17)\",\"gridcolor\":\"#506784\",\"gridwidth\":2,\"linecolor\":\"#506784\",\"showbackground\":true,\"ticks\":\"\",\"zerolinecolor\":\"#C8D4E3\"},\"yaxis\":{\"backgroundcolor\":\"rgb(17,17,17)\",\"gridcolor\":\"#506784\",\"gridwidth\":2,\"linecolor\":\"#506784\",\"showbackground\":true,\"ticks\":\"\",\"zerolinecolor\":\"#C8D4E3\"},\"zaxis\":{\"backgroundcolor\":\"rgb(17,17,17)\",\"gridcolor\":\"#506784\",\"gridwidth\":2,\"linecolor\":\"#506784\",\"showbackground\":true,\"ticks\":\"\",\"zerolinecolor\":\"#C8D4E3\"}},\"shapedefaults\":{\"line\":{\"color\":\"#f2f5fa\"}},\"sliderdefaults\":{\"bgcolor\":\"#C8D4E3\",\"bordercolor\":\"rgb(17,17,17)\",\"borderwidth\":1,\"tickwidth\":0},\"ternary\":{\"aaxis\":{\"gridcolor\":\"#506784\",\"linecolor\":\"#506784\",\"ticks\":\"\"},\"baxis\":{\"gridcolor\":\"#506784\",\"linecolor\":\"#506784\",\"ticks\":\"\"},\"bgcolor\":\"rgb(17,17,17)\",\"caxis\":{\"gridcolor\":\"#506784\",\"linecolor\":\"#506784\",\"ticks\":\"\"}},\"title\":{\"x\":0.05},\"updatemenudefaults\":{\"bgcolor\":\"#506784\",\"borderwidth\":0},\"xaxis\":{\"automargin\":true,\"gridcolor\":\"#283442\",\"linecolor\":\"#506784\",\"ticks\":\"\",\"title\":{\"standoff\":15},\"zerolinecolor\":\"#283442\",\"zerolinewidth\":2},\"yaxis\":{\"automargin\":true,\"gridcolor\":\"#283442\",\"linecolor\":\"#506784\",\"ticks\":\"\",\"title\":{\"standoff\":15},\"zerolinecolor\":\"#283442\",\"zerolinewidth\":2}}},\"xaxis\":{\"anchor\":\"y\",\"domain\":[0.0,1.0],\"title\":{\"text\":\"Features\"},\"categoryorder\":\"array\",\"categoryarray\":[\"contact_with_covid_positive_patient\",\"fever\",\"cough\",\"head_ache\",\"sore_throat\",\"age_60_and_above\",\"shortness_of_breath\",\"abroad\",\"gender\"]},\"yaxis\":{\"anchor\":\"x\",\"domain\":[0.0,1.0],\"title\":{\"text\":\"Variable Importance Score\"}},\"legend\":{\"title\":{\"text\":\"Features\"},\"tracegroupgap\":0},\"margin\":{\"t\":60},\"barmode\":\"relative\"},                        {\"responsive\": true}                    ).then(function(){\n",
       "                            \n",
       "var gd = document.getElementById('6000fb58-08fc-4e88-bdb6-c180f1f0b2e9');\n",
       "var x = new MutationObserver(function (mutations, observer) {{\n",
       "        var display = window.getComputedStyle(gd).display;\n",
       "        if (!display || display === 'none') {{\n",
       "            console.log([gd, 'removed!']);\n",
       "            Plotly.purge(gd);\n",
       "            observer.disconnect();\n",
       "        }}\n",
       "}});\n",
       "\n",
       "// Listen for the removal of the full notebook cells\n",
       "var notebookContainer = gd.closest('#notebook-container');\n",
       "if (notebookContainer) {{\n",
       "    x.observe(notebookContainer, {childList: true});\n",
       "}}\n",
       "\n",
       "// Listen for the clearing of the current output cell\n",
       "var outputEl = gd.closest('.output');\n",
       "if (outputEl) {{\n",
       "    x.observe(outputEl, {childList: true});\n",
       "}}\n",
       "\n",
       "                        })                };                });            </script>        </div>"
      ]
     },
     "metadata": {},
     "output_type": "display_data"
    }
   ],
   "source": [
    "# Checking For Variable Importance\n",
    "\n",
    "d2 = pd.DataFrame({'Features': list(X_train.columns), 'Variable Importance Score': list(np.around(rf.feature_importances_,3))})\n",
    "\n",
    "feature_importance(d2)"
   ]
  },
  {
   "cell_type": "markdown",
   "id": "0d31dfc5",
   "metadata": {
    "papermill": {
     "duration": 0.065845,
     "end_time": "2021-12-29T11:54:44.095470",
     "exception": false,
     "start_time": "2021-12-29T11:54:44.029625",
     "status": "completed"
    },
    "tags": []
   },
   "source": [
    "### M3 - XGBoost using GridSearchCv"
   ]
  },
  {
   "cell_type": "code",
   "execution_count": 34,
   "id": "7330c4fa",
   "metadata": {
    "execution": {
     "iopub.execute_input": "2021-12-29T11:54:44.230797Z",
     "iopub.status.busy": "2021-12-29T11:54:44.230162Z",
     "iopub.status.idle": "2021-12-29T12:29:55.442430Z",
     "shell.execute_reply": "2021-12-29T12:29:55.442979Z",
     "shell.execute_reply.started": "2021-12-23T17:13:42.697616Z"
    },
    "papermill": {
     "duration": 2111.281899,
     "end_time": "2021-12-29T12:29:55.443166",
     "exception": false,
     "start_time": "2021-12-29T11:54:44.161267",
     "status": "completed"
    },
    "tags": []
   },
   "outputs": [
    {
     "name": "stdout",
     "output_type": "stream",
     "text": [
      "Best Estimators:  XGBClassifier(base_score=0.5, booster='gbtree', colsample_bylevel=1,\n",
      "              colsample_bynode=1, colsample_bytree=1, enable_categorical=False,\n",
      "              eta=0.2, eval_metric='logloss', gamma=0.5, gpu_id=-1,\n",
      "              importance_type=None, interaction_constraints='',\n",
      "              learning_rate=0.200000003, max_delta_step=0, max_depth=5,\n",
      "              min_child_weight=1, missing=nan, monotone_constraints='()',\n",
      "              n_estimators=200, n_jobs=4, num_parallel_tree=1, predictor='auto',\n",
      "              random_state=42, reg_alpha=0, reg_lambda=1, scale_pos_weight=1,\n",
      "              subsample=1, tree_method='exact', use_label_encoder=False,\n",
      "              validate_parameters=1, ...)\n",
      "Best Parameters:  {'eta': 0.2, 'gamma': 0.5, 'max_depth': 5, 'n_estimators': 200}\n",
      "Accuracy:  0.977304514298751\n"
     ]
    }
   ],
   "source": [
    "grid3 = {'gamma': [0.5, 1, 2], 'eta': [0.1, 0.2], 'n_estimators': [200, 300], 'max_depth': [5, 7, 8]}\n",
    "\n",
    "xgb = XGBClassifier(objective = 'binary:logistic', eval_metric = \"logloss\", random_state = 42, use_label_encoder = False)\n",
    "xgb_cv = GridSearchCV(xgb, grid3, cv = 3)\n",
    "xgb_cv.fit(X_train, Y_train)\n",
    "\n",
    "print(\"Best Estimators: \", xgb_cv.best_estimator_)\n",
    "print(\"Best Parameters: \", xgb_cv.best_params_)\n",
    "print(\"Accuracy: \", xgb_cv.best_score_)"
   ]
  },
  {
   "cell_type": "code",
   "execution_count": 35,
   "id": "24ca7cd0",
   "metadata": {
    "execution": {
     "iopub.execute_input": "2021-12-29T12:29:55.664193Z",
     "iopub.status.busy": "2021-12-29T12:29:55.663478Z",
     "iopub.status.idle": "2021-12-29T12:30:15.209612Z",
     "shell.execute_reply": "2021-12-29T12:30:15.209102Z",
     "shell.execute_reply.started": "2021-12-28T17:26:22.046062Z"
    },
    "papermill": {
     "duration": 19.611012,
     "end_time": "2021-12-29T12:30:15.209771",
     "exception": false,
     "start_time": "2021-12-29T12:29:55.598759",
     "status": "completed"
    },
    "tags": []
   },
   "outputs": [
    {
     "name": "stdout",
     "output_type": "stream",
     "text": [
      "\n",
      "-----------------------------XgBoost Classifier-----------------------------\n",
      "\n",
      "Classification Report for Train Data\n",
      "\n",
      "              precision    recall  f1-score   support\n",
      "\n",
      "           0       1.00      0.96      0.98    188938\n",
      "           1       0.94      1.00      0.97    113501\n",
      "\n",
      "    accuracy                           0.98    302439\n",
      "   macro avg       0.97      0.98      0.98    302439\n",
      "weighted avg       0.98      0.98      0.98    302439\n",
      "\n",
      "--------------------------------------------------------------------------\n",
      "Recall on Train Data: 99.94\n",
      "Specificity on Train Data: 96.41\n",
      "Accuracy on Train Data: 97.72999999999999\n",
      "Precision on Train Data: 94.35\n",
      "F1 Score Train Data: 97.0646\n",
      "--------------------------------------------------------------------------\n",
      "\n",
      "Classification Report for Test Data\n",
      "\n",
      "              precision    recall  f1-score   support\n",
      "\n",
      "           0       1.00      0.96      0.98     81097\n",
      "           1       0.94      1.00      0.97     48520\n",
      "\n",
      "    accuracy                           0.98    129617\n",
      "   macro avg       0.97      0.98      0.98    129617\n",
      "weighted avg       0.98      0.98      0.98    129617\n",
      "\n",
      "--------------------------------------------------------------------------\n",
      "Recall on Test Data: 99.92\n",
      "Specificity on Test Data: 96.44\n",
      "Accuracy on Test Data: 97.75\n",
      "Precision on Train Data: 94.39\n",
      "F1 Score Train Data: 97.0763\n",
      "--------------------------------------------------------------------------\n"
     ]
    },
    {
     "data": {
      "image/png": "[encoded data removed]",
      "text/plain": [
       "<Figure size 432x288 with 2 Axes>"
      ]
     },
     "metadata": {
      "needs_background": "light"
     },
     "output_type": "display_data"
    },
    {
     "data": {
      "image/png": "[encoded data removed]",
      "text/plain": [
       "<Figure size 432x288 with 2 Axes>"
      ]
     },
     "metadata": {
      "needs_background": "light"
     },
     "output_type": "display_data"
    }
   ],
   "source": [
    "# Applying Best Parameters Suggested by GridSearch\n",
    "\n",
    "xgb = XGBClassifier(eta = 0.2, gamma = 0.5, max_depth = 5, \n",
    "                    n_estimators = 200, objective = 'binary:logistic', \n",
    "                    eval_metric = \"logloss\", use_label_encoder = False, random_state = 42)\n",
    "\n",
    "xgb.fit(X_train ,Y_train)\n",
    "\n",
    "xgb_yp_train = xgb.predict(X_train)\n",
    "xgb_yp_test = xgb.predict(X_test)\n",
    "\n",
    "# Model Evaluation\n",
    "\n",
    "evaluation_parametrics(\"XgBoost Classifier\", Y_train, xgb_yp_train, Y_test, xgb_yp_test)"
   ]
  },
  {
   "cell_type": "code",
   "execution_count": 36,
   "id": "7c8bd5bf",
   "metadata": {
    "execution": {
     "iopub.execute_input": "2021-12-29T12:30:15.346422Z",
     "iopub.status.busy": "2021-12-29T12:30:15.345789Z",
     "iopub.status.idle": "2021-12-29T12:30:15.432798Z",
     "shell.execute_reply": "2021-12-29T12:30:15.432218Z",
     "shell.execute_reply.started": "2021-12-28T17:26:41.419666Z"
    },
    "papermill": {
     "duration": 0.158546,
     "end_time": "2021-12-29T12:30:15.432947",
     "exception": false,
     "start_time": "2021-12-29T12:30:15.274401",
     "status": "completed"
    },
    "tags": []
   },
   "outputs": [
    {
     "data": {
      "text/html": [
       "<div>                            <div id=\"9b86496c-0179-4f42-8702-dd6d6a8bece5\" class=\"plotly-graph-div\" style=\"height:525px; width:100%;\"></div>            <script type=\"text/javascript\">                require([\"plotly\"], function(Plotly) {                    window.PLOTLYENV=window.PLOTLYENV || {};                                    if (document.getElementById(\"9b86496c-0179-4f42-8702-dd6d6a8bece5\")) {                    Plotly.newPlot(                        \"9b86496c-0179-4f42-8702-dd6d6a8bece5\",                        [{\"alignmentgroup\":\"True\",\"hovertemplate\":\"Features=%{x}<br>Variable Importance Score=%{y}<extra></extra>\",\"legendgroup\":\"contact_with_covid_positive_patient\",\"marker\":{\"color\":\"#f0f921\",\"pattern\":{\"shape\":\"\"}},\"name\":\"contact_with_covid_positive_patient\",\"offsetgroup\":\"contact_with_covid_positive_patient\",\"orientation\":\"v\",\"showlegend\":true,\"textposition\":\"auto\",\"x\":[\"contact_with_covid_positive_patient\"],\"xaxis\":\"x\",\"y\":[0.626],\"yaxis\":\"y\",\"type\":\"bar\"},{\"alignmentgroup\":\"True\",\"hovertemplate\":\"Features=%{x}<br>Variable Importance Score=%{y}<extra></extra>\",\"legendgroup\":\"fever\",\"marker\":{\"color\":\"#fdca26\",\"pattern\":{\"shape\":\"\"}},\"name\":\"fever\",\"offsetgroup\":\"fever\",\"orientation\":\"v\",\"showlegend\":true,\"textposition\":\"auto\",\"x\":[\"fever\"],\"xaxis\":\"x\",\"y\":[0.235],\"yaxis\":\"y\",\"type\":\"bar\"},{\"alignmentgroup\":\"True\",\"hovertemplate\":\"Features=%{x}<br>Variable Importance Score=%{y}<extra></extra>\",\"legendgroup\":\"head_ache\",\"marker\":{\"color\":\"#fb9f3a\",\"pattern\":{\"shape\":\"\"}},\"name\":\"head_ache\",\"offsetgroup\":\"head_ache\",\"orientation\":\"v\",\"showlegend\":true,\"textposition\":\"auto\",\"x\":[\"head_ache\"],\"xaxis\":\"x\",\"y\":[0.041],\"yaxis\":\"y\",\"type\":\"bar\"},{\"alignmentgroup\":\"True\",\"hovertemplate\":\"Features=%{x}<br>Variable Importance Score=%{y}<extra></extra>\",\"legendgroup\":\"cough\",\"marker\":{\"color\":\"#ed7953\",\"pattern\":{\"shape\":\"\"}},\"name\":\"cough\",\"offsetgroup\":\"cough\",\"orientation\":\"v\",\"showlegend\":true,\"textposition\":\"auto\",\"x\":[\"cough\"],\"xaxis\":\"x\",\"y\":[0.036],\"yaxis\":\"y\",\"type\":\"bar\"},{\"alignmentgroup\":\"True\",\"hovertemplate\":\"Features=%{x}<br>Variable Importance Score=%{y}<extra></extra>\",\"legendgroup\":\"age_60_and_above\",\"marker\":{\"color\":\"#d8576b\",\"pattern\":{\"shape\":\"\"}},\"name\":\"age_60_and_above\",\"offsetgroup\":\"age_60_and_above\",\"orientation\":\"v\",\"showlegend\":true,\"textposition\":\"auto\",\"x\":[\"age_60_and_above\"],\"xaxis\":\"x\",\"y\":[0.026],\"yaxis\":\"y\",\"type\":\"bar\"},{\"alignmentgroup\":\"True\",\"hovertemplate\":\"Features=%{x}<br>Variable Importance Score=%{y}<extra></extra>\",\"legendgroup\":\"sore_throat\",\"marker\":{\"color\":\"#bd3786\",\"pattern\":{\"shape\":\"\"}},\"name\":\"sore_throat\",\"offsetgroup\":\"sore_throat\",\"orientation\":\"v\",\"showlegend\":true,\"textposition\":\"auto\",\"x\":[\"sore_throat\"],\"xaxis\":\"x\",\"y\":[0.016],\"yaxis\":\"y\",\"type\":\"bar\"},{\"alignmentgroup\":\"True\",\"hovertemplate\":\"Features=%{x}<br>Variable Importance Score=%{y}<extra></extra>\",\"legendgroup\":\"shortness_of_breath\",\"marker\":{\"color\":\"#9c179e\",\"pattern\":{\"shape\":\"\"}},\"name\":\"shortness_of_breath\",\"offsetgroup\":\"shortness_of_breath\",\"orientation\":\"v\",\"showlegend\":true,\"textposition\":\"auto\",\"x\":[\"shortness_of_breath\"],\"xaxis\":\"x\",\"y\":[0.016],\"yaxis\":\"y\",\"type\":\"bar\"},{\"alignmentgroup\":\"True\",\"hovertemplate\":\"Features=%{x}<br>Variable Importance Score=%{y}<extra></extra>\",\"legendgroup\":\"abroad\",\"marker\":{\"color\":\"#7201a8\",\"pattern\":{\"shape\":\"\"}},\"name\":\"abroad\",\"offsetgroup\":\"abroad\",\"orientation\":\"v\",\"showlegend\":true,\"textposition\":\"auto\",\"x\":[\"abroad\"],\"xaxis\":\"x\",\"y\":[0.003],\"yaxis\":\"y\",\"type\":\"bar\"},{\"alignmentgroup\":\"True\",\"hovertemplate\":\"Features=%{x}<br>Variable Importance Score=%{y}<extra></extra>\",\"legendgroup\":\"gender\",\"marker\":{\"color\":\"#46039f\",\"pattern\":{\"shape\":\"\"}},\"name\":\"gender\",\"offsetgroup\":\"gender\",\"orientation\":\"v\",\"showlegend\":true,\"textposition\":\"auto\",\"x\":[\"gender\"],\"xaxis\":\"x\",\"y\":[0.001],\"yaxis\":\"y\",\"type\":\"bar\"}],                        {\"template\":{\"data\":{\"barpolar\":[{\"marker\":{\"line\":{\"color\":\"rgb(17,17,17)\",\"width\":0.5},\"pattern\":{\"fillmode\":\"overlay\",\"size\":10,\"solidity\":0.2}},\"type\":\"barpolar\"}],\"bar\":[{\"error_x\":{\"color\":\"#f2f5fa\"},\"error_y\":{\"color\":\"#f2f5fa\"},\"marker\":{\"line\":{\"color\":\"rgb(17,17,17)\",\"width\":0.5},\"pattern\":{\"fillmode\":\"overlay\",\"size\":10,\"solidity\":0.2}},\"type\":\"bar\"}],\"carpet\":[{\"aaxis\":{\"endlinecolor\":\"#A2B1C6\",\"gridcolor\":\"#506784\",\"linecolor\":\"#506784\",\"minorgridcolor\":\"#506784\",\"startlinecolor\":\"#A2B1C6\"},\"baxis\":{\"endlinecolor\":\"#A2B1C6\",\"gridcolor\":\"#506784\",\"linecolor\":\"#506784\",\"minorgridcolor\":\"#506784\",\"startlinecolor\":\"#A2B1C6\"},\"type\":\"carpet\"}],\"choropleth\":[{\"colorbar\":{\"outlinewidth\":0,\"ticks\":\"\"},\"type\":\"choropleth\"}],\"contourcarpet\":[{\"colorbar\":{\"outlinewidth\":0,\"ticks\":\"\"},\"type\":\"contourcarpet\"}],\"contour\":[{\"colorbar\":{\"outlinewidth\":0,\"ticks\":\"\"},\"colorscale\":[[0.0,\"#0d0887\"],[0.1111111111111111,\"#46039f\"],[0.2222222222222222,\"#7201a8\"],[0.3333333333333333,\"#9c179e\"],[0.4444444444444444,\"#bd3786\"],[0.5555555555555556,\"#d8576b\"],[0.6666666666666666,\"#ed7953\"],[0.7777777777777778,\"#fb9f3a\"],[0.8888888888888888,\"#fdca26\"],[1.0,\"#f0f921\"]],\"type\":\"contour\"}],\"heatmapgl\":[{\"colorbar\":{\"outlinewidth\":0,\"ticks\":\"\"},\"colorscale\":[[0.0,\"#0d0887\"],[0.1111111111111111,\"#46039f\"],[0.2222222222222222,\"#7201a8\"],[0.3333333333333333,\"#9c179e\"],[0.4444444444444444,\"#bd3786\"],[0.5555555555555556,\"#d8576b\"],[0.6666666666666666,\"#ed7953\"],[0.7777777777777778,\"#fb9f3a\"],[0.8888888888888888,\"#fdca26\"],[1.0,\"#f0f921\"]],\"type\":\"heatmapgl\"}],\"heatmap\":[{\"colorbar\":{\"outlinewidth\":0,\"ticks\":\"\"},\"colorscale\":[[0.0,\"#0d0887\"],[0.1111111111111111,\"#46039f\"],[0.2222222222222222,\"#7201a8\"],[0.3333333333333333,\"#9c179e\"],[0.4444444444444444,\"#bd3786\"],[0.5555555555555556,\"#d8576b\"],[0.6666666666666666,\"#ed7953\"],[0.7777777777777778,\"#fb9f3a\"],[0.8888888888888888,\"#fdca26\"],[1.0,\"#f0f921\"]],\"type\":\"heatmap\"}],\"histogram2dcontour\":[{\"colorbar\":{\"outlinewidth\":0,\"ticks\":\"\"},\"colorscale\":[[0.0,\"#0d0887\"],[0.1111111111111111,\"#46039f\"],[0.2222222222222222,\"#7201a8\"],[0.3333333333333333,\"#9c179e\"],[0.4444444444444444,\"#bd3786\"],[0.5555555555555556,\"#d8576b\"],[0.6666666666666666,\"#ed7953\"],[0.7777777777777778,\"#fb9f3a\"],[0.8888888888888888,\"#fdca26\"],[1.0,\"#f0f921\"]],\"type\":\"histogram2dcontour\"}],\"histogram2d\":[{\"colorbar\":{\"outlinewidth\":0,\"ticks\":\"\"},\"colorscale\":[[0.0,\"#0d0887\"],[0.1111111111111111,\"#46039f\"],[0.2222222222222222,\"#7201a8\"],[0.3333333333333333,\"#9c179e\"],[0.4444444444444444,\"#bd3786\"],[0.5555555555555556,\"#d8576b\"],[0.6666666666666666,\"#ed7953\"],[0.7777777777777778,\"#fb9f3a\"],[0.8888888888888888,\"#fdca26\"],[1.0,\"#f0f921\"]],\"type\":\"histogram2d\"}],\"histogram\":[{\"marker\":{\"pattern\":{\"fillmode\":\"overlay\",\"size\":10,\"solidity\":0.2}},\"type\":\"histogram\"}],\"mesh3d\":[{\"colorbar\":{\"outlinewidth\":0,\"ticks\":\"\"},\"type\":\"mesh3d\"}],\"parcoords\":[{\"line\":{\"colorbar\":{\"outlinewidth\":0,\"ticks\":\"\"}},\"type\":\"parcoords\"}],\"pie\":[{\"automargin\":true,\"type\":\"pie\"}],\"scatter3d\":[{\"line\":{\"colorbar\":{\"outlinewidth\":0,\"ticks\":\"\"}},\"marker\":{\"colorbar\":{\"outlinewidth\":0,\"ticks\":\"\"}},\"type\":\"scatter3d\"}],\"scattercarpet\":[{\"marker\":{\"colorbar\":{\"outlinewidth\":0,\"ticks\":\"\"}},\"type\":\"scattercarpet\"}],\"scattergeo\":[{\"marker\":{\"colorbar\":{\"outlinewidth\":0,\"ticks\":\"\"}},\"type\":\"scattergeo\"}],\"scattergl\":[{\"marker\":{\"line\":{\"color\":\"#283442\"}},\"type\":\"scattergl\"}],\"scattermapbox\":[{\"marker\":{\"colorbar\":{\"outlinewidth\":0,\"ticks\":\"\"}},\"type\":\"scattermapbox\"}],\"scatterpolargl\":[{\"marker\":{\"colorbar\":{\"outlinewidth\":0,\"ticks\":\"\"}},\"type\":\"scatterpolargl\"}],\"scatterpolar\":[{\"marker\":{\"colorbar\":{\"outlinewidth\":0,\"ticks\":\"\"}},\"type\":\"scatterpolar\"}],\"scatter\":[{\"marker\":{\"line\":{\"color\":\"#283442\"}},\"type\":\"scatter\"}],\"scatterternary\":[{\"marker\":{\"colorbar\":{\"outlinewidth\":0,\"ticks\":\"\"}},\"type\":\"scatterternary\"}],\"surface\":[{\"colorbar\":{\"outlinewidth\":0,\"ticks\":\"\"},\"colorscale\":[[0.0,\"#0d0887\"],[0.1111111111111111,\"#46039f\"],[0.2222222222222222,\"#7201a8\"],[0.3333333333333333,\"#9c179e\"],[0.4444444444444444,\"#bd3786\"],[0.5555555555555556,\"#d8576b\"],[0.6666666666666666,\"#ed7953\"],[0.7777777777777778,\"#fb9f3a\"],[0.8888888888888888,\"#fdca26\"],[1.0,\"#f0f921\"]],\"type\":\"surface\"}],\"table\":[{\"cells\":{\"fill\":{\"color\":\"#506784\"},\"line\":{\"color\":\"rgb(17,17,17)\"}},\"header\":{\"fill\":{\"color\":\"#2a3f5f\"},\"line\":{\"color\":\"rgb(17,17,17)\"}},\"type\":\"table\"}]},\"layout\":{\"annotationdefaults\":{\"arrowcolor\":\"#f2f5fa\",\"arrowhead\":0,\"arrowwidth\":1},\"autotypenumbers\":\"strict\",\"coloraxis\":{\"colorbar\":{\"outlinewidth\":0,\"ticks\":\"\"}},\"colorscale\":{\"diverging\":[[0,\"#8e0152\"],[0.1,\"#c51b7d\"],[0.2,\"#de77ae\"],[0.3,\"#f1b6da\"],[0.4,\"#fde0ef\"],[0.5,\"#f7f7f7\"],[0.6,\"#e6f5d0\"],[0.7,\"#b8e186\"],[0.8,\"#7fbc41\"],[0.9,\"#4d9221\"],[1,\"#276419\"]],\"sequential\":[[0.0,\"#0d0887\"],[0.1111111111111111,\"#46039f\"],[0.2222222222222222,\"#7201a8\"],[0.3333333333333333,\"#9c179e\"],[0.4444444444444444,\"#bd3786\"],[0.5555555555555556,\"#d8576b\"],[0.6666666666666666,\"#ed7953\"],[0.7777777777777778,\"#fb9f3a\"],[0.8888888888888888,\"#fdca26\"],[1.0,\"#f0f921\"]],\"sequentialminus\":[[0.0,\"#0d0887\"],[0.1111111111111111,\"#46039f\"],[0.2222222222222222,\"#7201a8\"],[0.3333333333333333,\"#9c179e\"],[0.4444444444444444,\"#bd3786\"],[0.5555555555555556,\"#d8576b\"],[0.6666666666666666,\"#ed7953\"],[0.7777777777777778,\"#fb9f3a\"],[0.8888888888888888,\"#fdca26\"],[1.0,\"#f0f921\"]]},\"colorway\":[\"#636efa\",\"#EF553B\",\"#00cc96\",\"#ab63fa\",\"#FFA15A\",\"#19d3f3\",\"#FF6692\",\"#B6E880\",\"#FF97FF\",\"#FECB52\"],\"font\":{\"color\":\"#f2f5fa\"},\"geo\":{\"bgcolor\":\"rgb(17,17,17)\",\"lakecolor\":\"rgb(17,17,17)\",\"landcolor\":\"rgb(17,17,17)\",\"showlakes\":true,\"showland\":true,\"subunitcolor\":\"#506784\"},\"hoverlabel\":{\"align\":\"left\"},\"hovermode\":\"closest\",\"mapbox\":{\"style\":\"dark\"},\"paper_bgcolor\":\"rgb(17,17,17)\",\"plot_bgcolor\":\"rgb(17,17,17)\",\"polar\":{\"angularaxis\":{\"gridcolor\":\"#506784\",\"linecolor\":\"#506784\",\"ticks\":\"\"},\"bgcolor\":\"rgb(17,17,17)\",\"radialaxis\":{\"gridcolor\":\"#506784\",\"linecolor\":\"#506784\",\"ticks\":\"\"}},\"scene\":{\"xaxis\":{\"backgroundcolor\":\"rgb(17,17,17)\",\"gridcolor\":\"#506784\",\"gridwidth\":2,\"linecolor\":\"#506784\",\"showbackground\":true,\"ticks\":\"\",\"zerolinecolor\":\"#C8D4E3\"},\"yaxis\":{\"backgroundcolor\":\"rgb(17,17,17)\",\"gridcolor\":\"#506784\",\"gridwidth\":2,\"linecolor\":\"#506784\",\"showbackground\":true,\"ticks\":\"\",\"zerolinecolor\":\"#C8D4E3\"},\"zaxis\":{\"backgroundcolor\":\"rgb(17,17,17)\",\"gridcolor\":\"#506784\",\"gridwidth\":2,\"linecolor\":\"#506784\",\"showbackground\":true,\"ticks\":\"\",\"zerolinecolor\":\"#C8D4E3\"}},\"shapedefaults\":{\"line\":{\"color\":\"#f2f5fa\"}},\"sliderdefaults\":{\"bgcolor\":\"#C8D4E3\",\"bordercolor\":\"rgb(17,17,17)\",\"borderwidth\":1,\"tickwidth\":0},\"ternary\":{\"aaxis\":{\"gridcolor\":\"#506784\",\"linecolor\":\"#506784\",\"ticks\":\"\"},\"baxis\":{\"gridcolor\":\"#506784\",\"linecolor\":\"#506784\",\"ticks\":\"\"},\"bgcolor\":\"rgb(17,17,17)\",\"caxis\":{\"gridcolor\":\"#506784\",\"linecolor\":\"#506784\",\"ticks\":\"\"}},\"title\":{\"x\":0.05},\"updatemenudefaults\":{\"bgcolor\":\"#506784\",\"borderwidth\":0},\"xaxis\":{\"automargin\":true,\"gridcolor\":\"#283442\",\"linecolor\":\"#506784\",\"ticks\":\"\",\"title\":{\"standoff\":15},\"zerolinecolor\":\"#283442\",\"zerolinewidth\":2},\"yaxis\":{\"automargin\":true,\"gridcolor\":\"#283442\",\"linecolor\":\"#506784\",\"ticks\":\"\",\"title\":{\"standoff\":15},\"zerolinecolor\":\"#283442\",\"zerolinewidth\":2}}},\"xaxis\":{\"anchor\":\"y\",\"domain\":[0.0,1.0],\"title\":{\"text\":\"Features\"},\"categoryorder\":\"array\",\"categoryarray\":[\"contact_with_covid_positive_patient\",\"fever\",\"head_ache\",\"cough\",\"age_60_and_above\",\"sore_throat\",\"shortness_of_breath\",\"abroad\",\"gender\"]},\"yaxis\":{\"anchor\":\"x\",\"domain\":[0.0,1.0],\"title\":{\"text\":\"Variable Importance Score\"}},\"legend\":{\"title\":{\"text\":\"Features\"},\"tracegroupgap\":0},\"margin\":{\"t\":60},\"barmode\":\"relative\"},                        {\"responsive\": true}                    ).then(function(){\n",
       "                            \n",
       "var gd = document.getElementById('9b86496c-0179-4f42-8702-dd6d6a8bece5');\n",
       "var x = new MutationObserver(function (mutations, observer) {{\n",
       "        var display = window.getComputedStyle(gd).display;\n",
       "        if (!display || display === 'none') {{\n",
       "            console.log([gd, 'removed!']);\n",
       "            Plotly.purge(gd);\n",
       "            observer.disconnect();\n",
       "        }}\n",
       "}});\n",
       "\n",
       "// Listen for the removal of the full notebook cells\n",
       "var notebookContainer = gd.closest('#notebook-container');\n",
       "if (notebookContainer) {{\n",
       "    x.observe(notebookContainer, {childList: true});\n",
       "}}\n",
       "\n",
       "// Listen for the clearing of the current output cell\n",
       "var outputEl = gd.closest('.output');\n",
       "if (outputEl) {{\n",
       "    x.observe(outputEl, {childList: true});\n",
       "}}\n",
       "\n",
       "                        })                };                });            </script>        </div>"
      ]
     },
     "metadata": {},
     "output_type": "display_data"
    }
   ],
   "source": [
    "# Checking For Variable Importance\n",
    "\n",
    "d3 = pd.DataFrame({'Features': list(X_train.columns), 'Variable Importance Score': list(np.around(xgb.feature_importances_,3))})\n",
    "\n",
    "feature_importance(d3)"
   ]
  },
  {
   "cell_type": "markdown",
   "id": "19da3f0e",
   "metadata": {
    "papermill": {
     "duration": 0.067061,
     "end_time": "2021-12-29T12:30:15.564421",
     "exception": false,
     "start_time": "2021-12-29T12:30:15.497360",
     "status": "completed"
    },
    "tags": []
   },
   "source": [
    "![](https://raw.githubusercontent.com/mykeysid10/Project-Covid-Cache/main/Phase%201%20Images/All%20Day.jpg)"
   ]
  },
  {
   "cell_type": "markdown",
   "id": "4ed1095e",
   "metadata": {
    "papermill": {
     "duration": 0.063563,
     "end_time": "2021-12-29T12:30:15.691845",
     "exception": false,
     "start_time": "2021-12-29T12:30:15.628282",
     "status": "completed"
    },
    "tags": []
   },
   "source": [
    "### M4 - CatBoost using GridSearchCv"
   ]
  },
  {
   "cell_type": "code",
   "execution_count": 37,
   "id": "5dc7098d",
   "metadata": {
    "execution": {
     "iopub.execute_input": "2021-12-29T12:30:15.840938Z",
     "iopub.status.busy": "2021-12-29T12:30:15.840029Z",
     "iopub.status.idle": "2021-12-29T12:40:14.303257Z",
     "shell.execute_reply": "2021-12-29T12:40:14.304074Z",
     "shell.execute_reply.started": "2021-12-24T14:55:46.330863Z"
    },
    "papermill": {
     "duration": 598.546938,
     "end_time": "2021-12-29T12:40:14.304319",
     "exception": false,
     "start_time": "2021-12-29T12:30:15.757381",
     "status": "completed"
    },
    "tags": []
   },
   "outputs": [
    {
     "name": "stdout",
     "output_type": "stream",
     "text": [
      "Best Parameters:  {'depth': 7, 'eta': 0.2, 'iterations': 500}\n",
      "Accuracy:  0.9773111272025101\n"
     ]
    }
   ],
   "source": [
    "grid4 = {'iterations': [500, 700],\n",
    "          'depth': [5, 6, 7, 8],\n",
    "          'eta': [0.1, 0.2]}\n",
    "\n",
    "cb = CatBoostClassifier(loss_function = \"Logloss\", random_state = 42, silent = True)\n",
    "\n",
    "cb_cv = GridSearchCV(cb, grid4, cv = 3)\n",
    "cb_cv.fit(X_train, Y_train)\n",
    "\n",
    "print(\"Best Parameters: \", cb_cv.best_params_)\n",
    "print(\"Accuracy: \", cb_cv.best_score_)"
   ]
  },
  {
   "cell_type": "code",
   "execution_count": 38,
   "id": "65b5bcf1",
   "metadata": {
    "_kg_hide-output": true,
    "execution": {
     "iopub.execute_input": "2021-12-29T12:40:14.463263Z",
     "iopub.status.busy": "2021-12-29T12:40:14.451229Z",
     "iopub.status.idle": "2021-12-29T12:40:32.759165Z",
     "shell.execute_reply": "2021-12-29T12:40:32.759655Z",
     "shell.execute_reply.started": "2021-12-29T11:31:51.207387Z"
    },
    "papermill": {
     "duration": 18.383708,
     "end_time": "2021-12-29T12:40:32.759828",
     "exception": false,
     "start_time": "2021-12-29T12:40:14.376120",
     "status": "completed"
    },
    "tags": []
   },
   "outputs": [
    {
     "name": "stdout",
     "output_type": "stream",
     "text": [
      "\n",
      "-----------------------------CatBoost Classifier-----------------------------\n",
      "\n",
      "Classification Report for Train Data\n",
      "\n",
      "              precision    recall  f1-score   support\n",
      "\n",
      "           0       1.00      0.96      0.98    188938\n",
      "           1       0.94      1.00      0.97    113501\n",
      "\n",
      "    accuracy                           0.98    302439\n",
      "   macro avg       0.97      0.98      0.98    302439\n",
      "weighted avg       0.98      0.98      0.98    302439\n",
      "\n",
      "--------------------------------------------------------------------------\n",
      "Recall on Train Data: 99.95\n",
      "Specificity on Train Data: 96.39999999999999\n",
      "Accuracy on Train Data: 97.72999999999999\n",
      "Precision on Train Data: 94.35\n",
      "F1 Score Train Data: 97.0693\n",
      "--------------------------------------------------------------------------\n",
      "\n",
      "Classification Report for Test Data\n",
      "\n",
      "              precision    recall  f1-score   support\n",
      "\n",
      "           0       1.00      0.96      0.98     81097\n",
      "           1       0.94      1.00      0.97     48520\n",
      "\n",
      "    accuracy                           0.98    129617\n",
      "   macro avg       0.97      0.98      0.98    129617\n",
      "weighted avg       0.98      0.98      0.98    129617\n",
      "\n",
      "--------------------------------------------------------------------------\n",
      "Recall on Test Data: 99.92999999999999\n",
      "Specificity on Test Data: 96.43\n",
      "Accuracy on Test Data: 97.74000000000001\n",
      "Precision on Train Data: 94.37\n",
      "F1 Score Train Data: 97.0704\n",
      "--------------------------------------------------------------------------\n"
     ]
    },
    {
     "data": {
      "image/png": "[encoded data removed]",
      "text/plain": [
       "<Figure size 432x288 with 2 Axes>"
      ]
     },
     "metadata": {
      "needs_background": "light"
     },
     "output_type": "display_data"
    },
    {
     "data": {
      "image/png": "[encoded data removed]",
      "text/plain": [
       "<Figure size 432x288 with 2 Axes>"
      ]
     },
     "metadata": {
      "needs_background": "light"
     },
     "output_type": "display_data"
    }
   ],
   "source": [
    "# Applying Best Parameters Suggested by GridSearch\n",
    "\n",
    "ctb = CatBoostClassifier(eta = 0.2, iterations = 500, max_depth = 7, loss_function = \"Logloss\", random_state = 42, silent = True)\n",
    "\n",
    "ctb.fit(X_train ,Y_train)\n",
    "\n",
    "ctb_yp_train = ctb.predict(X_train)\n",
    "ctb_yp_test = ctb.predict(X_test)\n",
    "\n",
    "# Model Evaluation\n",
    "\n",
    "evaluation_parametrics(\"CatBoost Classifier\", Y_train, ctb_yp_train, Y_test, ctb_yp_test)"
   ]
  },
  {
   "cell_type": "code",
   "execution_count": 39,
   "id": "7097ffce",
   "metadata": {
    "execution": {
     "iopub.execute_input": "2021-12-29T12:40:32.964048Z",
     "iopub.status.busy": "2021-12-29T12:40:32.962550Z",
     "iopub.status.idle": "2021-12-29T12:40:33.022190Z",
     "shell.execute_reply": "2021-12-29T12:40:33.022711Z",
     "shell.execute_reply.started": "2021-12-28T17:26:58.466919Z"
    },
    "papermill": {
     "duration": 0.186592,
     "end_time": "2021-12-29T12:40:33.022917",
     "exception": false,
     "start_time": "2021-12-29T12:40:32.836325",
     "status": "completed"
    },
    "tags": []
   },
   "outputs": [
    {
     "data": {
      "text/html": [
       "<div>                            <div id=\"a088bff3-5ae5-4bab-9cf2-0c4a01898f47\" class=\"plotly-graph-div\" style=\"height:525px; width:100%;\"></div>            <script type=\"text/javascript\">                require([\"plotly\"], function(Plotly) {                    window.PLOTLYENV=window.PLOTLYENV || {};                                    if (document.getElementById(\"a088bff3-5ae5-4bab-9cf2-0c4a01898f47\")) {                    Plotly.newPlot(                        \"a088bff3-5ae5-4bab-9cf2-0c4a01898f47\",                        [{\"alignmentgroup\":\"True\",\"hovertemplate\":\"Features=%{x}<br>Variable Importance Score=%{y}<extra></extra>\",\"legendgroup\":\"contact_with_covid_positive_patient\",\"marker\":{\"color\":\"#f0f921\",\"pattern\":{\"shape\":\"\"}},\"name\":\"contact_with_covid_positive_patient\",\"offsetgroup\":\"contact_with_covid_positive_patient\",\"orientation\":\"v\",\"showlegend\":true,\"textposition\":\"auto\",\"x\":[\"contact_with_covid_positive_patient\"],\"xaxis\":\"x\",\"y\":[32.538],\"yaxis\":\"y\",\"type\":\"bar\"},{\"alignmentgroup\":\"True\",\"hovertemplate\":\"Features=%{x}<br>Variable Importance Score=%{y}<extra></extra>\",\"legendgroup\":\"fever\",\"marker\":{\"color\":\"#fdca26\",\"pattern\":{\"shape\":\"\"}},\"name\":\"fever\",\"offsetgroup\":\"fever\",\"orientation\":\"v\",\"showlegend\":true,\"textposition\":\"auto\",\"x\":[\"fever\"],\"xaxis\":\"x\",\"y\":[25.022],\"yaxis\":\"y\",\"type\":\"bar\"},{\"alignmentgroup\":\"True\",\"hovertemplate\":\"Features=%{x}<br>Variable Importance Score=%{y}<extra></extra>\",\"legendgroup\":\"age_60_and_above\",\"marker\":{\"color\":\"#fb9f3a\",\"pattern\":{\"shape\":\"\"}},\"name\":\"age_60_and_above\",\"offsetgroup\":\"age_60_and_above\",\"orientation\":\"v\",\"showlegend\":true,\"textposition\":\"auto\",\"x\":[\"age_60_and_above\"],\"xaxis\":\"x\",\"y\":[11.425],\"yaxis\":\"y\",\"type\":\"bar\"},{\"alignmentgroup\":\"True\",\"hovertemplate\":\"Features=%{x}<br>Variable Importance Score=%{y}<extra></extra>\",\"legendgroup\":\"head_ache\",\"marker\":{\"color\":\"#ed7953\",\"pattern\":{\"shape\":\"\"}},\"name\":\"head_ache\",\"offsetgroup\":\"head_ache\",\"orientation\":\"v\",\"showlegend\":true,\"textposition\":\"auto\",\"x\":[\"head_ache\"],\"xaxis\":\"x\",\"y\":[10.803],\"yaxis\":\"y\",\"type\":\"bar\"},{\"alignmentgroup\":\"True\",\"hovertemplate\":\"Features=%{x}<br>Variable Importance Score=%{y}<extra></extra>\",\"legendgroup\":\"cough\",\"marker\":{\"color\":\"#d8576b\",\"pattern\":{\"shape\":\"\"}},\"name\":\"cough\",\"offsetgroup\":\"cough\",\"orientation\":\"v\",\"showlegend\":true,\"textposition\":\"auto\",\"x\":[\"cough\"],\"xaxis\":\"x\",\"y\":[10.775],\"yaxis\":\"y\",\"type\":\"bar\"},{\"alignmentgroup\":\"True\",\"hovertemplate\":\"Features=%{x}<br>Variable Importance Score=%{y}<extra></extra>\",\"legendgroup\":\"sore_throat\",\"marker\":{\"color\":\"#bd3786\",\"pattern\":{\"shape\":\"\"}},\"name\":\"sore_throat\",\"offsetgroup\":\"sore_throat\",\"orientation\":\"v\",\"showlegend\":true,\"textposition\":\"auto\",\"x\":[\"sore_throat\"],\"xaxis\":\"x\",\"y\":[6.668],\"yaxis\":\"y\",\"type\":\"bar\"},{\"alignmentgroup\":\"True\",\"hovertemplate\":\"Features=%{x}<br>Variable Importance Score=%{y}<extra></extra>\",\"legendgroup\":\"shortness_of_breath\",\"marker\":{\"color\":\"#9c179e\",\"pattern\":{\"shape\":\"\"}},\"name\":\"shortness_of_breath\",\"offsetgroup\":\"shortness_of_breath\",\"orientation\":\"v\",\"showlegend\":true,\"textposition\":\"auto\",\"x\":[\"shortness_of_breath\"],\"xaxis\":\"x\",\"y\":[2.202],\"yaxis\":\"y\",\"type\":\"bar\"},{\"alignmentgroup\":\"True\",\"hovertemplate\":\"Features=%{x}<br>Variable Importance Score=%{y}<extra></extra>\",\"legendgroup\":\"abroad\",\"marker\":{\"color\":\"#7201a8\",\"pattern\":{\"shape\":\"\"}},\"name\":\"abroad\",\"offsetgroup\":\"abroad\",\"orientation\":\"v\",\"showlegend\":true,\"textposition\":\"auto\",\"x\":[\"abroad\"],\"xaxis\":\"x\",\"y\":[0.387],\"yaxis\":\"y\",\"type\":\"bar\"},{\"alignmentgroup\":\"True\",\"hovertemplate\":\"Features=%{x}<br>Variable Importance Score=%{y}<extra></extra>\",\"legendgroup\":\"gender\",\"marker\":{\"color\":\"#46039f\",\"pattern\":{\"shape\":\"\"}},\"name\":\"gender\",\"offsetgroup\":\"gender\",\"orientation\":\"v\",\"showlegend\":true,\"textposition\":\"auto\",\"x\":[\"gender\"],\"xaxis\":\"x\",\"y\":[0.18],\"yaxis\":\"y\",\"type\":\"bar\"}],                        {\"template\":{\"data\":{\"barpolar\":[{\"marker\":{\"line\":{\"color\":\"rgb(17,17,17)\",\"width\":0.5},\"pattern\":{\"fillmode\":\"overlay\",\"size\":10,\"solidity\":0.2}},\"type\":\"barpolar\"}],\"bar\":[{\"error_x\":{\"color\":\"#f2f5fa\"},\"error_y\":{\"color\":\"#f2f5fa\"},\"marker\":{\"line\":{\"color\":\"rgb(17,17,17)\",\"width\":0.5},\"pattern\":{\"fillmode\":\"overlay\",\"size\":10,\"solidity\":0.2}},\"type\":\"bar\"}],\"carpet\":[{\"aaxis\":{\"endlinecolor\":\"#A2B1C6\",\"gridcolor\":\"#506784\",\"linecolor\":\"#506784\",\"minorgridcolor\":\"#506784\",\"startlinecolor\":\"#A2B1C6\"},\"baxis\":{\"endlinecolor\":\"#A2B1C6\",\"gridcolor\":\"#506784\",\"linecolor\":\"#506784\",\"minorgridcolor\":\"#506784\",\"startlinecolor\":\"#A2B1C6\"},\"type\":\"carpet\"}],\"choropleth\":[{\"colorbar\":{\"outlinewidth\":0,\"ticks\":\"\"},\"type\":\"choropleth\"}],\"contourcarpet\":[{\"colorbar\":{\"outlinewidth\":0,\"ticks\":\"\"},\"type\":\"contourcarpet\"}],\"contour\":[{\"colorbar\":{\"outlinewidth\":0,\"ticks\":\"\"},\"colorscale\":[[0.0,\"#0d0887\"],[0.1111111111111111,\"#46039f\"],[0.2222222222222222,\"#7201a8\"],[0.3333333333333333,\"#9c179e\"],[0.4444444444444444,\"#bd3786\"],[0.5555555555555556,\"#d8576b\"],[0.6666666666666666,\"#ed7953\"],[0.7777777777777778,\"#fb9f3a\"],[0.8888888888888888,\"#fdca26\"],[1.0,\"#f0f921\"]],\"type\":\"contour\"}],\"heatmapgl\":[{\"colorbar\":{\"outlinewidth\":0,\"ticks\":\"\"},\"colorscale\":[[0.0,\"#0d0887\"],[0.1111111111111111,\"#46039f\"],[0.2222222222222222,\"#7201a8\"],[0.3333333333333333,\"#9c179e\"],[0.4444444444444444,\"#bd3786\"],[0.5555555555555556,\"#d8576b\"],[0.6666666666666666,\"#ed7953\"],[0.7777777777777778,\"#fb9f3a\"],[0.8888888888888888,\"#fdca26\"],[1.0,\"#f0f921\"]],\"type\":\"heatmapgl\"}],\"heatmap\":[{\"colorbar\":{\"outlinewidth\":0,\"ticks\":\"\"},\"colorscale\":[[0.0,\"#0d0887\"],[0.1111111111111111,\"#46039f\"],[0.2222222222222222,\"#7201a8\"],[0.3333333333333333,\"#9c179e\"],[0.4444444444444444,\"#bd3786\"],[0.5555555555555556,\"#d8576b\"],[0.6666666666666666,\"#ed7953\"],[0.7777777777777778,\"#fb9f3a\"],[0.8888888888888888,\"#fdca26\"],[1.0,\"#f0f921\"]],\"type\":\"heatmap\"}],\"histogram2dcontour\":[{\"colorbar\":{\"outlinewidth\":0,\"ticks\":\"\"},\"colorscale\":[[0.0,\"#0d0887\"],[0.1111111111111111,\"#46039f\"],[0.2222222222222222,\"#7201a8\"],[0.3333333333333333,\"#9c179e\"],[0.4444444444444444,\"#bd3786\"],[0.5555555555555556,\"#d8576b\"],[0.6666666666666666,\"#ed7953\"],[0.7777777777777778,\"#fb9f3a\"],[0.8888888888888888,\"#fdca26\"],[1.0,\"#f0f921\"]],\"type\":\"histogram2dcontour\"}],\"histogram2d\":[{\"colorbar\":{\"outlinewidth\":0,\"ticks\":\"\"},\"colorscale\":[[0.0,\"#0d0887\"],[0.1111111111111111,\"#46039f\"],[0.2222222222222222,\"#7201a8\"],[0.3333333333333333,\"#9c179e\"],[0.4444444444444444,\"#bd3786\"],[0.5555555555555556,\"#d8576b\"],[0.6666666666666666,\"#ed7953\"],[0.7777777777777778,\"#fb9f3a\"],[0.8888888888888888,\"#fdca26\"],[1.0,\"#f0f921\"]],\"type\":\"histogram2d\"}],\"histogram\":[{\"marker\":{\"pattern\":{\"fillmode\":\"overlay\",\"size\":10,\"solidity\":0.2}},\"type\":\"histogram\"}],\"mesh3d\":[{\"colorbar\":{\"outlinewidth\":0,\"ticks\":\"\"},\"type\":\"mesh3d\"}],\"parcoords\":[{\"line\":{\"colorbar\":{\"outlinewidth\":0,\"ticks\":\"\"}},\"type\":\"parcoords\"}],\"pie\":[{\"automargin\":true,\"type\":\"pie\"}],\"scatter3d\":[{\"line\":{\"colorbar\":{\"outlinewidth\":0,\"ticks\":\"\"}},\"marker\":{\"colorbar\":{\"outlinewidth\":0,\"ticks\":\"\"}},\"type\":\"scatter3d\"}],\"scattercarpet\":[{\"marker\":{\"colorbar\":{\"outlinewidth\":0,\"ticks\":\"\"}},\"type\":\"scattercarpet\"}],\"scattergeo\":[{\"marker\":{\"colorbar\":{\"outlinewidth\":0,\"ticks\":\"\"}},\"type\":\"scattergeo\"}],\"scattergl\":[{\"marker\":{\"line\":{\"color\":\"#283442\"}},\"type\":\"scattergl\"}],\"scattermapbox\":[{\"marker\":{\"colorbar\":{\"outlinewidth\":0,\"ticks\":\"\"}},\"type\":\"scattermapbox\"}],\"scatterpolargl\":[{\"marker\":{\"colorbar\":{\"outlinewidth\":0,\"ticks\":\"\"}},\"type\":\"scatterpolargl\"}],\"scatterpolar\":[{\"marker\":{\"colorbar\":{\"outlinewidth\":0,\"ticks\":\"\"}},\"type\":\"scatterpolar\"}],\"scatter\":[{\"marker\":{\"line\":{\"color\":\"#283442\"}},\"type\":\"scatter\"}],\"scatterternary\":[{\"marker\":{\"colorbar\":{\"outlinewidth\":0,\"ticks\":\"\"}},\"type\":\"scatterternary\"}],\"surface\":[{\"colorbar\":{\"outlinewidth\":0,\"ticks\":\"\"},\"colorscale\":[[0.0,\"#0d0887\"],[0.1111111111111111,\"#46039f\"],[0.2222222222222222,\"#7201a8\"],[0.3333333333333333,\"#9c179e\"],[0.4444444444444444,\"#bd3786\"],[0.5555555555555556,\"#d8576b\"],[0.6666666666666666,\"#ed7953\"],[0.7777777777777778,\"#fb9f3a\"],[0.8888888888888888,\"#fdca26\"],[1.0,\"#f0f921\"]],\"type\":\"surface\"}],\"table\":[{\"cells\":{\"fill\":{\"color\":\"#506784\"},\"line\":{\"color\":\"rgb(17,17,17)\"}},\"header\":{\"fill\":{\"color\":\"#2a3f5f\"},\"line\":{\"color\":\"rgb(17,17,17)\"}},\"type\":\"table\"}]},\"layout\":{\"annotationdefaults\":{\"arrowcolor\":\"#f2f5fa\",\"arrowhead\":0,\"arrowwidth\":1},\"autotypenumbers\":\"strict\",\"coloraxis\":{\"colorbar\":{\"outlinewidth\":0,\"ticks\":\"\"}},\"colorscale\":{\"diverging\":[[0,\"#8e0152\"],[0.1,\"#c51b7d\"],[0.2,\"#de77ae\"],[0.3,\"#f1b6da\"],[0.4,\"#fde0ef\"],[0.5,\"#f7f7f7\"],[0.6,\"#e6f5d0\"],[0.7,\"#b8e186\"],[0.8,\"#7fbc41\"],[0.9,\"#4d9221\"],[1,\"#276419\"]],\"sequential\":[[0.0,\"#0d0887\"],[0.1111111111111111,\"#46039f\"],[0.2222222222222222,\"#7201a8\"],[0.3333333333333333,\"#9c179e\"],[0.4444444444444444,\"#bd3786\"],[0.5555555555555556,\"#d8576b\"],[0.6666666666666666,\"#ed7953\"],[0.7777777777777778,\"#fb9f3a\"],[0.8888888888888888,\"#fdca26\"],[1.0,\"#f0f921\"]],\"sequentialminus\":[[0.0,\"#0d0887\"],[0.1111111111111111,\"#46039f\"],[0.2222222222222222,\"#7201a8\"],[0.3333333333333333,\"#9c179e\"],[0.4444444444444444,\"#bd3786\"],[0.5555555555555556,\"#d8576b\"],[0.6666666666666666,\"#ed7953\"],[0.7777777777777778,\"#fb9f3a\"],[0.8888888888888888,\"#fdca26\"],[1.0,\"#f0f921\"]]},\"colorway\":[\"#636efa\",\"#EF553B\",\"#00cc96\",\"#ab63fa\",\"#FFA15A\",\"#19d3f3\",\"#FF6692\",\"#B6E880\",\"#FF97FF\",\"#FECB52\"],\"font\":{\"color\":\"#f2f5fa\"},\"geo\":{\"bgcolor\":\"rgb(17,17,17)\",\"lakecolor\":\"rgb(17,17,17)\",\"landcolor\":\"rgb(17,17,17)\",\"showlakes\":true,\"showland\":true,\"subunitcolor\":\"#506784\"},\"hoverlabel\":{\"align\":\"left\"},\"hovermode\":\"closest\",\"mapbox\":{\"style\":\"dark\"},\"paper_bgcolor\":\"rgb(17,17,17)\",\"plot_bgcolor\":\"rgb(17,17,17)\",\"polar\":{\"angularaxis\":{\"gridcolor\":\"#506784\",\"linecolor\":\"#506784\",\"ticks\":\"\"},\"bgcolor\":\"rgb(17,17,17)\",\"radialaxis\":{\"gridcolor\":\"#506784\",\"linecolor\":\"#506784\",\"ticks\":\"\"}},\"scene\":{\"xaxis\":{\"backgroundcolor\":\"rgb(17,17,17)\",\"gridcolor\":\"#506784\",\"gridwidth\":2,\"linecolor\":\"#506784\",\"showbackground\":true,\"ticks\":\"\",\"zerolinecolor\":\"#C8D4E3\"},\"yaxis\":{\"backgroundcolor\":\"rgb(17,17,17)\",\"gridcolor\":\"#506784\",\"gridwidth\":2,\"linecolor\":\"#506784\",\"showbackground\":true,\"ticks\":\"\",\"zerolinecolor\":\"#C8D4E3\"},\"zaxis\":{\"backgroundcolor\":\"rgb(17,17,17)\",\"gridcolor\":\"#506784\",\"gridwidth\":2,\"linecolor\":\"#506784\",\"showbackground\":true,\"ticks\":\"\",\"zerolinecolor\":\"#C8D4E3\"}},\"shapedefaults\":{\"line\":{\"color\":\"#f2f5fa\"}},\"sliderdefaults\":{\"bgcolor\":\"#C8D4E3\",\"bordercolor\":\"rgb(17,17,17)\",\"borderwidth\":1,\"tickwidth\":0},\"ternary\":{\"aaxis\":{\"gridcolor\":\"#506784\",\"linecolor\":\"#506784\",\"ticks\":\"\"},\"baxis\":{\"gridcolor\":\"#506784\",\"linecolor\":\"#506784\",\"ticks\":\"\"},\"bgcolor\":\"rgb(17,17,17)\",\"caxis\":{\"gridcolor\":\"#506784\",\"linecolor\":\"#506784\",\"ticks\":\"\"}},\"title\":{\"x\":0.05},\"updatemenudefaults\":{\"bgcolor\":\"#506784\",\"borderwidth\":0},\"xaxis\":{\"automargin\":true,\"gridcolor\":\"#283442\",\"linecolor\":\"#506784\",\"ticks\":\"\",\"title\":{\"standoff\":15},\"zerolinecolor\":\"#283442\",\"zerolinewidth\":2},\"yaxis\":{\"automargin\":true,\"gridcolor\":\"#283442\",\"linecolor\":\"#506784\",\"ticks\":\"\",\"title\":{\"standoff\":15},\"zerolinecolor\":\"#283442\",\"zerolinewidth\":2}}},\"xaxis\":{\"anchor\":\"y\",\"domain\":[0.0,1.0],\"title\":{\"text\":\"Features\"},\"categoryorder\":\"array\",\"categoryarray\":[\"contact_with_covid_positive_patient\",\"fever\",\"age_60_and_above\",\"head_ache\",\"cough\",\"sore_throat\",\"shortness_of_breath\",\"abroad\",\"gender\"]},\"yaxis\":{\"anchor\":\"x\",\"domain\":[0.0,1.0],\"title\":{\"text\":\"Variable Importance Score\"}},\"legend\":{\"title\":{\"text\":\"Features\"},\"tracegroupgap\":0},\"margin\":{\"t\":60},\"barmode\":\"relative\"},                        {\"responsive\": true}                    ).then(function(){\n",
       "                            \n",
       "var gd = document.getElementById('a088bff3-5ae5-4bab-9cf2-0c4a01898f47');\n",
       "var x = new MutationObserver(function (mutations, observer) {{\n",
       "        var display = window.getComputedStyle(gd).display;\n",
       "        if (!display || display === 'none') {{\n",
       "            console.log([gd, 'removed!']);\n",
       "            Plotly.purge(gd);\n",
       "            observer.disconnect();\n",
       "        }}\n",
       "}});\n",
       "\n",
       "// Listen for the removal of the full notebook cells\n",
       "var notebookContainer = gd.closest('#notebook-container');\n",
       "if (notebookContainer) {{\n",
       "    x.observe(notebookContainer, {childList: true});\n",
       "}}\n",
       "\n",
       "// Listen for the clearing of the current output cell\n",
       "var outputEl = gd.closest('.output');\n",
       "if (outputEl) {{\n",
       "    x.observe(outputEl, {childList: true});\n",
       "}}\n",
       "\n",
       "                        })                };                });            </script>        </div>"
      ]
     },
     "metadata": {},
     "output_type": "display_data"
    }
   ],
   "source": [
    "# Checking For Variable Importance\n",
    "\n",
    "d4 = pd.DataFrame({'Features': list(X_train.columns), 'Variable Importance Score': list(np.around(ctb.feature_importances_,3))})\n",
    "\n",
    "feature_importance(d4)"
   ]
  },
  {
   "cell_type": "markdown",
   "id": "50899ce1",
   "metadata": {
    "papermill": {
     "duration": 0.076344,
     "end_time": "2021-12-29T12:40:33.180639",
     "exception": false,
     "start_time": "2021-12-29T12:40:33.104295",
     "status": "completed"
    },
    "tags": []
   },
   "source": [
    "# Conclusion"
   ]
  },
  {
   "cell_type": "markdown",
   "id": "cf652b3b",
   "metadata": {
    "papermill": {
     "duration": 0.069526,
     "end_time": "2021-12-29T12:40:33.325095",
     "exception": false,
     "start_time": "2021-12-29T12:40:33.255569",
     "status": "completed"
    },
    "tags": []
   },
   "source": [
    "> #### 1. Data Extraction - Converted the data from Israel Language to English.\n",
    "\n",
    "> #### 2. Data Preprocessing - Label, One Hot Encoding & Eliminated ambigious records using risk coeficient.\n",
    "\n",
    "> #### 3. Exploratory Data Analysis - Used Tableau & Plotly.\n",
    "\n",
    "> #### 4. Feature Selection - Applied Chi Square test. All features were classified as important.\n",
    "\n",
    "> #### 5. Data Modeling - Undersampling Majority Class & 70-30 split as Train - Test Split. Applied GridSearchCv for all 4 models.  \n",
    "\n",
    "> #### 6. Model Evaluation - Calculated all the metrics using Confusion Matrix.\n",
    "\n",
    "> ![](https://raw.githubusercontent.com/mykeysid10/Project-Covid-Cache/main/Phase%201%20Images/Best%20Model.png)\n",
    "\n",
    ">> #### 6.1 We choose Logistic Regression as the final best predictor. Random Forest did Perfomed well.\n",
    "\n",
    ">> #### 6.2 Feature Importance of Logistic Regression & Random Forest were upto mark as per reports. (Read Ref 1 - 5). \n",
    "\n",
    ">> #### 6.3 Xgboost & Catboost Feature Importance Graph gave more priority to some specific features which in real scenario is not true. Hence, We drop these 2 Boosting models.\n",
    "\n",
    ">> #### 6.4 Random Forest had Best Recall but Logistic Regression had Best Specificity & Precision as compared to Random Forest.\n",
    "\n",
    ">> #### 6.5 We can observe that Logistic Regression's all metrics on Test Data have improved. Hence it performed well on Test Data.\n",
    "\n",
    "> #### 7. Final Model - 1. Logistic Regression, 2. (Optional)  Random Forest"
   ]
  },
  {
   "cell_type": "markdown",
   "id": "9f375b3a",
   "metadata": {
    "papermill": {
     "duration": 0.071296,
     "end_time": "2021-12-29T12:40:33.465880",
     "exception": false,
     "start_time": "2021-12-29T12:40:33.394584",
     "status": "completed"
    },
    "tags": []
   },
   "source": [
    "![](https://raw.githubusercontent.com/mykeysid10/Project-Covid-Cache/main/Phase%201%20Images/Do%20Better.jpg)"
   ]
  },
  {
   "cell_type": "markdown",
   "id": "01ca3b04",
   "metadata": {
    "papermill": {
     "duration": 0.071643,
     "end_time": "2021-12-29T12:40:33.607170",
     "exception": false,
     "start_time": "2021-12-29T12:40:33.535527",
     "status": "completed"
    },
    "tags": []
   },
   "source": [
    "# Saving all the models"
   ]
  },
  {
   "cell_type": "code",
   "execution_count": 40,
   "id": "09685a87",
   "metadata": {
    "execution": {
     "iopub.execute_input": "2021-12-29T12:40:33.755923Z",
     "iopub.status.busy": "2021-12-29T12:40:33.755254Z",
     "iopub.status.idle": "2021-12-29T12:40:33.814585Z",
     "shell.execute_reply": "2021-12-29T12:40:33.815099Z",
     "shell.execute_reply.started": "2021-12-24T15:00:14.39618Z"
    },
    "papermill": {
     "duration": 0.138862,
     "end_time": "2021-12-29T12:40:33.815283",
     "exception": false,
     "start_time": "2021-12-29T12:40:33.676421",
     "status": "completed"
    },
    "tags": []
   },
   "outputs": [],
   "source": [
    "# Saving all the models \n",
    " \n",
    "pickle.dump(lr, open('lr_model.sav', 'wb'))\n",
    "pickle.dump(rf, open('rf_model.sav', 'wb'))\n",
    "pickle.dump(xgb, open('xgb_model.sav', 'wb'))\n",
    "pickle.dump(ctb, open('ctb_model.sav', 'wb'))"
   ]
  }
 ],
 "metadata": {
  "kernelspec": {
   "display_name": "Python 3",
   "language": "python",
   "name": "python3"
  },
  "language_info": {
   "codemirror_mode": {
    "name": "ipython",
    "version": 3
   },
   "file_extension": ".py",
   "mimetype": "text/x-python",
   "name": "python",
   "nbconvert_exporter": "python",
   "pygments_lexer": "ipython3",
   "version": "3.7.12"
  },
  "papermill": {
   "default_parameters": {},
   "duration": 3822.957923,
   "end_time": "2021-12-29T12:40:35.809236",
   "environment_variables": {},
   "exception": null,
   "input_path": "__notebook__.ipynb",
   "output_path": "__notebook__.ipynb",
   "parameters": {},
   "start_time": "2021-12-29T11:36:52.851313",
   "version": "2.3.3"
  }
 },
 "nbformat": 4,
 "nbformat_minor": 5
}
