{
  "nbformat": 4,
  "nbformat_minor": 0,
  "metadata": {
    "colab": {
      "name": "Israel Data Extraction",
      "provenance": [],
      "collapsed_sections": [
        "RD6ABo3F0WpE",
        "ySzksapS0ebX",
        "a70Zuvye0lGM",
        "S6M1sGHA2AwF",
        "o9PbY9ak1vhL",
        "mVYdo05r3XN1",
        "oW6jlZxf5rAc",
        "5oO8vn9A9uF6",
        "I9g6OMeizdWG"
      ]
    },
    "kernelspec": {
      "name": "python3",
      "display_name": "Python 3"
    },
    "language_info": {
      "name": "python"
    }
  },
  "cells": [
    {
      "cell_type": "markdown",
      "metadata": {
        "id": "RD6ABo3F0WpE"
      },
      "source": [
        "## Importing Necessary Libraries"
      ]
    },
    {
      "cell_type": "code",
      "metadata": {
        "colab": {
          "base_uri": "https://localhost:8080/"
        },
        "id": "9hIWJM1EeXo1",
        "outputId": "726f207b-cf72-4c90-a4a2-604d7457afb1"
      },
      "source": [
        "!pip install mtranslate\n",
        "!pip install xlsxwriter"
      ],
      "execution_count": null,
      "outputs": [
        {
          "output_type": "stream",
          "name": "stdout",
          "text": [
            "Requirement already satisfied: mtranslate in /usr/local/lib/python3.7/dist-packages (1.8)\n",
            "Requirement already satisfied: xlsxwriter in /usr/local/lib/python3.7/dist-packages (3.0.2)\n"
          ]
        }
      ]
    },
    {
      "cell_type": "code",
      "metadata": {
        "id": "mJrDmLB0PqcM"
      },
      "source": [
        "import pandas as pd\n",
        "import mtranslate\n",
        "from mtranslate import translate"
      ],
      "execution_count": null,
      "outputs": []
    },
    {
      "cell_type": "markdown",
      "metadata": {
        "id": "ySzksapS0ebX"
      },
      "source": [
        "## Loading the Data"
      ]
    },
    {
      "cell_type": "code",
      "metadata": {
        "colab": {
          "base_uri": "https://localhost:8080/",
          "height": 241
        },
        "id": "1UpfNTDpVYoH",
        "outputId": "415ddce6-82af-4f1c-e61c-f9c4068db145"
      },
      "source": [
        "data = pd.read_csv(\"/content/drive/MyDrive/Sem 7 Project/corona_tested_individuals_ver_00198.csv\")\n",
        "data.head()"
      ],
      "execution_count": 4,
      "outputs": [
        {
          "output_type": "stream",
          "name": "stderr",
          "text": [
            "/usr/local/lib/python3.7/dist-packages/IPython/core/interactiveshell.py:2718: DtypeWarning: Columns (7,8) have mixed types.Specify dtype option on import or set low_memory=False.\n",
            "  interactivity=interactivity, compiler=compiler, result=result)\n"
          ]
        },
        {
          "output_type": "execute_result",
          "data": {
            "text/html": [
              "<div>\n",
              "<style scoped>\n",
              "    .dataframe tbody tr th:only-of-type {\n",
              "        vertical-align: middle;\n",
              "    }\n",
              "\n",
              "    .dataframe tbody tr th {\n",
              "        vertical-align: top;\n",
              "    }\n",
              "\n",
              "    .dataframe thead th {\n",
              "        text-align: right;\n",
              "    }\n",
              "</style>\n",
              "<table border=\"1\" class=\"dataframe\">\n",
              "  <thead>\n",
              "    <tr style=\"text-align: right;\">\n",
              "      <th></th>\n",
              "      <th>test_date</th>\n",
              "      <th>cough</th>\n",
              "      <th>fever</th>\n",
              "      <th>sore_throat</th>\n",
              "      <th>shortness_of_breath</th>\n",
              "      <th>head_ache</th>\n",
              "      <th>corona_result</th>\n",
              "      <th>age_60_and_above</th>\n",
              "      <th>gender</th>\n",
              "      <th>test_indication</th>\n",
              "    </tr>\n",
              "  </thead>\n",
              "  <tbody>\n",
              "    <tr>\n",
              "      <th>0</th>\n",
              "      <td>2021-11-14</td>\n",
              "      <td>0</td>\n",
              "      <td>0</td>\n",
              "      <td>0</td>\n",
              "      <td>0</td>\n",
              "      <td>0</td>\n",
              "      <td>שלילי</td>\n",
              "      <td>NaN</td>\n",
              "      <td>נקבה</td>\n",
              "      <td>Other</td>\n",
              "    </tr>\n",
              "    <tr>\n",
              "      <th>1</th>\n",
              "      <td>2021-11-14</td>\n",
              "      <td>0</td>\n",
              "      <td>0</td>\n",
              "      <td>0</td>\n",
              "      <td>0</td>\n",
              "      <td>0</td>\n",
              "      <td>שלילי</td>\n",
              "      <td>NaN</td>\n",
              "      <td>זכר</td>\n",
              "      <td>Other</td>\n",
              "    </tr>\n",
              "    <tr>\n",
              "      <th>2</th>\n",
              "      <td>2021-11-14</td>\n",
              "      <td>0</td>\n",
              "      <td>0</td>\n",
              "      <td>0</td>\n",
              "      <td>0</td>\n",
              "      <td>0</td>\n",
              "      <td>שלילי</td>\n",
              "      <td>NaN</td>\n",
              "      <td>נקבה</td>\n",
              "      <td>Other</td>\n",
              "    </tr>\n",
              "    <tr>\n",
              "      <th>3</th>\n",
              "      <td>2021-11-14</td>\n",
              "      <td>0</td>\n",
              "      <td>0</td>\n",
              "      <td>0</td>\n",
              "      <td>0</td>\n",
              "      <td>0</td>\n",
              "      <td>שלילי</td>\n",
              "      <td>NaN</td>\n",
              "      <td>זכר</td>\n",
              "      <td>Other</td>\n",
              "    </tr>\n",
              "    <tr>\n",
              "      <th>4</th>\n",
              "      <td>2021-11-14</td>\n",
              "      <td>0</td>\n",
              "      <td>0</td>\n",
              "      <td>0</td>\n",
              "      <td>0</td>\n",
              "      <td>0</td>\n",
              "      <td>שלילי</td>\n",
              "      <td>NaN</td>\n",
              "      <td>נקבה</td>\n",
              "      <td>Other</td>\n",
              "    </tr>\n",
              "  </tbody>\n",
              "</table>\n",
              "</div>"
            ],
            "text/plain": [
              "    test_date  cough  fever  ...  age_60_and_above  gender  test_indication\n",
              "0  2021-11-14      0      0  ...               NaN    נקבה            Other\n",
              "1  2021-11-14      0      0  ...               NaN     זכר            Other\n",
              "2  2021-11-14      0      0  ...               NaN    נקבה            Other\n",
              "3  2021-11-14      0      0  ...               NaN     זכר            Other\n",
              "4  2021-11-14      0      0  ...               NaN    נקבה            Other\n",
              "\n",
              "[5 rows x 10 columns]"
            ]
          },
          "metadata": {},
          "execution_count": 4
        }
      ]
    },
    {
      "cell_type": "code",
      "metadata": {
        "id": "zbC0HONLzppm",
        "colab": {
          "base_uri": "https://localhost:8080/"
        },
        "outputId": "4ddd5785-7cf6-4971-e7a2-a0611813f325"
      },
      "source": [
        "data.info()"
      ],
      "execution_count": 5,
      "outputs": [
        {
          "output_type": "stream",
          "name": "stdout",
          "text": [
            "<class 'pandas.core.frame.DataFrame'>\n",
            "RangeIndex: 7810748 entries, 0 to 7810747\n",
            "Data columns (total 10 columns):\n",
            " #   Column               Dtype \n",
            "---  ------               ----- \n",
            " 0   test_date            object\n",
            " 1   cough                int64 \n",
            " 2   fever                int64 \n",
            " 3   sore_throat          int64 \n",
            " 4   shortness_of_breath  int64 \n",
            " 5   head_ache            int64 \n",
            " 6   corona_result        object\n",
            " 7   age_60_and_above     object\n",
            " 8   gender               object\n",
            " 9   test_indication      object\n",
            "dtypes: int64(5), object(5)\n",
            "memory usage: 595.9+ MB\n"
          ]
        }
      ]
    },
    {
      "cell_type": "code",
      "metadata": {
        "id": "YDCJ8iF0zy-_",
        "colab": {
          "base_uri": "https://localhost:8080/"
        },
        "outputId": "89323dfd-f90e-4b82-ce53-530e35cd55b9"
      },
      "source": [
        "data.isnull().sum()"
      ],
      "execution_count": 6,
      "outputs": [
        {
          "output_type": "execute_result",
          "data": {
            "text/plain": [
              "test_date                    0\n",
              "cough                        0\n",
              "fever                        0\n",
              "sore_throat                  0\n",
              "shortness_of_breath          0\n",
              "head_ache                    0\n",
              "corona_result                0\n",
              "age_60_and_above       1728213\n",
              "gender                  591235\n",
              "test_indication              0\n",
              "dtype: int64"
            ]
          },
          "metadata": {},
          "execution_count": 6
        }
      ]
    },
    {
      "cell_type": "markdown",
      "metadata": {
        "id": "a70Zuvye0lGM"
      },
      "source": [
        "## Translating the Features from Hebrew to English"
      ]
    },
    {
      "cell_type": "code",
      "metadata": {
        "id": "pNhXISYZdvj8"
      },
      "source": [
        "def trans(x):\n",
        "  return translate(x,\"en\",\"auto\")"
      ],
      "execution_count": 7,
      "outputs": []
    },
    {
      "cell_type": "code",
      "metadata": {
        "id": "ld4ULr8jhz_b",
        "colab": {
          "base_uri": "https://localhost:8080/"
        },
        "outputId": "7ca7e1c7-11be-47e4-84fc-95a4af7e5910"
      },
      "source": [
        "# Corona Result Feature\n",
        "l = list(data['corona_result'].unique())\n",
        "print(\"Target Column Levels:\")\n",
        "for i in l:\n",
        "  print(i,trans(i))\n",
        "\n",
        "# Gender Feature\n",
        "l = list(data['gender'].unique())\n",
        "print(\"\\nGender Levels:\")\n",
        "for i in l:\n",
        "  if i is not l[2]:\n",
        "    print(i,trans(i))"
      ],
      "execution_count": 8,
      "outputs": [
        {
          "output_type": "stream",
          "name": "stdout",
          "text": [
            "Target Column Levels:\n",
            "שלילי Negative\n",
            "אחר Other\n",
            "חיובי Positive\n",
            "\n",
            "Gender Levels:\n",
            "נקבה female\n",
            "זכר male\n"
          ]
        }
      ]
    },
    {
      "cell_type": "code",
      "metadata": {
        "id": "re_SjFEmz4gF"
      },
      "source": [
        "def translate(data):\n",
        "  data = data.replace(to_replace =\"שלילי\", value =\"Negative\")\n",
        "  data = data.replace(to_replace =\"אחר\", value =\"Other\")\n",
        "  data = data.replace(to_replace =\"חיובי\", value =\"Positive\")\n",
        "  data = data.replace(to_replace =\"נקבה\", value =\"female\")\n",
        "  data = data.replace(to_replace =\"זכר\", value =\"male\")\n",
        "  return data \n",
        "\n",
        "data = translate(data)"
      ],
      "execution_count": 9,
      "outputs": []
    },
    {
      "cell_type": "markdown",
      "metadata": {
        "id": "S6M1sGHA2AwF"
      },
      "source": [
        "## Checking Translated Data"
      ]
    },
    {
      "cell_type": "code",
      "metadata": {
        "id": "1f-zUF88krMU",
        "colab": {
          "base_uri": "https://localhost:8080/"
        },
        "outputId": "b00cb002-7026-42ca-c545-1fa3939105d3"
      },
      "source": [
        "def show(data):\n",
        "  for i in data.columns[1:]:\n",
        "    print(\"Feature: {} with {} Levels\".format(i,data[i].unique()))\n",
        "\n",
        "show(data)"
      ],
      "execution_count": 10,
      "outputs": [
        {
          "output_type": "stream",
          "name": "stdout",
          "text": [
            "Feature: cough with [0 1] Levels\n",
            "Feature: fever with [0 1] Levels\n",
            "Feature: sore_throat with [0 1] Levels\n",
            "Feature: shortness_of_breath with [0 1] Levels\n",
            "Feature: head_ache with [0 1] Levels\n",
            "Feature: corona_result with ['Negative' 'Other' 'Positive'] Levels\n",
            "Feature: age_60_and_above with [nan 'Yes' 'No'] Levels\n",
            "Feature: gender with ['female' 'male' nan] Levels\n",
            "Feature: test_indication with ['Other' 'Contact with confirmed' 'Abroad'] Levels\n"
          ]
        }
      ]
    },
    {
      "cell_type": "markdown",
      "metadata": {
        "id": "o9PbY9ak1vhL"
      },
      "source": [
        "## Data Preprocessing"
      ]
    },
    {
      "cell_type": "code",
      "metadata": {
        "id": "5D6ha9Mm1y8b"
      },
      "source": [
        "# Omitting all rows with missing values\n",
        "data.dropna(inplace = True)\n",
        "\n",
        "# Dropping all rows where corona_result = Other\n",
        "data.drop(data[data['corona_result']==\"Other\"].index,inplace = True)"
      ],
      "execution_count": 11,
      "outputs": []
    },
    {
      "cell_type": "markdown",
      "metadata": {
        "id": "mVYdo05r3XN1"
      },
      "source": [
        "## Dividing the data Year Wise"
      ]
    },
    {
      "cell_type": "code",
      "metadata": {
        "id": "IYtQHPgrmYpt",
        "colab": {
          "base_uri": "https://localhost:8080/",
          "height": 206
        },
        "outputId": "4407e0bd-81ce-4ffd-f45c-78befa68f982"
      },
      "source": [
        "data['test_date'] = pd.to_datetime(data['test_date'])\n",
        "data = data.sort_values(by='test_date')\n",
        "data.head()"
      ],
      "execution_count": 12,
      "outputs": [
        {
          "output_type": "execute_result",
          "data": {
            "text/html": [
              "<div>\n",
              "<style scoped>\n",
              "    .dataframe tbody tr th:only-of-type {\n",
              "        vertical-align: middle;\n",
              "    }\n",
              "\n",
              "    .dataframe tbody tr th {\n",
              "        vertical-align: top;\n",
              "    }\n",
              "\n",
              "    .dataframe thead th {\n",
              "        text-align: right;\n",
              "    }\n",
              "</style>\n",
              "<table border=\"1\" class=\"dataframe\">\n",
              "  <thead>\n",
              "    <tr style=\"text-align: right;\">\n",
              "      <th></th>\n",
              "      <th>test_date</th>\n",
              "      <th>cough</th>\n",
              "      <th>fever</th>\n",
              "      <th>sore_throat</th>\n",
              "      <th>shortness_of_breath</th>\n",
              "      <th>head_ache</th>\n",
              "      <th>corona_result</th>\n",
              "      <th>age_60_and_above</th>\n",
              "      <th>gender</th>\n",
              "      <th>test_indication</th>\n",
              "    </tr>\n",
              "  </thead>\n",
              "  <tbody>\n",
              "    <tr>\n",
              "      <th>7799798</th>\n",
              "      <td>2020-03-20</td>\n",
              "      <td>0</td>\n",
              "      <td>0</td>\n",
              "      <td>0</td>\n",
              "      <td>0</td>\n",
              "      <td>0</td>\n",
              "      <td>Negative</td>\n",
              "      <td>No</td>\n",
              "      <td>male</td>\n",
              "      <td>Other</td>\n",
              "    </tr>\n",
              "    <tr>\n",
              "      <th>7798498</th>\n",
              "      <td>2020-03-20</td>\n",
              "      <td>0</td>\n",
              "      <td>0</td>\n",
              "      <td>0</td>\n",
              "      <td>0</td>\n",
              "      <td>0</td>\n",
              "      <td>Negative</td>\n",
              "      <td>No</td>\n",
              "      <td>male</td>\n",
              "      <td>Other</td>\n",
              "    </tr>\n",
              "    <tr>\n",
              "      <th>7798499</th>\n",
              "      <td>2020-03-20</td>\n",
              "      <td>0</td>\n",
              "      <td>0</td>\n",
              "      <td>0</td>\n",
              "      <td>0</td>\n",
              "      <td>0</td>\n",
              "      <td>Negative</td>\n",
              "      <td>No</td>\n",
              "      <td>female</td>\n",
              "      <td>Other</td>\n",
              "    </tr>\n",
              "    <tr>\n",
              "      <th>7798500</th>\n",
              "      <td>2020-03-20</td>\n",
              "      <td>0</td>\n",
              "      <td>0</td>\n",
              "      <td>0</td>\n",
              "      <td>0</td>\n",
              "      <td>0</td>\n",
              "      <td>Negative</td>\n",
              "      <td>No</td>\n",
              "      <td>female</td>\n",
              "      <td>Other</td>\n",
              "    </tr>\n",
              "    <tr>\n",
              "      <th>7798501</th>\n",
              "      <td>2020-03-20</td>\n",
              "      <td>0</td>\n",
              "      <td>0</td>\n",
              "      <td>0</td>\n",
              "      <td>0</td>\n",
              "      <td>0</td>\n",
              "      <td>Negative</td>\n",
              "      <td>No</td>\n",
              "      <td>male</td>\n",
              "      <td>Other</td>\n",
              "    </tr>\n",
              "  </tbody>\n",
              "</table>\n",
              "</div>"
            ],
            "text/plain": [
              "         test_date  cough  fever  ...  age_60_and_above  gender  test_indication\n",
              "7799798 2020-03-20      0      0  ...                No    male            Other\n",
              "7798498 2020-03-20      0      0  ...                No    male            Other\n",
              "7798499 2020-03-20      0      0  ...                No  female            Other\n",
              "7798500 2020-03-20      0      0  ...                No  female            Other\n",
              "7798501 2020-03-20      0      0  ...                No    male            Other\n",
              "\n",
              "[5 rows x 10 columns]"
            ]
          },
          "metadata": {},
          "execution_count": 12
        }
      ]
    },
    {
      "cell_type": "code",
      "metadata": {
        "id": "nHAUUrH93x7Q",
        "colab": {
          "base_uri": "https://localhost:8080/",
          "height": 206
        },
        "outputId": "634d8879-43e6-4825-f93e-8984d9f5c568"
      },
      "source": [
        "data.tail()"
      ],
      "execution_count": 13,
      "outputs": [
        {
          "output_type": "execute_result",
          "data": {
            "text/html": [
              "<div>\n",
              "<style scoped>\n",
              "    .dataframe tbody tr th:only-of-type {\n",
              "        vertical-align: middle;\n",
              "    }\n",
              "\n",
              "    .dataframe tbody tr th {\n",
              "        vertical-align: top;\n",
              "    }\n",
              "\n",
              "    .dataframe thead th {\n",
              "        text-align: right;\n",
              "    }\n",
              "</style>\n",
              "<table border=\"1\" class=\"dataframe\">\n",
              "  <thead>\n",
              "    <tr style=\"text-align: right;\">\n",
              "      <th></th>\n",
              "      <th>test_date</th>\n",
              "      <th>cough</th>\n",
              "      <th>fever</th>\n",
              "      <th>sore_throat</th>\n",
              "      <th>shortness_of_breath</th>\n",
              "      <th>head_ache</th>\n",
              "      <th>corona_result</th>\n",
              "      <th>age_60_and_above</th>\n",
              "      <th>gender</th>\n",
              "      <th>test_indication</th>\n",
              "    </tr>\n",
              "  </thead>\n",
              "  <tbody>\n",
              "    <tr>\n",
              "      <th>280113</th>\n",
              "      <td>2021-10-11</td>\n",
              "      <td>0</td>\n",
              "      <td>0</td>\n",
              "      <td>0</td>\n",
              "      <td>0</td>\n",
              "      <td>0</td>\n",
              "      <td>Negative</td>\n",
              "      <td>No</td>\n",
              "      <td>female</td>\n",
              "      <td>Other</td>\n",
              "    </tr>\n",
              "    <tr>\n",
              "      <th>280112</th>\n",
              "      <td>2021-10-11</td>\n",
              "      <td>0</td>\n",
              "      <td>0</td>\n",
              "      <td>0</td>\n",
              "      <td>0</td>\n",
              "      <td>0</td>\n",
              "      <td>Negative</td>\n",
              "      <td>No</td>\n",
              "      <td>female</td>\n",
              "      <td>Other</td>\n",
              "    </tr>\n",
              "    <tr>\n",
              "      <th>280111</th>\n",
              "      <td>2021-10-11</td>\n",
              "      <td>0</td>\n",
              "      <td>0</td>\n",
              "      <td>0</td>\n",
              "      <td>0</td>\n",
              "      <td>0</td>\n",
              "      <td>Negative</td>\n",
              "      <td>No</td>\n",
              "      <td>male</td>\n",
              "      <td>Other</td>\n",
              "    </tr>\n",
              "    <tr>\n",
              "      <th>280118</th>\n",
              "      <td>2021-10-11</td>\n",
              "      <td>0</td>\n",
              "      <td>0</td>\n",
              "      <td>0</td>\n",
              "      <td>0</td>\n",
              "      <td>0</td>\n",
              "      <td>Negative</td>\n",
              "      <td>No</td>\n",
              "      <td>female</td>\n",
              "      <td>Other</td>\n",
              "    </tr>\n",
              "    <tr>\n",
              "      <th>271754</th>\n",
              "      <td>2021-10-11</td>\n",
              "      <td>0</td>\n",
              "      <td>0</td>\n",
              "      <td>0</td>\n",
              "      <td>0</td>\n",
              "      <td>0</td>\n",
              "      <td>Negative</td>\n",
              "      <td>Yes</td>\n",
              "      <td>female</td>\n",
              "      <td>Other</td>\n",
              "    </tr>\n",
              "  </tbody>\n",
              "</table>\n",
              "</div>"
            ],
            "text/plain": [
              "        test_date  cough  fever  ...  age_60_and_above  gender  test_indication\n",
              "280113 2021-10-11      0      0  ...                No  female            Other\n",
              "280112 2021-10-11      0      0  ...                No  female            Other\n",
              "280111 2021-10-11      0      0  ...                No    male            Other\n",
              "280118 2021-10-11      0      0  ...                No  female            Other\n",
              "271754 2021-10-11      0      0  ...               Yes  female            Other\n",
              "\n",
              "[5 rows x 10 columns]"
            ]
          },
          "metadata": {},
          "execution_count": 13
        }
      ]
    },
    {
      "cell_type": "code",
      "metadata": {
        "id": "wd_BWzdenC6u"
      },
      "source": [
        "#df1 = data.loc[data['test_date'] < pd.to_datetime('2020-7-1')]\n",
        "#df2 = data.loc[(data['test_date'] >= pd.to_datetime('2020-7-1')) & (data['test_date'] < pd.to_datetime('2020-9-1'))]\n",
        "#df3 = data.loc[(data['test_date'] >= pd.to_datetime('2020-9-1')) & (data['test_date'] < pd.to_datetime('2021-1-1'))]\n",
        "#df4 = data.loc[(data['test_date'] >= pd.to_datetime('2021-1-1')) & (data['test_date'] < pd.to_datetime('2021-5-1'))]\n",
        "#df5 = data.loc[(data['test_date'] >= pd.to_datetime('2021-5-1')) & (data['test_date'] < pd.to_datetime('2021-8-1'))]\n",
        "#df6 = data.loc[data['test_date'] >= pd.to_datetime('2021-8-1')]\n",
        "df1 = data.loc[data['test_date'] < pd.to_datetime('2021-1-1')]\n",
        "df2 = data.loc[data['test_date'] >= pd.to_datetime('2021-1-1')]"
      ],
      "execution_count": 14,
      "outputs": []
    },
    {
      "cell_type": "markdown",
      "metadata": {
        "id": "oW6jlZxf5rAc"
      },
      "source": [
        "## Checking for both dataframes"
      ]
    },
    {
      "cell_type": "code",
      "metadata": {
        "id": "WhSQIQWZ5oQu",
        "colab": {
          "base_uri": "https://localhost:8080/"
        },
        "outputId": "73eb6630-31ed-44a7-8241-be050bb1900a"
      },
      "source": [
        "df1.info()"
      ],
      "execution_count": 15,
      "outputs": [
        {
          "output_type": "stream",
          "name": "stdout",
          "text": [
            "<class 'pandas.core.frame.DataFrame'>\n",
            "Int64Index: 3238373 entries, 7799798 to 3963486\n",
            "Data columns (total 10 columns):\n",
            " #   Column               Dtype         \n",
            "---  ------               -----         \n",
            " 0   test_date            datetime64[ns]\n",
            " 1   cough                int64         \n",
            " 2   fever                int64         \n",
            " 3   sore_throat          int64         \n",
            " 4   shortness_of_breath  int64         \n",
            " 5   head_ache            int64         \n",
            " 6   corona_result        object        \n",
            " 7   age_60_and_above     object        \n",
            " 8   gender               object        \n",
            " 9   test_indication      object        \n",
            "dtypes: datetime64[ns](1), int64(5), object(4)\n",
            "memory usage: 271.8+ MB\n"
          ]
        }
      ]
    },
    {
      "cell_type": "code",
      "metadata": {
        "id": "zN8qp1hdzWfI",
        "colab": {
          "base_uri": "https://localhost:8080/"
        },
        "outputId": "7afffedf-744d-42ea-b5b2-fe7222a81886"
      },
      "source": [
        "df2.info()"
      ],
      "execution_count": 16,
      "outputs": [
        {
          "output_type": "stream",
          "name": "stdout",
          "text": [
            "<class 'pandas.core.frame.DataFrame'>\n",
            "Int64Index: 2623107 entries, 3926173 to 271754\n",
            "Data columns (total 10 columns):\n",
            " #   Column               Dtype         \n",
            "---  ------               -----         \n",
            " 0   test_date            datetime64[ns]\n",
            " 1   cough                int64         \n",
            " 2   fever                int64         \n",
            " 3   sore_throat          int64         \n",
            " 4   shortness_of_breath  int64         \n",
            " 5   head_ache            int64         \n",
            " 6   corona_result        object        \n",
            " 7   age_60_and_above     object        \n",
            " 8   gender               object        \n",
            " 9   test_indication      object        \n",
            "dtypes: datetime64[ns](1), int64(5), object(4)\n",
            "memory usage: 220.1+ MB\n"
          ]
        }
      ]
    },
    {
      "cell_type": "code",
      "metadata": {
        "id": "FLgRkHYL57qo",
        "colab": {
          "base_uri": "https://localhost:8080/"
        },
        "outputId": "c3bba1b1-144d-44f4-ddf6-203fb52d358a"
      },
      "source": [
        "#df1.isnull().sum()\n",
        "#df2.isnull().sum()\n",
        "show(df1)"
      ],
      "execution_count": 18,
      "outputs": [
        {
          "output_type": "stream",
          "name": "stdout",
          "text": [
            "Feature: cough with [0 1] Levels\n",
            "Feature: fever with [0 1] Levels\n",
            "Feature: sore_throat with [0 1] Levels\n",
            "Feature: shortness_of_breath with [0 1] Levels\n",
            "Feature: head_ache with [0 1] Levels\n",
            "Feature: corona_result with ['Negative' 'Positive'] Levels\n",
            "Feature: age_60_and_above with ['No' 'Yes'] Levels\n",
            "Feature: gender with ['male' 'female'] Levels\n",
            "Feature: test_indication with ['Other' 'Abroad' 'Contact with confirmed'] Levels\n"
          ]
        }
      ]
    },
    {
      "cell_type": "code",
      "metadata": {
        "id": "8el16S-V6M80",
        "colab": {
          "base_uri": "https://localhost:8080/"
        },
        "outputId": "8153ead8-1f24-4915-ae04-5795542a2187"
      },
      "source": [
        "df1['corona_result'].value_counts()"
      ],
      "execution_count": 19,
      "outputs": [
        {
          "output_type": "execute_result",
          "data": {
            "text/plain": [
              "Negative    2979142\n",
              "Positive     259231\n",
              "Name: corona_result, dtype: int64"
            ]
          },
          "metadata": {},
          "execution_count": 19
        }
      ]
    },
    {
      "cell_type": "code",
      "metadata": {
        "id": "M7g1mj9a614L",
        "colab": {
          "base_uri": "https://localhost:8080/"
        },
        "outputId": "78c23116-8adb-47ec-db9f-3aa62849e9ab"
      },
      "source": [
        "df2['corona_result'].value_counts()"
      ],
      "execution_count": 20,
      "outputs": [
        {
          "output_type": "execute_result",
          "data": {
            "text/plain": [
              "Negative    2376665\n",
              "Positive     246442\n",
              "Name: corona_result, dtype: int64"
            ]
          },
          "metadata": {},
          "execution_count": 20
        }
      ]
    },
    {
      "cell_type": "markdown",
      "metadata": {
        "id": "5oO8vn9A9uF6"
      },
      "source": [
        "## Saving the data"
      ]
    },
    {
      "cell_type": "code",
      "metadata": {
        "id": "UdfNwesY3nNh"
      },
      "source": [
        "df1.to_csv(\"/content/drive/MyDrive/Sem 7 Project/covid_data_2020.csv\",index=False)\n",
        "df2.to_csv(\"/content/drive/MyDrive/Sem 7 Project/covid_data_2021.csv\",index=False)"
      ],
      "execution_count": 22,
      "outputs": []
    },
    {
      "cell_type": "markdown",
      "metadata": {
        "id": "I9g6OMeizdWG"
      },
      "source": [
        "## Conclusion "
      ]
    },
    {
      "cell_type": "markdown",
      "metadata": {
        "id": "O-0sWGZ_CRat"
      },
      "source": [
        "1. Data is of Israel Country.\n",
        "2. Data consists of 7810748 records (Mar 2020 to Nov 2021).\n",
        "3. Age_60_and_above has 1728213 Null Values & Gender has 591235 Null Values.\n",
        "4. Translating Features from Hebrew Language to English.\n",
        "5. Dropping NULL values and tuples where corona_result = \"Other\" to keep the problem as Binary Classification Problem.\n",
        "6. Dividing the Data Year Wise.\n",
        "\n",
        "  ![](https://raw.githubusercontent.com/mykeysid10/Sem-7-Covid/main/Phase-1-ML/Big%20Data%20Split.png?token=AQ3OOQ2NQUEAHWEHXH3TRSTBUTQJ6)\n",
        "7. References\n",
        "  * [Dataset Link](https://data.gov.il/dataset/covid-19/resource/d337959a-020a-4ed3-84f7-fca182292308?filters=)\n",
        "  * [ReadMe Pdf](https://github.com/mykeysid10/Sem-7-Covid/blob/main/Phase-1-ML/Dataset%20Description.pdf)\n"
      ]
    }
  ]
}