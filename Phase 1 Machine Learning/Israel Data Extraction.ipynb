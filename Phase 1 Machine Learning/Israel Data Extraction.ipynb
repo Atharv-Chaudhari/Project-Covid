{
  "nbformat": 4,
  "nbformat_minor": 0,
  "metadata": {
    "colab": {
      "name": "Israel Data Extraction",
      "provenance": [],
      "collapsed_sections": [
        "RD6ABo3F0WpE",
        "ySzksapS0ebX",
        "a70Zuvye0lGM",
        "S6M1sGHA2AwF",
        "o9PbY9ak1vhL",
        "mVYdo05r3XN1",
        "oW6jlZxf5rAc",
        "5oO8vn9A9uF6",
        "I9g6OMeizdWG"
      ]
    },
    "kernelspec": {
      "name": "python3",
      "display_name": "Python 3"
    },
    "language_info": {
      "name": "python"
    }
  },
  "cells": [
    {
      "cell_type": "markdown",
      "metadata": {
        "id": "RD6ABo3F0WpE"
      },
      "source": [
        "## Importing Necessary Libraries"
      ]
    },
    {
      "cell_type": "code",
      "metadata": {
        "colab": {
          "base_uri": "https://localhost:8080/"
        },
        "id": "9hIWJM1EeXo1",
        "outputId": "2427a2a5-50ea-463c-806b-b9e4c7fea4ad"
      },
      "source": [
        "!pip install mtranslate\n",
        "!pip install xlsxwriter"
      ],
      "execution_count": null,
      "outputs": [
        {
          "output_type": "stream",
          "name": "stdout",
          "text": [
            "Collecting mtranslate\n",
            "  Downloading mtranslate-1.8.tar.gz (2.4 kB)\n",
            "Building wheels for collected packages: mtranslate\n",
            "  Building wheel for mtranslate (setup.py) ... \u001b[?25l\u001b[?25hdone\n",
            "  Created wheel for mtranslate: filename=mtranslate-1.8-py3-none-any.whl size=3694 sha256=1ccb06df9b2974cc5313c982aef375630742c72a856fc78f7830fe624bade1fb\n",
            "  Stored in directory: /root/.cache/pip/wheels/a4/5d/18/6ea549ba042f5f29728049065bdc8a5cdb3c88a413bb026c9a\n",
            "Successfully built mtranslate\n",
            "Installing collected packages: mtranslate\n",
            "Successfully installed mtranslate-1.8\n",
            "Collecting xlsxwriter\n",
            "  Downloading XlsxWriter-3.0.2-py3-none-any.whl (149 kB)\n",
            "\u001b[K     |████████████████████████████████| 149 kB 5.4 MB/s \n",
            "\u001b[?25hInstalling collected packages: xlsxwriter\n",
            "Successfully installed xlsxwriter-3.0.2\n"
          ]
        }
      ]
    },
    {
      "cell_type": "code",
      "metadata": {
        "id": "mJrDmLB0PqcM"
      },
      "source": [
        "import pandas as pd\n",
        "import mtranslate\n",
        "from mtranslate import translate"
      ],
      "execution_count": null,
      "outputs": []
    },
    {
      "cell_type": "markdown",
      "metadata": {
        "id": "ySzksapS0ebX"
      },
      "source": [
        "## Loading the Data"
      ]
    },
    {
      "cell_type": "code",
      "metadata": {
        "colab": {
          "base_uri": "https://localhost:8080/"
        },
        "id": "1UpfNTDpVYoH",
        "outputId": "dbe491d9-d166-430f-bd82-2a363f112a12"
      },
      "source": [
        "data = pd.read_csv(\"/content/drive/MyDrive/Sem 7 Project/corona_tested_individuals_ver_00198.csv\")\n",
        "data.head()"
      ],
      "execution_count": null,
      "outputs": [
        {
          "output_type": "stream",
          "name": "stderr",
          "text": [
            "/usr/local/lib/python3.7/dist-packages/IPython/core/interactiveshell.py:2718: DtypeWarning: Columns (7,8) have mixed types.Specify dtype option on import or set low_memory=False.\n",
            "  interactivity=interactivity, compiler=compiler, result=result)\n"
          ]
        },
        {
          "output_type": "execute_result",
          "data": {
            "text/html": [
              "<div>\n",
              "<style scoped>\n",
              "    .dataframe tbody tr th:only-of-type {\n",
              "        vertical-align: middle;\n",
              "    }\n",
              "\n",
              "    .dataframe tbody tr th {\n",
              "        vertical-align: top;\n",
              "    }\n",
              "\n",
              "    .dataframe thead th {\n",
              "        text-align: right;\n",
              "    }\n",
              "</style>\n",
              "<table border=\"1\" class=\"dataframe\">\n",
              "  <thead>\n",
              "    <tr style=\"text-align: right;\">\n",
              "      <th></th>\n",
              "      <th>test_date</th>\n",
              "      <th>cough</th>\n",
              "      <th>fever</th>\n",
              "      <th>sore_throat</th>\n",
              "      <th>shortness_of_breath</th>\n",
              "      <th>head_ache</th>\n",
              "      <th>corona_result</th>\n",
              "      <th>age_60_and_above</th>\n",
              "      <th>gender</th>\n",
              "      <th>test_indication</th>\n",
              "    </tr>\n",
              "  </thead>\n",
              "  <tbody>\n",
              "    <tr>\n",
              "      <th>0</th>\n",
              "      <td>2021-11-14</td>\n",
              "      <td>0</td>\n",
              "      <td>0</td>\n",
              "      <td>0</td>\n",
              "      <td>0</td>\n",
              "      <td>0</td>\n",
              "      <td>שלילי</td>\n",
              "      <td>NaN</td>\n",
              "      <td>נקבה</td>\n",
              "      <td>Other</td>\n",
              "    </tr>\n",
              "    <tr>\n",
              "      <th>1</th>\n",
              "      <td>2021-11-14</td>\n",
              "      <td>0</td>\n",
              "      <td>0</td>\n",
              "      <td>0</td>\n",
              "      <td>0</td>\n",
              "      <td>0</td>\n",
              "      <td>שלילי</td>\n",
              "      <td>NaN</td>\n",
              "      <td>זכר</td>\n",
              "      <td>Other</td>\n",
              "    </tr>\n",
              "    <tr>\n",
              "      <th>2</th>\n",
              "      <td>2021-11-14</td>\n",
              "      <td>0</td>\n",
              "      <td>0</td>\n",
              "      <td>0</td>\n",
              "      <td>0</td>\n",
              "      <td>0</td>\n",
              "      <td>שלילי</td>\n",
              "      <td>NaN</td>\n",
              "      <td>נקבה</td>\n",
              "      <td>Other</td>\n",
              "    </tr>\n",
              "    <tr>\n",
              "      <th>3</th>\n",
              "      <td>2021-11-14</td>\n",
              "      <td>0</td>\n",
              "      <td>0</td>\n",
              "      <td>0</td>\n",
              "      <td>0</td>\n",
              "      <td>0</td>\n",
              "      <td>שלילי</td>\n",
              "      <td>NaN</td>\n",
              "      <td>זכר</td>\n",
              "      <td>Other</td>\n",
              "    </tr>\n",
              "    <tr>\n",
              "      <th>4</th>\n",
              "      <td>2021-11-14</td>\n",
              "      <td>0</td>\n",
              "      <td>0</td>\n",
              "      <td>0</td>\n",
              "      <td>0</td>\n",
              "      <td>0</td>\n",
              "      <td>שלילי</td>\n",
              "      <td>NaN</td>\n",
              "      <td>נקבה</td>\n",
              "      <td>Other</td>\n",
              "    </tr>\n",
              "  </tbody>\n",
              "</table>\n",
              "</div>"
            ],
            "text/plain": [
              "    test_date  cough  fever  ...  age_60_and_above  gender  test_indication\n",
              "0  2021-11-14      0      0  ...               NaN    נקבה            Other\n",
              "1  2021-11-14      0      0  ...               NaN     זכר            Other\n",
              "2  2021-11-14      0      0  ...               NaN    נקבה            Other\n",
              "3  2021-11-14      0      0  ...               NaN     זכר            Other\n",
              "4  2021-11-14      0      0  ...               NaN    נקבה            Other\n",
              "\n",
              "[5 rows x 10 columns]"
            ]
          },
          "metadata": {},
          "execution_count": 3
        }
      ]
    },
    {
      "cell_type": "code",
      "metadata": {
        "id": "zbC0HONLzppm",
        "colab": {
          "base_uri": "https://localhost:8080/"
        },
        "outputId": "9e80f9c8-b0a5-4202-ffd8-dca964274df1"
      },
      "source": [
        "data.info()"
      ],
      "execution_count": null,
      "outputs": [
        {
          "output_type": "stream",
          "name": "stdout",
          "text": [
            "<class 'pandas.core.frame.DataFrame'>\n",
            "RangeIndex: 7810748 entries, 0 to 7810747\n",
            "Data columns (total 10 columns):\n",
            " #   Column               Dtype \n",
            "---  ------               ----- \n",
            " 0   test_date            object\n",
            " 1   cough                int64 \n",
            " 2   fever                int64 \n",
            " 3   sore_throat          int64 \n",
            " 4   shortness_of_breath  int64 \n",
            " 5   head_ache            int64 \n",
            " 6   corona_result        object\n",
            " 7   age_60_and_above     object\n",
            " 8   gender               object\n",
            " 9   test_indication      object\n",
            "dtypes: int64(5), object(5)\n",
            "memory usage: 595.9+ MB\n"
          ]
        }
      ]
    },
    {
      "cell_type": "code",
      "metadata": {
        "id": "YDCJ8iF0zy-_",
        "colab": {
          "base_uri": "https://localhost:8080/"
        },
        "outputId": "e7e348a6-8e49-4150-adc2-ebb121a1303e"
      },
      "source": [
        "data.isnull().sum()"
      ],
      "execution_count": null,
      "outputs": [
        {
          "output_type": "execute_result",
          "data": {
            "text/plain": [
              "test_date                    0\n",
              "cough                        0\n",
              "fever                        0\n",
              "sore_throat                  0\n",
              "shortness_of_breath          0\n",
              "head_ache                    0\n",
              "corona_result                0\n",
              "age_60_and_above       1728213\n",
              "gender                  591235\n",
              "test_indication              0\n",
              "dtype: int64"
            ]
          },
          "metadata": {},
          "execution_count": 5
        }
      ]
    },
    {
      "cell_type": "markdown",
      "metadata": {
        "id": "a70Zuvye0lGM"
      },
      "source": [
        "## Translating the Features from Hebrew to English"
      ]
    },
    {
      "cell_type": "code",
      "metadata": {
        "id": "pNhXISYZdvj8"
      },
      "source": [
        "def trans(x):\n",
        "  return translate(x,\"en\",\"auto\")"
      ],
      "execution_count": null,
      "outputs": []
    },
    {
      "cell_type": "code",
      "metadata": {
        "id": "ld4ULr8jhz_b",
        "colab": {
          "base_uri": "https://localhost:8080/"
        },
        "outputId": "c7e4d193-17a7-4767-fc84-25a60576c468"
      },
      "source": [
        "# Corona Result Feature\n",
        "l = list(data['corona_result'].unique())\n",
        "print(\"Target Column Levels:\")\n",
        "for i in l:\n",
        "  print(i,trans(i))\n",
        "\n",
        "# Gender Feature\n",
        "l = list(data['gender'].unique())\n",
        "print(\"\\nGender Levels:\")\n",
        "for i in l:\n",
        "  if i is not l[2]:\n",
        "    print(i,trans(i))"
      ],
      "execution_count": null,
      "outputs": [
        {
          "output_type": "stream",
          "name": "stdout",
          "text": [
            "Target Column Levels:\n",
            "שלילי Negative\n",
            "אחר Other\n",
            "חיובי Positive\n",
            "\n",
            "Gender Levels:\n",
            "נקבה female\n",
            "זכר male\n"
          ]
        }
      ]
    },
    {
      "cell_type": "code",
      "metadata": {
        "id": "re_SjFEmz4gF"
      },
      "source": [
        "def translate(data):\n",
        "  data = data.replace(to_replace =\"שלילי\", value =\"Negative\")\n",
        "  data = data.replace(to_replace =\"אחר\", value =\"Other\")\n",
        "  data = data.replace(to_replace =\"חיובי\", value =\"Positive\")\n",
        "  data = data.replace(to_replace =\"נקבה\", value =\"female\")\n",
        "  data = data.replace(to_replace =\"זכר\", value =\"male\")\n",
        "  return data \n",
        "\n",
        "data = translate(data)"
      ],
      "execution_count": null,
      "outputs": []
    },
    {
      "cell_type": "markdown",
      "metadata": {
        "id": "S6M1sGHA2AwF"
      },
      "source": [
        "## Checking Translated Data"
      ]
    },
    {
      "cell_type": "code",
      "metadata": {
        "id": "1f-zUF88krMU",
        "colab": {
          "base_uri": "https://localhost:8080/"
        },
        "outputId": "7d88ad97-68eb-4724-d71b-94ccdb98e46a"
      },
      "source": [
        "def show(data):\n",
        "  for i in data.columns[1:]:\n",
        "    print(\"Feature: {} with {} Levels\".format(i,data[i].unique()))\n",
        "\n",
        "show(data)"
      ],
      "execution_count": null,
      "outputs": [
        {
          "output_type": "stream",
          "name": "stdout",
          "text": [
            "Feature: cough with [0 1] Levels\n",
            "Feature: fever with [0 1] Levels\n",
            "Feature: sore_throat with [0 1] Levels\n",
            "Feature: shortness_of_breath with [0 1] Levels\n",
            "Feature: head_ache with [0 1] Levels\n",
            "Feature: corona_result with ['Negative' 'Other' 'Positive'] Levels\n",
            "Feature: age_60_and_above with [nan 'Yes' 'No'] Levels\n",
            "Feature: gender with ['female' 'male' nan] Levels\n",
            "Feature: test_indication with ['Other' 'Contact with confirmed' 'Abroad'] Levels\n"
          ]
        }
      ]
    },
    {
      "cell_type": "markdown",
      "metadata": {
        "id": "o9PbY9ak1vhL"
      },
      "source": [
        "## Data Preprocessing"
      ]
    },
    {
      "cell_type": "code",
      "metadata": {
        "id": "5D6ha9Mm1y8b"
      },
      "source": [
        "# Omitting all rows with missing values\n",
        "data.dropna(inplace = True)\n",
        "\n",
        "# Dropping all rows where corona_result = Other\n",
        "data.drop(data[data['corona_result']==\"Other\"].index,inplace = True)"
      ],
      "execution_count": null,
      "outputs": []
    },
    {
      "cell_type": "markdown",
      "metadata": {
        "id": "pFtWFBqnsVH4"
      },
      "source": [
        "## Saving Total Data (Optional)"
      ]
    },
    {
      "cell_type": "code",
      "metadata": {
        "id": "1lPCN04hsZN4"
      },
      "source": [
        "data.to_csv(\"/content/drive/MyDrive/Sem 7 Project/covid_data_20-21.csv\",index=False)"
      ],
      "execution_count": null,
      "outputs": []
    }
  ]
}